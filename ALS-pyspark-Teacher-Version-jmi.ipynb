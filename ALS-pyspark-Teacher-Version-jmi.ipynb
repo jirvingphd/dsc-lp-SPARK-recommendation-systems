{
 "cells": [
  {
   "cell_type": "markdown",
   "metadata": {},
   "source": [
    "# Sect 41: Recommendation Systems"
   ]
  },
  {
   "cell_type": "markdown",
   "metadata": {
    "slideshow": {
     "slide_type": "slide"
    }
   },
   "source": [
    "# Building a Movie Recommendation System in PySpark - Lab Code-along\n",
    "![images of vhs tapes on shelf](img/movies.jpg)"
   ]
  },
  {
   "cell_type": "markdown",
   "metadata": {
    "slideshow": {
     "slide_type": "slide"
    }
   },
   "source": [
    "## Introduction\n",
    "\n",
    "In this last lab, we will implement a a movie recommendation system using Alternating Least Squares (ALS) in the Spark programming environment.<br> Spark's machine learning libraray `ml` comes packaged with a very efficient imeplementation of the ALS algorithm. \n",
    "\n",
    "The lab will require you to put into practice your spark programming skills for creating and manipulating pyspark DataFrames. We will go through a step-by-step process into developing a movie recommendation system using ALS and pyspark using the MovieLens Dataset.\n",
    "\n",
    "Note: You are advised to refer to [PySpark Documentation](http://spark.apache.org/docs/2.2.0/api/python/index.html) heavily for completing this lab as it will introduce a few new methods. "
   ]
  },
  {
   "cell_type": "markdown",
   "metadata": {
    "slideshow": {
     "slide_type": "slide"
    }
   },
   "source": [
    "## Objectives\n",
    "\n",
    "You will be able to:\n",
    "\n",
    "* Identify the key components of the ALS \n",
    "* Demonstrate an understanding on how recommendation systems are being used for personalization of online services/products\n",
    "* Parse and filter datasets into Spark DataFrame, performing basic feature selection\n",
    "* Run a brief hyper-parameter selection activity through a scalable grid search\n",
    "* Train and evaluate the predictive performance of recommendation system\n",
    "* Generate predictions from the trained model"
   ]
  },
  {
   "cell_type": "markdown",
   "metadata": {
    "slideshow": {
     "slide_type": "slide"
    }
   },
   "source": [
    "## Building a Recommendation System\n",
    "\n",
    "We have seen how recommender/Recommendation Systems have played an  integral parts in the success of Amazon (Books, Items), Pandora/Spotify (Music), Google (News, Search), YouTube (Videos) etc.  For Amazon these systems bring more than 30% of their total revenues. For Netflix service, 75% of movies that people watch are based on some sort of recommendation.\n",
    "\n",
    "> The goal of Recommendation Systems is to find what is likely to be of interest to the user. This enables organizations to offer a high level of personalization and customer tailored services."
   ]
  },
  {
   "cell_type": "markdown",
   "metadata": {
    "slideshow": {
     "slide_type": "slide"
    }
   },
   "source": [
    "### We sort of get the concept\n",
    "\n",
    "For online video content services like Netflix and Hulu, the need to build robust movie recommendation systems is extremely important. An example of recommendation system is such as this:\n",
    "\n",
    "1.    User A watches Game of Thrones and Breaking Bad.\n",
    "2.    User B performs a search query for Game of Thrones.\n",
    "3.    The system suggests Breaking Bad to user B from data collected about user A.\n",
    "\n",
    "\n",
    "This lab will guide you through a step-by-step process into developing such a movie recommendation system. We will use the MovieLens dataset to build a movie recommendation system using the collaborative filtering technique with Spark's Alternating Least Saqures implementation. After building that recommendation system, we will go through the process of adding a new user to the dataset with some new ratings and obtaining new recommendations for that user."
   ]
  },
  {
   "cell_type": "markdown",
   "metadata": {
    "slideshow": {
     "slide_type": "slide"
    }
   },
   "source": [
    "## Will Nightengale like Toy Story?\n",
    "\n",
    "Collaborative filtering and matrix decomposition allows us to use the history of others ratings, along with the entire community of ratings, to answer that question.\n",
    "\n",
    "![image1](img/collab.png)\n"
   ]
  },
  {
   "cell_type": "markdown",
   "metadata": {
    "slideshow": {
     "slide_type": "slide"
    }
   },
   "source": [
    "## Person vs vegetable\n",
    "\n",
    "It's important to realize that there are two sides to recommendation\n",
    "\n",
    "![image2](img/item_user_based.png)"
   ]
  },
  {
   "cell_type": "markdown",
   "metadata": {
    "slideshow": {
     "slide_type": "slide"
    }
   },
   "source": [
    "## Code for model\n",
    "\n",
    "If we wanted, we could jump to the code right now to make this happen."
   ]
  },
  {
   "cell_type": "markdown",
   "metadata": {
    "slideshow": {
     "slide_type": "slide"
    }
   },
   "source": [
    "But would we understand it?\n",
    "```\n",
    "from pyspark.ml.evaluation import RegressionEvaluator\n",
    "\n",
    "from pyspark.ml.recommendation import ALS, ALSModel\n",
    "\n",
    "als = ALS(\n",
    "    rank=10,\n",
    "    maxIter=10,\n",
    "    userCol='userId',\n",
    "    itemCol='movieId',\n",
    "    ratingCol='rating',\n",
    ")\n",
    "\n",
    "als_model = als.fit(movie_ratings)\n",
    "```"
   ]
  },
  {
   "cell_type": "markdown",
   "metadata": {
    "slideshow": {
     "slide_type": "slide"
    }
   },
   "source": [
    "## Documentation Station\n",
    "\n",
    "Let's explore the [documentation](http://spark.apache.org/docs/2.4.3/api/python/pyspark.ml.html#module-pyspark.ml.recommendation) together to maybe get a better idea of what is happening. \n",
    "\n",
    "- which parameters make sense?\n",
    "- which are completely foreign?"
   ]
  },
  {
   "cell_type": "markdown",
   "metadata": {
    "slideshow": {
     "slide_type": "slide"
    }
   },
   "source": [
    "## Rank\n",
    "\n",
    "What's all this rank of the factorization business?<br>\n",
    "[the source code documentation](https://github.com/apache/spark/blob/master/mllib/src/main/scala/org/apache/spark/mllib/recommendation/ALS.scala) describes that variable as the \"Rank of the feature matrices\""
   ]
  },
  {
   "cell_type": "markdown",
   "metadata": {
    "slideshow": {
     "slide_type": "slide"
    }
   },
   "source": [
    "## Assumptions\n",
    "\n",
    "Matrix decomposition is built on the theory that every individual (user, movie) score is actually the **dot product** of two separate vectors:\n",
    "- user characteristics \n",
    "- movie characteristics"
   ]
  },
  {
   "cell_type": "markdown",
   "metadata": {
    "slideshow": {
     "slide_type": "slide"
    }
   },
   "source": [
    "Wait, do you mean like gender, whether the movie is sci-fi or action? Do we have that data?"
   ]
  },
  {
   "cell_type": "markdown",
   "metadata": {
    "slideshow": {
     "slide_type": "slide"
    }
   },
   "source": [
    "![beyonce-gif](img/beyonce.gif)"
   ]
  },
  {
   "cell_type": "markdown",
   "metadata": {
    "slideshow": {
     "slide_type": "slide"
    }
   },
   "source": [
    "## Huh?\n",
    "![what](img/what.gif)"
   ]
  },
  {
   "cell_type": "markdown",
   "metadata": {
    "slideshow": {
     "slide_type": "slide"
    }
   },
   "source": [
    "## The hidden matricies \n",
    "![image4](img/matrix_decomp.png)"
   ]
  },
  {
   "cell_type": "markdown",
   "metadata": {
    "slideshow": {
     "slide_type": "slide"
    }
   },
   "source": [
    "## Embeddings\n",
    "\n",
    "Embeddings are low dimensional hidden factors for items and users.\n",
    "\n",
    "For e.g. say we have 5 dimensional (i.e., **rank** = 5) embeddings for both items and users (5 chosen randomly, this could be any number - as we saw with PCA and dim. reduction).\n",
    "\n",
    "For user-X & movie-A, we can say those 5 numbers might represent 5 different characteristics about the movie e.g.:\n",
    "\n",
    "- How much movie-A is political\n",
    "- How recent is the movie\n",
    "- How much special effects are in movie A\n",
    "- How dialogue driven is the movie\n",
    "- How linear is the narrative in the movie\n",
    "\n",
    "In a similar way, 5 numbers in the user embedding matrix might represent:\n",
    "\n",
    "- How much does user-X like sci-fi movies\n",
    "- How much does user-X like recent movies … and so on.\n",
    "\n",
    "But we have *no actual idea* what those factors actually represent."
   ]
  },
  {
   "cell_type": "markdown",
   "metadata": {
    "slideshow": {
     "slide_type": "slide"
    }
   },
   "source": [
    "### If we knew the feature embeddings in advance, it would look something like this:"
   ]
  },
  {
   "cell_type": "code",
   "execution_count": 107,
   "metadata": {
    "slideshow": {
     "slide_type": "slide"
    }
   },
   "outputs": [
    {
     "name": "stdout",
     "output_type": "stream",
     "text": [
      "(4, 3) (5, 3)\n"
     ]
    }
   ],
   "source": [
    "import numpy as np\n",
    "\n",
    "# the original matrix of rankings\n",
    "R = np.array([[2, np.nan, np.nan, 1, 4],\n",
    "       [5, 1, 2, np.nan, 2],\n",
    "       [3, np.nan, np.nan, 3, np.nan],\n",
    "       [1, np.nan, 4, 2, 1]])\n",
    "\n",
    "# users X factors\n",
    "P =np.array([[-0.63274434,  1.33686735, -1.55128517],\n",
    "       [-2.23813661,  0.5123861 ,  0.14087293],\n",
    "       [-1.0289794 ,  1.62052691,  0.21027516],\n",
    "       [-0.06422255,  1.62892864,  0.33350709]])\n",
    "\n",
    "# factors X items\n",
    "Q = np.array([[-2.09507374,  0.52351075,  0.01826269],\n",
    "       [-0.45078775, -0.07334991,  0.18731052],\n",
    "       [-0.34161766,  2.46215058, -0.18942263],\n",
    "       [-1.0925736 ,  1.04664756,  0.69963111],\n",
    "       [-0.78152923,  0.89189076, -1.47144019]])\n",
    "\n",
    "print(P.shape, Q.shape)"
   ]
  },
  {
   "cell_type": "markdown",
   "metadata": {
    "slideshow": {
     "slide_type": "slide"
    }
   },
   "source": [
    "What about that `np.nan` in the third row, last column? How will that item be reviewed by that user?"
   ]
  },
  {
   "cell_type": "code",
   "execution_count": 108,
   "metadata": {
    "slideshow": {
     "slide_type": "slide"
    }
   },
   "outputs": [
    {
     "name": "stdout",
     "output_type": "stream",
     "text": [
      "[-1.0289794   1.62052691  0.21027516]\n",
      "\n",
      "[-0.78152923  0.89189076 -1.47144019]\n"
     ]
    },
    {
     "data": {
      "text/plain": [
       "1.9401031341455333"
      ]
     },
     "execution_count": 108,
     "metadata": {},
     "output_type": "execute_result"
    }
   ],
   "source": [
    "print(P[2])\n",
    "print()\n",
    "print(Q.T[:,4])\n",
    "P[2].dot(Q.T[:,4])"
   ]
  },
  {
   "cell_type": "markdown",
   "metadata": {
    "slideshow": {
     "slide_type": "slide"
    }
   },
   "source": [
    "## Wait, I saw a transpose in there - what's the actual formula?\n",
    "\n",
    "Terms:<br>\n",
    "$R$ is the full user-item rating matrix\n",
    "\n",
    "$P$ is a matrix that contains the users and the k factors represented as (user,factor)\n",
    "\n",
    "$Q^T$ is a matrix that contains the items and the k factors represented as\n",
    "\n",
    "$r̂_{u,i}$ represents our prediction for the true rating $r_{ui}$ In order to get an individual rating, you must take the dot product of a row of P and a column of Q\n",
    "\n",
    "for the entire matrix:\n",
    "$$ R = PQ^T $$ \n",
    "\n",
    "or for individual ratings\n",
    "\n",
    "$$r̂_{u,i}=q_i^⊤p_u $$ \n",
    "\n",
    "\n",
    "\n"
   ]
  },
  {
   "cell_type": "markdown",
   "metadata": {
    "slideshow": {
     "slide_type": "slide"
    }
   },
   "source": [
    "### Let's get the whole matrix!"
   ]
  },
  {
   "cell_type": "code",
   "execution_count": 109,
   "metadata": {
    "slideshow": {
     "slide_type": "slide"
    }
   },
   "outputs": [
    {
     "data": {
      "text/plain": [
       "array([[ 1.99717984, -0.10339773,  3.80157388,  1.00522135,  3.96947118],\n",
       "       [ 4.95987359,  0.99772807,  1.9994742 ,  3.08017572,  1.99887552],\n",
       "       [ 3.00799117,  0.38437256,  4.30166793,  2.96747131,  1.94010313],\n",
       "       [ 0.99340337, -0.02806164,  3.96943336,  2.00841398,  1.01228247]])"
      ]
     },
     "execution_count": 109,
     "metadata": {},
     "output_type": "execute_result"
    }
   ],
   "source": [
    "P.dot(Q.T)"
   ]
  },
  {
   "cell_type": "markdown",
   "metadata": {
    "slideshow": {
     "slide_type": "slide"
    }
   },
   "source": [
    "### Look at those results\n",
    "\n",
    "Are they _exactly_ correct?\n",
    "![check](img/check.gif)"
   ]
  },
  {
   "cell_type": "markdown",
   "metadata": {
    "slideshow": {
     "slide_type": "slide"
    }
   },
   "source": [
    "## ALS benefit: Loss Function\n",
    "\n",
    "The Loss function $L$ can be calculated as:\n",
    "\n",
    "$$ L = \\sum_{u,i ∈ \\kappa}(r_{u,i}− q_i^T p_u)^2 + λ( ||q_i||^2 + |p_u||^2)$$\n",
    "\n",
    "Where $\\kappa$ is the set of (u,i) pairs for which $r_{u,i}$ is known.\n",
    "\n",
    "To avoid overfitting, the loss function also includes a regularization parameter $\\lambda$. We will choose a $\\lambda$ to minimize the square of the difference between all ratings in our dataset $R$ and our predictions.\n",
    "\n",
    "There's the **least squares** part of ALS, got it!"
   ]
  },
  {
   "cell_type": "markdown",
   "metadata": {
    "slideshow": {
     "slide_type": "slide"
    }
   },
   "source": [
    "## So now we use gradient decent, right?"
   ]
  },
  {
   "cell_type": "markdown",
   "metadata": {
    "slideshow": {
     "slide_type": "slide"
    }
   },
   "source": [
    "![incorrect](img/incorrect.gif)"
   ]
  },
  {
   "cell_type": "markdown",
   "metadata": {
    "slideshow": {
     "slide_type": "slide"
    }
   },
   "source": [
    "### Here comes the alternating part\n",
    "\n",
    "ALS alternates between holding the $q_i$'s constant and the $p_u$'s constant. \n",
    "\n",
    "While all $q_i$'s are held constant, each $p_u$ is computed by solving the least squared problem.<br>\n",
    "After that process has taken place, all the $p_u$'s are held constant while the $q_i$'s are altered to solve the least squares problem, again, each independently.<br> \n",
    "This process repeats many times until you've reached convergence (ideally)."
   ]
  },
  {
   "cell_type": "markdown",
   "metadata": {
    "slideshow": {
     "slide_type": "slide"
    }
   },
   "source": [
    "### Changing Loss function:\n",
    "\n",
    "First let's assume first the item vectors are fixed, we first solve for the user vectors:\n",
    "\n",
    "$$p_u=(\\sum{r{u,i}\\in r_{u*}}{q_iq_i^T + \\lambda I_k})^{-1}\\sum_{r_{u,i}\\in r_{u*}}{r_{ui}{q_{i}}}$$__\n",
    "Then we hold the user vectors constant and solve for the item vectors\n",
    "\n",
    "$$q_i=(\\sum{r{u,i}\\in r_{i*}}{p_up_u^T + \\lambda I_k})^{-1}\\sum_{r_{u,i}\\in r_{u*}}{r_{ui}{p_{u}}}$$__\n",
    "This process repeats until convergence"
   ]
  },
  {
   "cell_type": "markdown",
   "metadata": {
    "slideshow": {
     "slide_type": "slide"
    }
   },
   "source": [
    "# Review\n",
    "What levers do we have available to adjust?\n",
    "![lever-choice](img/levers.jpeg)\n",
    "\n",
    "- Pros and cons of large rank?\n",
    "- Pros and cons of lambda size?\n",
    "- Iterations?"
   ]
  },
  {
   "cell_type": "markdown",
   "metadata": {
    "slideshow": {
     "slide_type": "slide"
    }
   },
   "source": [
    "# Enough - let's get to the data"
   ]
  },
  {
   "cell_type": "markdown",
   "metadata": {
    "slideshow": {
     "slide_type": "slide"
    }
   },
   "source": [
    "### Importing the Data\n",
    "To begin with:\n",
    "* initialize a SparkSession object\n",
    "* import the dataset found at './data/ratings.csv' into a pyspark DataFrame"
   ]
  },
  {
   "cell_type": "code",
   "execution_count": 110,
   "metadata": {
    "slideshow": {
     "slide_type": "slide"
    }
   },
   "outputs": [
    {
     "name": "stdout",
     "output_type": "stream",
     "text": [
      "PYTHONPATH=/usr/local/spark/python:/usr/local/spark/python/lib/py4j-0.10.7-src.zip\r\n"
     ]
    }
   ],
   "source": [
    "# import necessary libraries\n",
    "!env | grep PYTHONPATH"
   ]
  },
  {
   "cell_type": "code",
   "execution_count": 111,
   "metadata": {
    "slideshow": {
     "slide_type": "slide"
    }
   },
   "outputs": [],
   "source": [
    "import pyspark\n",
    "\n",
    "spark = (pyspark.sql.SparkSession.builder \n",
    "  .master(\"local[*]\")\n",
    "  .getOrCreate())"
   ]
  },
  {
   "cell_type": "code",
   "execution_count": 112,
   "metadata": {
    "slideshow": {
     "slide_type": "slide"
    }
   },
   "outputs": [
    {
     "name": "stdout",
     "output_type": "stream",
     "text": [
      "movies.csv  ratings.csv\r\n"
     ]
    }
   ],
   "source": [
    "!ls data/"
   ]
  },
  {
   "cell_type": "code",
   "execution_count": 113,
   "metadata": {
    "slideshow": {
     "slide_type": "slide"
    }
   },
   "outputs": [
    {
     "name": "stdout",
     "output_type": "stream",
     "text": [
      "/bin/sh: 1: file: not found\r\n"
     ]
    }
   ],
   "source": [
    "!file data/ratings.csv"
   ]
  },
  {
   "cell_type": "code",
   "execution_count": 114,
   "metadata": {
    "slideshow": {
     "slide_type": "slide"
    }
   },
   "outputs": [
    {
     "name": "stdout",
     "output_type": "stream",
     "text": [
      "userId,movieId,rating,timestamp\r",
      "\r\n",
      "1,1,4.0,964982703\r",
      "\r\n",
      "1,3,4.0,964981247\r",
      "\r\n",
      "1,6,4.0,964982224\r",
      "\r\n",
      "1,47,5.0,964983815\r",
      "\r\n",
      "1,50,5.0,964982931\r",
      "\r\n",
      "1,70,3.0,964982400\r",
      "\r\n",
      "1,101,5.0,964980868\r",
      "\r\n",
      "1,110,4.0,964982176\r",
      "\r\n",
      "1,151,5.0,964984041\r",
      "\r\n"
     ]
    }
   ],
   "source": [
    "!head data/ratings.csv"
   ]
  },
  {
   "cell_type": "code",
   "execution_count": 115,
   "metadata": {
    "slideshow": {
     "slide_type": "slide"
    }
   },
   "outputs": [],
   "source": [
    "# read in the dataset into pyspark DataFrame\n",
    "movie_ratings = spark.read.csv('data/ratings.csv',\n",
    "                               inferSchema=True,\n",
    "                               header=True)"
   ]
  },
  {
   "cell_type": "markdown",
   "metadata": {
    "slideshow": {
     "slide_type": "slide"
    }
   },
   "source": [
    "Check the data types of each of the values to ensure that they are a type that makes sense given the column."
   ]
  },
  {
   "cell_type": "code",
   "execution_count": 116,
   "metadata": {
    "slideshow": {
     "slide_type": "slide"
    }
   },
   "outputs": [
    {
     "name": "stdout",
     "output_type": "stream",
     "text": [
      "root\n",
      " |-- userId: integer (nullable = true)\n",
      " |-- movieId: integer (nullable = true)\n",
      " |-- rating: double (nullable = true)\n",
      " |-- timestamp: integer (nullable = true)\n",
      "\n"
     ]
    }
   ],
   "source": [
    "movie_ratings.printSchema()"
   ]
  },
  {
   "cell_type": "markdown",
   "metadata": {
    "slideshow": {
     "slide_type": "slide"
    }
   },
   "source": [
    "But if they were ever incorrectly assigned, here's how we fix it:"
   ]
  },
  {
   "cell_type": "code",
   "execution_count": 117,
   "metadata": {
    "slideshow": {
     "slide_type": "slide"
    }
   },
   "outputs": [],
   "source": [
    "from pyspark.sql.types import (\n",
    "    ArrayType,\n",
    "    AtomicType,\n",
    "    BinaryType,\n",
    "    BooleanType,\n",
    "    ByteType,\n",
    "    CloudPickleSerializer,\n",
    "    DataType,\n",
    "    DataTypeSingleton,\n",
    "    DateConverter,\n",
    "    DateType,\n",
    "    DatetimeConverter,\n",
    "    DecimalType,\n",
    "    DoubleType,\n",
    "    FloatType,\n",
    "    FractionalType,\n",
    "    IntegerType,\n",
    "    IntegralType,\n",
    "    JavaClass,\n",
    "    LongType,\n",
    "    MapType,\n",
    "    NullType,\n",
    "    NumericType,\n",
    "    Row,\n",
    "    ShortType,\n",
    "    SparkContext,\n",
    "    StringType,\n",
    "    StructField,\n",
    "    StructType,\n",
    "    TimestampType,\n",
    "    UserDefinedType,\n",
    ")"
   ]
  },
  {
   "cell_type": "code",
   "execution_count": 118,
   "metadata": {
    "slideshow": {
     "slide_type": "slide"
    }
   },
   "outputs": [],
   "source": [
    "schema = StructType(\n",
    "    [\n",
    "        StructField('userId', IntegerType()),\n",
    "        StructField('movieId', IntegerType()),\n",
    "        StructField('rating', FloatType()),\n",
    "        StructField('timestamp', LongType()),\n",
    "    ]\n",
    ")"
   ]
  },
  {
   "cell_type": "code",
   "execution_count": 119,
   "metadata": {
    "slideshow": {
     "slide_type": "slide"
    }
   },
   "outputs": [],
   "source": [
    "# read in the dataset into pyspark DataFrame\n",
    "movie_ratings = spark.read.csv('data/ratings.csv',\n",
    "                               inferSchema=False,\n",
    "                               schema=schema,\n",
    "                               header=True)"
   ]
  },
  {
   "cell_type": "code",
   "execution_count": 120,
   "metadata": {
    "slideshow": {
     "slide_type": "slide"
    }
   },
   "outputs": [
    {
     "data": {
      "text/plain": [
       "DataFrame[userId: int, movieId: int, rating: float, timestamp: bigint]"
      ]
     },
     "execution_count": 120,
     "metadata": {},
     "output_type": "execute_result"
    }
   ],
   "source": [
    "movie_ratings.persist()"
   ]
  },
  {
   "cell_type": "code",
   "execution_count": 121,
   "metadata": {
    "slideshow": {
     "slide_type": "slide"
    }
   },
   "outputs": [
    {
     "name": "stdout",
     "output_type": "stream",
     "text": [
      "root\n",
      " |-- userId: integer (nullable = true)\n",
      " |-- movieId: integer (nullable = true)\n",
      " |-- rating: float (nullable = true)\n",
      " |-- timestamp: long (nullable = true)\n",
      "\n"
     ]
    }
   ],
   "source": [
    "movie_ratings.printSchema()"
   ]
  },
  {
   "cell_type": "code",
   "execution_count": 122,
   "metadata": {
    "slideshow": {
     "slide_type": "slide"
    }
   },
   "outputs": [
    {
     "data": {
      "text/plain": [
       "pyspark.sql.dataframe.DataFrame"
      ]
     },
     "execution_count": 122,
     "metadata": {},
     "output_type": "execute_result"
    }
   ],
   "source": [
    "type(movie_ratings)"
   ]
  },
  {
   "cell_type": "code",
   "execution_count": 123,
   "metadata": {
    "slideshow": {
     "slide_type": "slide"
    }
   },
   "outputs": [
    {
     "name": "stdout",
     "output_type": "stream",
     "text": [
      "+------+-------+------+---------+\n",
      "|userId|movieId|rating|timestamp|\n",
      "+------+-------+------+---------+\n",
      "|     1|      1|   4.0|964982703|\n",
      "|     1|      3|   4.0|964981247|\n",
      "|     1|      6|   4.0|964982224|\n",
      "|     1|     47|   5.0|964983815|\n",
      "|     1|     50|   5.0|964982931|\n",
      "|     1|     70|   3.0|964982400|\n",
      "|     1|    101|   5.0|964980868|\n",
      "|     1|    110|   4.0|964982176|\n",
      "|     1|    151|   5.0|964984041|\n",
      "|     1|    157|   5.0|964984100|\n",
      "|     1|    163|   5.0|964983650|\n",
      "|     1|    216|   5.0|964981208|\n",
      "|     1|    223|   3.0|964980985|\n",
      "|     1|    231|   5.0|964981179|\n",
      "|     1|    235|   4.0|964980908|\n",
      "|     1|    260|   5.0|964981680|\n",
      "|     1|    296|   3.0|964982967|\n",
      "|     1|    316|   3.0|964982310|\n",
      "|     1|    333|   5.0|964981179|\n",
      "|     1|    349|   4.0|964982563|\n",
      "+------+-------+------+---------+\n",
      "only showing top 20 rows\n",
      "\n"
     ]
    }
   ],
   "source": [
    "movie_ratings.show()"
   ]
  },
  {
   "cell_type": "markdown",
   "metadata": {
    "slideshow": {
     "slide_type": "slide"
    }
   },
   "source": [
    "We aren't going to need the time stamp, so we can go ahead and remove that column."
   ]
  },
  {
   "cell_type": "code",
   "execution_count": 124,
   "metadata": {
    "slideshow": {
     "slide_type": "slide"
    }
   },
   "outputs": [
    {
     "name": "stdout",
     "output_type": "stream",
     "text": [
      "+------+-------+------+\n",
      "|userId|movieId|rating|\n",
      "+------+-------+------+\n",
      "|     1|      1|   4.0|\n",
      "|     1|      3|   4.0|\n",
      "|     1|      6|   4.0|\n",
      "|     1|     47|   5.0|\n",
      "|     1|     50|   5.0|\n",
      "+------+-------+------+\n",
      "only showing top 5 rows\n",
      "\n"
     ]
    }
   ],
   "source": [
    "movie_ratings = movie_ratings.drop('timestamp') #what do we put here?\n",
    "movie_ratings.show(5)"
   ]
  },
  {
   "cell_type": "markdown",
   "metadata": {
    "slideshow": {
     "slide_type": "slide"
    }
   },
   "source": [
    "### Fitting the Alternating Least Squares Model"
   ]
  },
  {
   "cell_type": "markdown",
   "metadata": {
    "slideshow": {
     "slide_type": "slide"
    }
   },
   "source": [
    "Because this dataset is already preprocessed for us, we can go ahead and fit the Alternating Least Squares model.\n",
    "\n",
    "* Use the randomSplit method on the pyspark DataFrame to separate the dataset into a training and test set\n",
    "* Import the ALS module from pyspark.ml.recommendation.\n",
    "* Fit the Alternating Least Squares Model to the training dataset. Make sure to set the userCol, itemCol, and ratingCol to the appropriate names given this dataset. Then fit the data to the training set and assign it to a variable model. "
   ]
  },
  {
   "cell_type": "markdown",
   "metadata": {
    "slideshow": {
     "slide_type": "slide"
    }
   },
   "source": [
    "### Train-Test Split\n",
    "\n",
    "Split the data into training and testing sets."
   ]
  },
  {
   "cell_type": "code",
   "execution_count": 125,
   "metadata": {
    "slideshow": {
     "slide_type": "notes"
    }
   },
   "outputs": [
    {
     "data": {
      "text/plain": [
       "100836"
      ]
     },
     "execution_count": 125,
     "metadata": {},
     "output_type": "execute_result"
    }
   ],
   "source": [
    "movie_ratings.count()"
   ]
  },
  {
   "cell_type": "code",
   "execution_count": 126,
   "metadata": {
    "slideshow": {
     "slide_type": "notes"
    }
   },
   "outputs": [
    {
     "name": "stdout",
     "output_type": "stream",
     "text": [
      "Training Size: 80737, Testing Size: 20099\n",
      "Training Size: 0.800676345749534, Testing Size: 0.1993236542504661\n"
     ]
    }
   ],
   "source": [
    "train_data , test_data = movie_ratings.randomSplit([.8, .2])\n",
    "print(\"Training Size: {}, Testing Size: {}\".format(train_data.count(), test_data.count()))\n",
    "length = movie_ratings.count()\n",
    "print(\"Training Size: {}, Testing Size: {}\".format(train_data.count()/length, test_data.count()/length))"
   ]
  },
  {
   "cell_type": "code",
   "execution_count": 127,
   "metadata": {
    "slideshow": {
     "slide_type": "slide"
    }
   },
   "outputs": [],
   "source": [
    "from pyspark.ml.evaluation import RegressionEvaluator\n",
    "from pyspark.ml.recommendation import ALS, ALSModel\n",
    "\n",
    "als = ALS(\n",
    "    rank=10,\n",
    "    maxIter=10,\n",
    "    userCol='userId',\n",
    "    itemCol='movieId',\n",
    "    ratingCol='rating',\n",
    ")"
   ]
  },
  {
   "cell_type": "code",
   "execution_count": 128,
   "metadata": {
    "slideshow": {
     "slide_type": "slide"
    }
   },
   "outputs": [],
   "source": [
    "# Build the recommendation model using ALS on the training data\n",
    "# fit the ALS model to the training set\n",
    "\n",
    "als_model = als.fit(train_data)"
   ]
  },
  {
   "cell_type": "markdown",
   "metadata": {
    "slideshow": {
     "slide_type": "slide"
    }
   },
   "source": [
    "Now you've fit the model, and it's time to evaluate it to determine just how well it performed.\n",
    "\n",
    "* Import `RegressionEvalutor` from pyspark.ml.evaluation [documentation](http://spark.apache.org/docs/2.4.3/api/python/pyspark.ml.html#pyspark.ml.evaluation.RegressionEvaluator)\n",
    "* Generate predictions with your model for the train and test set by using the `transform` method on your ALS model\n",
    "* Evaluate your model and print out the RMSE from your test set [options for evaluating regressors](http://spark.apache.org/docs/2.4.3/api/python/pyspark.ml.html#pyspark.ml.evaluation.RegressionEvaluator.metricName)"
   ]
  },
  {
   "cell_type": "code",
   "execution_count": 129,
   "metadata": {
    "slideshow": {
     "slide_type": "notes"
    }
   },
   "outputs": [],
   "source": [
    "ALSModel.transform?"
   ]
  },
  {
   "cell_type": "code",
   "execution_count": 130,
   "metadata": {
    "slideshow": {
     "slide_type": "notes"
    }
   },
   "outputs": [],
   "source": [
    "train_predictions = als_model.transform(train_data)\n",
    "test_predictions = als_model.transform(test_data)"
   ]
  },
  {
   "cell_type": "code",
   "execution_count": 131,
   "metadata": {
    "slideshow": {
     "slide_type": "notes"
    }
   },
   "outputs": [
    {
     "data": {
      "text/plain": [
       "DataFrame[userId: int, movieId: int, rating: float, prediction: float]"
      ]
     },
     "execution_count": 131,
     "metadata": {},
     "output_type": "execute_result"
    }
   ],
   "source": [
    "train_predictions.persist()\n",
    "test_predictions.persist()"
   ]
  },
  {
   "cell_type": "code",
   "execution_count": 132,
   "metadata": {
    "slideshow": {
     "slide_type": "notes"
    }
   },
   "outputs": [
    {
     "name": "stdout",
     "output_type": "stream",
     "text": [
      "+------+-------+------+\n",
      "|userId|movieId|rating|\n",
      "+------+-------+------+\n",
      "|     1|      1|   4.0|\n",
      "+------+-------+------+\n",
      "only showing top 1 row\n",
      "\n"
     ]
    }
   ],
   "source": [
    "movie_ratings.show(1)"
   ]
  },
  {
   "cell_type": "code",
   "execution_count": 133,
   "metadata": {
    "slideshow": {
     "slide_type": "notes"
    }
   },
   "outputs": [
    {
     "name": "stdout",
     "output_type": "stream",
     "text": [
      "+------+-------+------+----------+\n",
      "|userId|movieId|rating|prediction|\n",
      "+------+-------+------+----------+\n",
      "|   191|    148|   5.0|   4.92967|\n",
      "+------+-------+------+----------+\n",
      "only showing top 1 row\n",
      "\n"
     ]
    }
   ],
   "source": [
    "train_predictions.show(1)"
   ]
  },
  {
   "cell_type": "code",
   "execution_count": 134,
   "metadata": {
    "slideshow": {
     "slide_type": "notes"
    }
   },
   "outputs": [
    {
     "name": "stdout",
     "output_type": "stream",
     "text": [
      "+------+-------+------+----------+\n",
      "|userId|movieId|rating|prediction|\n",
      "+------+-------+------+----------+\n",
      "|   436|    471|   3.0| 3.5559504|\n",
      "+------+-------+------+----------+\n",
      "only showing top 1 row\n",
      "\n"
     ]
    }
   ],
   "source": [
    "test_predictions.show(1)"
   ]
  },
  {
   "cell_type": "code",
   "execution_count": 135,
   "metadata": {
    "slideshow": {
     "slide_type": "notes"
    }
   },
   "outputs": [],
   "source": [
    "user_factors = als_model.userFactors"
   ]
  },
  {
   "cell_type": "code",
   "execution_count": 136,
   "metadata": {
    "slideshow": {
     "slide_type": "notes"
    }
   },
   "outputs": [
    {
     "data": {
      "text/plain": [
       "DataFrame[id: int, features: array<float>]"
      ]
     },
     "execution_count": 136,
     "metadata": {},
     "output_type": "execute_result"
    }
   ],
   "source": [
    "user_factors"
   ]
  },
  {
   "cell_type": "code",
   "execution_count": 137,
   "metadata": {
    "slideshow": {
     "slide_type": "notes"
    }
   },
   "outputs": [],
   "source": [
    "item_factors = als_model.itemFactors"
   ]
  },
  {
   "cell_type": "code",
   "execution_count": 138,
   "metadata": {
    "slideshow": {
     "slide_type": "notes"
    }
   },
   "outputs": [
    {
     "data": {
      "text/plain": [
       "0.5659601148459757"
      ]
     },
     "execution_count": 138,
     "metadata": {},
     "output_type": "execute_result"
    }
   ],
   "source": [
    "evaluator = RegressionEvaluator(predictionCol=\"prediction\", labelCol=\"rating\", metricName=\"rmse\")\n",
    "evaluator.evaluate(train_predictions)"
   ]
  },
  {
   "cell_type": "code",
   "execution_count": 139,
   "metadata": {},
   "outputs": [
    {
     "data": {
      "text/plain": [
       "0.7046252085965139"
      ]
     },
     "execution_count": 139,
     "metadata": {},
     "output_type": "execute_result"
    }
   ],
   "source": [
    "evaluator = RegressionEvaluator(predictionCol=\"prediction\", labelCol=\"rating\", metricName=\"r2\")\n",
    "evaluator.evaluate(train_predictions)"
   ]
  },
  {
   "cell_type": "code",
   "execution_count": 140,
   "metadata": {
    "slideshow": {
     "slide_type": "notes"
    }
   },
   "outputs": [
    {
     "data": {
      "text/plain": [
       "nan"
      ]
     },
     "execution_count": 140,
     "metadata": {},
     "output_type": "execute_result"
    }
   ],
   "source": [
    "evaluator = RegressionEvaluator(predictionCol=\"prediction\", labelCol=\"rating\", metricName=\"rmse\")\n",
    "evaluator.evaluate(test_predictions.filter(test_predictions.prediction.isNotNull()))"
   ]
  },
  {
   "cell_type": "code",
   "execution_count": 141,
   "metadata": {},
   "outputs": [
    {
     "data": {
      "text/plain": [
       "nan"
      ]
     },
     "execution_count": 141,
     "metadata": {},
     "output_type": "execute_result"
    }
   ],
   "source": [
    "evaluator = RegressionEvaluator(predictionCol=\"prediction\", labelCol=\"rating\", metricName=\"r2\")\n",
    "evaluator.evaluate(test_predictions.filter(test_predictions.prediction.isNotNull()))"
   ]
  },
  {
   "cell_type": "markdown",
   "metadata": {
    "slideshow": {
     "slide_type": "notes"
    }
   },
   "source": [
    "> **Warning!**\n",
    "Spark Considers Null Values and NaN (Not a Number) different entities. See the code below, where the NaN values from our prediction are not filtered out. See this [stack overflow thread](https://stackoverflow.com/questions/43882699/differences-between-null-and-nan-in-spark-how-to-deal-with-it#43883025) for further details."
   ]
  },
  {
   "cell_type": "code",
   "execution_count": 142,
   "metadata": {
    "slideshow": {
     "slide_type": "notes"
    }
   },
   "outputs": [
    {
     "data": {
      "text/plain": [
       "Column<b'(prediction IS NULL)'>"
      ]
     },
     "execution_count": 142,
     "metadata": {},
     "output_type": "execute_result"
    }
   ],
   "source": [
    "test_predictions.prediction.isNull()"
   ]
  },
  {
   "cell_type": "code",
   "execution_count": 143,
   "metadata": {
    "slideshow": {
     "slide_type": "notes"
    }
   },
   "outputs": [
    {
     "name": "stdout",
     "output_type": "stream",
     "text": [
      "+------+-------+------+----------+\n",
      "|userId|movieId|rating|prediction|\n",
      "+------+-------+------+----------+\n",
      "|   436|    471|   3.0| 3.5559504|\n",
      "|   602|    471|   4.0| 3.2321663|\n",
      "|   409|    471|   3.0| 3.9487994|\n",
      "|   500|    471|   1.0| 3.1254635|\n",
      "|   414|    471|   5.0| 3.6347065|\n",
      "|    44|    833|   2.0|  2.722131|\n",
      "|    47|   1088|   4.0| 2.3109446|\n",
      "|   169|   1088|   4.5| 3.9727411|\n",
      "|    64|   1088|   4.0| 3.0402024|\n",
      "|    51|   1088|   4.0|  3.165614|\n",
      "|    10|   1088|   3.0| 3.2257187|\n",
      "|   116|   1088|   4.5| 3.3013175|\n",
      "|   462|   1238|   3.5|  4.025728|\n",
      "|   600|   1342|   2.5| 2.4995332|\n",
      "|   155|   1580|   4.0|  3.923012|\n",
      "|    28|   1580|   3.0| 2.9813743|\n",
      "|   183|   1580|   4.0|  3.408201|\n",
      "|   587|   1580|   4.0| 3.9759135|\n",
      "|   577|   1580|   3.0| 3.1874232|\n",
      "|    91|   1580|   3.5| 3.4139752|\n",
      "|   111|   1580|   3.0| 3.3466249|\n",
      "|   140|   1580|   3.0| 3.5139604|\n",
      "|   280|   1580|   3.5| 3.6360974|\n",
      "|   164|   1580|   5.0|  3.967554|\n",
      "|   559|   1580|   5.0| 3.6234097|\n",
      "|   266|   1580|   3.0| 2.7811637|\n",
      "|   542|   1580|   3.5| 2.9243085|\n",
      "|   579|   1580|   4.0| 3.8662562|\n",
      "|     4|   1580|   3.0| 2.7180824|\n",
      "|   100|   1580|   4.0|  3.925879|\n",
      "|   520|   1580|   5.0| 3.8293877|\n",
      "|   453|   1580|   4.0| 3.9354634|\n",
      "|    51|   1580|   5.0|  3.455414|\n",
      "|   532|   1580|   5.0| 3.9874911|\n",
      "|    69|   1580|   4.0|  4.228251|\n",
      "|   264|   1580|   4.5| 3.1092327|\n",
      "|    63|   1580|   2.0|   2.90076|\n",
      "|   167|   1580|   3.5| 2.8786333|\n",
      "|    24|   1580|   4.0| 3.4412436|\n",
      "|   480|   1580|   3.5| 2.9679298|\n",
      "|   219|   1580|   3.0| 3.0337954|\n",
      "|   477|   1580|   4.0|  3.509329|\n",
      "|   265|   1580|   3.0| 3.5281188|\n",
      "|   414|   1580|   4.0| 3.3372588|\n",
      "|   608|   1580|   3.5|  3.458265|\n",
      "|   534|   1580|   4.0| 3.7017932|\n",
      "|   369|   1580|   1.0|  3.154862|\n",
      "|    68|   1580|   4.0| 3.3811734|\n",
      "|   119|   1580|   4.0| 4.0563073|\n",
      "|   475|   1580|   5.0|  4.366423|\n",
      "|    89|   1580|   1.5| 2.4945428|\n",
      "|    19|   1591|   2.0| 1.5274673|\n",
      "|   217|   1591|   2.0| 1.4225376|\n",
      "|    51|   1591|   1.0| 3.0407786|\n",
      "|   438|   1591|   2.5| 2.5377421|\n",
      "|   448|   1591|   1.0|  2.300745|\n",
      "|   534|   1591|   3.5| 2.8599114|\n",
      "|   298|   1591|   1.5| 2.3802204|\n",
      "|   362|   1645|   5.0|  3.707867|\n",
      "|    91|   1645|   3.0|   2.99912|\n",
      "|   603|   1645|   3.0|  2.986795|\n",
      "|   297|   1645|   3.0| 2.5039682|\n",
      "|    64|   1645|   2.5| 3.2759295|\n",
      "|   318|   1645|   3.0| 3.7680974|\n",
      "|   202|   1645|   3.0|  3.094583|\n",
      "|   219|   1645|   3.5| 2.7525692|\n",
      "|   198|   1645|   5.0|  2.955574|\n",
      "|   202|   1959|   4.0| 3.7710352|\n",
      "|   292|   2122|   1.5| 1.6384113|\n",
      "|   288|   2122|   1.0| 2.3667078|\n",
      "|   387|   2142|   3.0| 2.5791693|\n",
      "|   288|   2142|   3.0|  2.455212|\n",
      "|   599|   2366|   3.0|  3.150306|\n",
      "|   290|   2366|   5.0|  3.752079|\n",
      "|   380|   2366|   5.0| 3.5909858|\n",
      "|   532|   2366|   4.0|  3.687134|\n",
      "|   448|   2366|   5.0| 3.3268633|\n",
      "|   345|   2366|   3.5|  3.659473|\n",
      "|   469|   2366|   3.0|  3.724838|\n",
      "|   508|   2366|   1.5| 1.9924517|\n",
      "|   186|   2366|   4.0| 3.3491812|\n",
      "|   527|   2866|   4.0|  3.150471|\n",
      "|   122|   3175|   4.5| 4.1613913|\n",
      "|   140|   3175|   2.5| 3.7172568|\n",
      "|   355|   3175|   4.0| 3.7218592|\n",
      "|   328|   3175|   1.5| 2.6000104|\n",
      "|   452|   3175|   5.0|   4.26986|\n",
      "|    19|   3175|   4.0| 3.1148355|\n",
      "|   586|   3175|   5.0| 3.9029713|\n",
      "|   381|   3175|   2.5| 3.3673828|\n",
      "|   275|   3794|   2.0| 2.4566905|\n",
      "|   325|   3918|   4.0| 2.7816496|\n",
      "|   546|   3918|   5.0| 2.9065483|\n",
      "|    34|   3997|   2.0| 1.2155008|\n",
      "|   274|   3997|   1.5| 2.1166365|\n",
      "|   414|   3997|   2.0| 1.9225179|\n",
      "|   274|   4519|   3.0| 2.6216536|\n",
      "|   479|   4519|   4.0|   2.58526|\n",
      "|   318|   4519|   4.0|  3.109146|\n",
      "|   234|   4519|   4.0| 3.4897022|\n",
      "|   414|   4818|   2.0|       NaN|\n",
      "|   387|   5156|   2.5|       NaN|\n",
      "|   414|   5803|   2.0| 2.3811946|\n",
      "|   474|   6620|   4.5| 3.7747068|\n",
      "|   387|   6620|   2.5| 3.7911086|\n",
      "|   288|   6620|   4.5| 3.5043385|\n",
      "|   356|   6620|   2.0|  4.113868|\n",
      "|   187|   6620|   5.0|  4.648143|\n",
      "|   599|   7340|   2.0| 2.1071496|\n",
      "|    64|   7982|   4.5| 3.6178787|\n",
      "|   326|  32460|   4.5|  4.595855|\n",
      "|   125|  32460|   4.0|   4.39199|\n",
      "|    18|  32460|   3.5|  4.408676|\n",
      "|   232|  44022|   3.0|  3.243888|\n",
      "|   361|  44022|   4.0| 2.7214384|\n",
      "|   480|  44022|   3.0| 2.9383826|\n",
      "|   111|  54190|   4.0| 4.2023325|\n",
      "|   381|  54190|   5.0| 3.3135045|\n",
      "|   605|  54190|   4.0|  3.710753|\n",
      "|   232|  68135|   4.0| 3.1298537|\n",
      "|   563|  68135|   2.5| 2.9488988|\n",
      "|   564|  68135|   4.0| 2.6225476|\n",
      "|   509|  68135|   3.5| 2.8326354|\n",
      "|   414|  68135|   3.5| 3.0387864|\n",
      "|   318|  91784|   4.5|       NaN|\n",
      "|   462|  96488|   4.0| 3.2742057|\n",
      "|    18|  96488|   4.0| 4.1654677|\n",
      "|   599| 144522|   2.0|       NaN|\n",
      "|   318| 160563|   3.5|  2.897544|\n",
      "|   448| 160563|   2.0| 2.7982264|\n",
      "|   408| 160563|   3.5|  3.230355|\n",
      "|   414|    540|   2.0|  2.404351|\n",
      "|    58|    540|   3.0|  2.963393|\n",
      "|    14|    540|   3.0| 2.7995389|\n",
      "|   373|    540|   3.0| 1.8824348|\n",
      "|    44|    737|   5.0| 1.9268746|\n",
      "|   387|    737|   2.0| 1.3405243|\n",
      "|   234|    737|   4.0| 2.6928017|\n",
      "|   492|    737|   5.0|  2.881862|\n",
      "|    68|    737|   2.0| 1.6238849|\n",
      "|   580|    858|   4.5| 3.7965608|\n",
      "|   596|    858|   3.5|  4.033291|\n",
      "|   577|    858|   5.0|  3.896225|\n",
      "|    91|    858|   5.0| 4.4010234|\n",
      "|   222|    858|   4.5|  3.506435|\n",
      "|   599|    858|   4.0| 3.5293727|\n",
      "|    57|    858|   5.0|  4.222674|\n",
      "|   339|    858|   4.5|   4.71022|\n",
      "|   419|    858|   5.0|  3.834944|\n",
      "|   553|    858|   5.0| 4.5205317|\n",
      "|    64|    858|   5.0|  4.545104|\n",
      "|   590|    858|   5.0| 4.1721954|\n",
      "|   503|    858|   4.5| 4.3762884|\n",
      "|   380|    858|   4.0|  4.705186|\n",
      "|   238|    858|   3.0|  4.111677|\n",
      "|    84|    858|   4.0|  4.343072|\n",
      "|   343|    858|   3.0|  4.184844|\n",
      "|   331|    858|   5.0| 4.2744026|\n",
      "|   391|    858|   5.0|  4.402826|\n",
      "|   364|    858|   5.0| 4.0175185|\n",
      "|   510|    858|   4.5| 3.4578714|\n",
      "|   125|    858|   4.5| 4.5928135|\n",
      "|    60|    858|   5.0| 3.6698442|\n",
      "|   382|    858|   5.0| 4.7172365|\n",
      "|   213|    858|   4.0| 4.0275974|\n",
      "|   228|    858|   4.0| 3.7442167|\n",
      "|   204|    858|   4.0|  4.906468|\n",
      "|   116|    858|   1.5|  3.047738|\n",
      "|    79|    858|   5.0|  4.907469|\n",
      "|   275|    858|   5.0| 4.6517076|\n",
      "|   483|    858|   4.0|  4.175084|\n",
      "|    57|    897|   4.0|  3.165543|\n",
      "|   177|   1025|   4.0| 3.0730147|\n",
      "|    20|   1025|   5.0| 3.7215462|\n",
      "|   509|   1025|   2.5| 3.0561028|\n",
      "|   600|   1025|   3.5| 3.1314573|\n",
      "|   156|   1084|   5.0| 3.8778572|\n",
      "|   275|   1084|   5.0|  4.239419|\n",
      "|   580|   1127|   4.0| 3.1670752|\n",
      "|   182|   1127|   0.5|  3.541699|\n",
      "|   266|   1127|   4.0| 3.5787163|\n",
      "|   555|   1127|   3.0| 3.6880636|\n",
      "|   160|   1127|   2.0| 3.0027475|\n",
      "|   480|   1127|   3.5|  3.699398|\n",
      "|   469|   1127|   5.0| 3.3414216|\n",
      "|   313|   1127|   3.0| 2.4969404|\n",
      "|    66|   1127|   4.0|  3.566854|\n",
      "|   606|   1483|   2.5| 3.5097618|\n",
      "|   297|   1483|   1.0| 3.1042893|\n",
      "|   553|   1483|   5.0| 3.5393496|\n",
      "|   474|   1507|   3.5|       NaN|\n",
      "|   137|   1721|   4.0| 3.3196032|\n",
      "|   597|   1721|   4.0|  3.751513|\n",
      "|   128|   1721|   4.0| 3.9692922|\n",
      "|   209|   1721|   3.0| 2.9824882|\n",
      "|   330|   1721|   3.5| 2.8739762|\n",
      "|   140|   1721|   4.0| 3.7617698|\n",
      "|   305|   1721|   3.5| 3.5071783|\n",
      "|   355|   1721|   4.0| 3.5263534|\n",
      "|   274|   1721|   3.5| 2.8681958|\n",
      "|   359|   1721|   4.5| 3.5461383|\n",
      "|   570|   1721|   3.0|  3.161202|\n",
      "|   339|   1721|   4.0| 3.8131704|\n",
      "|    96|   1721|   2.0|  3.952606|\n",
      "|   523|   1721|   5.0| 3.8676481|\n",
      "|   503|   1721|   2.5| 3.1085043|\n",
      "|   594|   1721|   4.5|  4.575437|\n",
      "|   495|   1721|   5.0| 3.9304023|\n",
      "|   514|   1721|   4.0|  3.645265|\n",
      "|   249|   1721|   2.0| 3.5219545|\n",
      "|   219|   1721|   0.5| 2.6934512|\n",
      "|   382|   1721|   5.0| 4.1361103|\n",
      "|   272|   1721|   2.5| 3.5324779|\n",
      "|    33|   1721|   4.0|  3.427373|\n",
      "|    68|   1721|   3.0| 3.3323455|\n",
      "|   600|   1721|   3.0|  2.226163|\n",
      "|   199|   1721|   3.0| 2.8961787|\n",
      "|   557|   1721|   3.5| 3.4594793|\n",
      "|    18|   1721|   4.0| 3.5393133|\n",
      "|   483|   1721|   2.0|  3.147294|\n",
      "|   546|   1990|   4.0|       NaN|\n",
      "|   263|   2563|   5.0| 3.3259134|\n",
      "|    28|   2580|   3.5| 3.3708766|\n",
      "|   182|   2580|   4.0|  3.699378|\n",
      "|   318|   2580|   4.0| 3.8210895|\n",
      "|    55|   2580|   2.5| 4.1332674|\n",
      "|    45|   2580|   5.0|  4.413786|\n",
      "|   356|   2580|   4.0| 3.8128626|\n",
      "|    33|   2580|   5.0| 3.8916793|\n",
      "|   606|   3179|   4.0|  2.746673|\n",
      "|   274|   3698|   3.5| 3.3477354|\n",
      "|   387|   3698|   2.5|  3.137198|\n",
      "|   608|   3698|   2.0| 3.1381855|\n",
      "|   500|   4161|   4.0| 2.9667404|\n",
      "|   552|   4161|   2.0| 2.6597943|\n",
      "|   387|   4161|   3.0|  2.485607|\n",
      "|   453|   4161|   4.0| 3.5690365|\n",
      "|   414|   4161|   3.0| 3.1601956|\n",
      "|   608|   4161|   3.5|  3.196187|\n",
      "|   220|   4219|   3.0| 3.1846611|\n",
      "|   414|   4219|   3.0| 2.8548102|\n",
      "|   263|   6773|   3.5| 3.7613003|\n",
      "|   387|   6773|   3.5| 3.6546767|\n",
      "|   477|   6773|   3.0| 4.0128007|\n",
      "|   260|   6773|   5.0| 3.5174453|\n",
      "|   104|   6773|   3.5| 3.3479528|\n",
      "|   387|   8928|   3.0| 3.9850307|\n",
      "|    28|  48780|   1.5| 3.1550562|\n",
      "|   132|  48780|   3.5| 3.3584132|\n",
      "|   590|  48780|   3.0| 3.7647293|\n",
      "|   247|  48780|   4.5|   3.77259|\n",
      "|   239|  48780|   4.0|  4.376834|\n",
      "|   459|  48780|   5.0| 4.5728297|\n",
      "|    62|  48780|   5.0|  4.333474|\n",
      "|   256|  48780|   4.0| 3.8402388|\n",
      "|   334|  48780|   3.5| 3.5115266|\n",
      "|    68|  48780|   3.5| 3.4984717|\n",
      "|   123|  48780|   4.0|  4.072252|\n",
      "|   282|  48780|   4.5|  4.247345|\n",
      "|   232|  69481|   4.5| 3.7002692|\n",
      "|   152|  69481|   5.0|  4.017249|\n",
      "|    52|  69481|   4.0| 4.6510944|\n",
      "|   339|  69481|   4.5| 4.4169235|\n",
      "|   380|  69481|   4.0|  4.409647|\n",
      "|    73|  69481|   4.5| 4.0066595|\n",
      "|   414|  69481|   4.5| 4.0637665|\n",
      "|    68|  69481|   4.0| 3.4738207|\n",
      "|   298|  74452|   0.5| 2.7602906|\n",
      "|   599|  92008|   3.0|  2.090165|\n",
      "|   448|  92008|   2.5| 2.3691819|\n",
      "|   382| 101362|   3.5|  3.003392|\n",
      "|    68| 166635|   3.0| 2.8275814|\n",
      "|    18| 166635|   4.0| 3.5203152|\n",
      "|   372|     31|   2.0| 3.1754942|\n",
      "|   599|     31|   2.0| 2.4705777|\n",
      "|     3|     31|   0.5| 1.3794006|\n",
      "|    40|     31|   4.0|  3.903883|\n",
      "|   447|     31|   4.0| 3.4182982|\n",
      "|   411|     31|   4.0| 3.5992494|\n",
      "|   109|     31|   3.0| 3.2137737|\n",
      "|    58|     31|   4.0| 3.7993608|\n",
      "|   599|    516|   2.5| 2.1675715|\n",
      "|    57|    516|   2.0|  2.105541|\n",
      "|   414|    516|   3.0| 2.8581002|\n",
      "|   536|    516|   5.0|  2.440219|\n",
      "|   137|   1270|   3.5| 3.8189864|\n",
      "|    78|   1270|   4.0| 3.9043603|\n",
      "|   193|   1270|   3.0| 3.5325322|\n",
      "|    27|   1270|   5.0|  4.068111|\n",
      "|   606|   1270|   3.5| 4.1026783|\n",
      "|   599|   1270|   3.5|  3.118867|\n",
      "|   274|   1270|   3.5| 3.9889364|\n",
      "|   178|   1270|   4.5|  4.126219|\n",
      "|   359|   1270|   3.0| 3.9848738|\n",
      "|    57|   1270|   4.0| 3.9301248|\n",
      "|   452|   1270|   4.0|  4.850909|\n",
      "|   489|   1270|   3.5|  3.419795|\n",
      "|   590|   1270|   4.5| 3.9749146|\n",
      "|   381|   1270|   4.0| 3.7723265|\n",
      "|   301|   1270|   2.5| 3.5122852|\n",
      "|   171|   1270|   5.0|   4.66761|\n",
      "|   400|   1270|   4.0| 4.3842187|\n",
      "|   267|   1270|   5.0| 5.2525415|\n",
      "|   356|   1270|   5.0|  4.147053|\n",
      "|   480|   1270|   5.0|  3.908459|\n",
      "|   477|   1270|   4.5| 3.9757109|\n",
      "|   482|   1270|   5.0| 4.1535034|\n",
      "|    29|   1270|   4.0|  4.152066|\n",
      "|    21|   1270|   5.0|   3.68433|\n",
      "|   304|   1270|   5.0| 4.4607515|\n",
      "|   298|   1270|   3.5|  2.981142|\n",
      "|    68|   1270|   3.0|   3.61453|\n",
      "|   561|   1270|   4.5| 3.9210243|\n",
      "|   546|   1270|   3.0| 4.1371717|\n",
      "|   573|   1270|   4.5| 4.4077873|\n",
      "|   551|   1270|   4.0|  3.679461|\n",
      "|   104|   1270|   2.0|  4.164768|\n",
      "|   372|   1303|   3.0|  4.157054|\n",
      "|   590|   1303|   3.5| 3.9519758|\n",
      "|   524|   1303|   5.0|  4.034395|\n",
      "|    29|   1303|   4.5| 4.0764337|\n",
      "|   571|   1322|   2.0|  1.422615|\n",
      "|   606|   1339|   3.0| 3.9504168|\n",
      "|   603|   1339|   4.0| 3.3270106|\n",
      "|   380|   1339|   3.0| 3.3292227|\n",
      "|   288|   1339|   2.0| 3.1204107|\n",
      "|   414|   1339|   4.0|  3.610661|\n",
      "|   199|   1339|   4.0| 2.4968872|\n",
      "|   372|   1352|   2.0| 2.5179904|\n",
      "|   290|   1699|   3.0|  4.068254|\n",
      "|   137|   2393|   3.0| 2.8593302|\n",
      "|   586|   2393|   4.0|  3.900397|\n",
      "|    55|   2393|   0.5| 3.8574455|\n",
      "|   448|   2393|   4.0| 3.0120873|\n",
      "|   312|   2393|   2.0| 2.9190388|\n",
      "|   304|   2393|   5.0|  3.544303|\n",
      "|   325|   2572|   3.0| 3.0887775|\n",
      "|    92|   2572|   5.0| 3.6712165|\n",
      "|   286|   2572|   3.0| 3.4910178|\n",
      "|   453|   2572|   5.0|  3.707418|\n",
      "|   249|   2572|   3.5| 3.6481502|\n",
      "|    68|   2572|   4.5|  3.538814|\n",
      "|   525|   2572|   4.0| 3.6654208|\n",
      "|   275|   2572|   4.0| 3.8782148|\n",
      "|   605|   2572|   5.0| 3.3659804|\n",
      "|   274|   3000|   4.0|  3.871962|\n",
      "|   318|   3000|   4.0|  4.054969|\n",
      "|   520|   3000|   4.0| 4.0702314|\n",
      "|   438|   3000|   3.5| 3.8365812|\n",
      "|   129|   3000|   4.5|  4.058169|\n",
      "|   166|   3000|   5.0|  4.248217|\n",
      "|    50|   3000|   3.5| 3.4193769|\n",
      "|    62|   3000|   4.0| 4.3591976|\n",
      "|    19|   3213|   4.0| 3.0107296|\n",
      "|   288|   3213|   3.0| 3.9230936|\n",
      "|    91|   3704|   3.5| 3.4291673|\n",
      "|   599|   3704|   3.5|  2.543679|\n",
      "|   603|   3704|   2.0| 3.3342357|\n",
      "|    57|   3704|   3.0|  2.873363|\n",
      "|   452|   3704|   5.0| 4.0722995|\n",
      "|   160|   3704|   4.0| 3.3518586|\n",
      "|    68|   3704|   3.5| 2.5276039|\n",
      "|   517|   3704|   2.0| 2.1745343|\n",
      "|   182|   3761|   4.0|       NaN|\n",
      "|   606|   4489|   2.5| 2.9927616|\n",
      "|   103|   4489|   4.0|  3.793766|\n",
      "|   367|   4489|   4.0| 3.0306506|\n",
      "|   474|   4489|   2.0|  2.700634|\n",
      "|   590|   4489|   3.5| 3.1545098|\n",
      "|   586|   4489|   4.0| 3.9236164|\n",
      "|    24|   4489|   4.0| 3.4707003|\n",
      "|    42|   4489|   5.0| 3.7624521|\n",
      "|    68|   6266|   2.5|  3.023777|\n",
      "|   232|   6482|   2.5| 2.4234874|\n",
      "|   477|   6482|   0.5| 2.2294097|\n",
      "|   274|   7387|   4.5| 3.9967659|\n",
      "|   387|   7387|   3.5|   3.49583|\n",
      "|   187|   7387|   4.0| 3.9018455|\n",
      "|   263|   7879|   3.5|       NaN|\n",
      "|   560|  27266|   4.0| 3.8083472|\n",
      "|   318|  27266|   3.5| 3.8707595|\n",
      "|   414|  50792|   2.0| 2.4134974|\n",
      "|   307|  55272|   4.0| 2.4488544|\n",
      "|    28|  55363|   3.0| 2.3970132|\n",
      "|    68|  67618|   5.0|       NaN|\n",
      "|   610|  71732|   3.5|  1.376872|\n",
      "|   380|  74948|   4.0|       NaN|\n",
      "|    18|  74948|   4.0|       NaN|\n",
      "|   227|  80906|   4.0|  4.470776|\n",
      "|   596|  82459|   3.0| 3.6072962|\n",
      "|   232|  82459|   4.5|  4.134476|\n",
      "|   435|  82459|   4.0| 4.2354417|\n",
      "|   560|  82459|   4.0| 3.8567004|\n",
      "|   462|  82459|   3.0| 2.5624313|\n",
      "|   610|  82459|   4.0| 4.0933647|\n",
      "|   448|  82459|   4.0| 3.2107205|\n",
      "|   249|  82459|   4.5| 4.1714783|\n",
      "|   414|  82459|   4.5| 3.8899064|\n",
      "|    68|  82459|   3.5| 3.7654345|\n",
      "|   341| 135137|   3.0| 2.7729096|\n",
      "|   567| 135137|   1.0| 1.2676215|\n",
      "|   191|     85|   5.0| 2.7481883|\n",
      "|   262|     85|   3.0|  2.825672|\n",
      "|    90|     85|   5.0| 3.2508879|\n",
      "|   593|   1265|   2.5| 3.3672287|\n",
      "|   409|   1265|   4.0| 4.0534077|\n",
      "|   372|   1265|   4.0| 3.7960773|\n",
      "|   232|   1265|   4.0| 3.6590686|\n",
      "|     1|   1265|   4.0|  4.381907|\n",
      "|   182|   1265|   4.5|  3.768985|\n",
      "|   169|   1265|   4.0|  4.330144|\n",
      "|   500|   1265|   3.0| 3.3409433|\n",
      "|   479|   1265|   5.0|  4.084818|\n",
      "|    19|   1265|   4.0| 3.4457855|\n",
      "|    15|   1265|   3.5| 3.9454203|\n",
      "|   189|   1265|   4.0|  3.698335|\n",
      "|   590|   1265|   4.0| 3.8613248|\n",
      "|   241|   1265|   3.0|  3.448648|\n",
      "|   495|   1265|   4.0| 4.0523024|\n",
      "|   314|   1265|   4.0| 3.1819253|\n",
      "|   434|   1265|   5.0| 4.2634087|\n",
      "|   448|   1265|   4.0| 3.5414402|\n",
      "|   408|   1265|   5.0| 4.4024243|\n",
      "|    21|   1265|   3.5| 3.3628519|\n",
      "|   382|   1265|   5.0| 4.3680186|\n",
      "|   469|   1265|   5.0| 3.8676786|\n",
      "|   141|   1265|   3.5| 3.4807825|\n",
      "|   151|   1265|   5.0| 3.7960777|\n",
      "|   414|   1265|   4.0|  4.024743|\n",
      "|   376|   1265|   4.0|   4.08284|\n",
      "|   298|   1265|   3.5| 2.9691343|\n",
      "|    68|   1265|   2.5| 3.4041586|\n",
      "|   522|   1265|   4.5|  3.948486|\n",
      "|   517|   1265|   3.0|  1.591809|\n",
      "|   460|   1884|   4.0|    4.0155|\n",
      "|   305|   1884|   5.0| 4.0195556|\n",
      "|   560|   1884|   4.0| 3.8181634|\n",
      "|   387|   1884|   4.0| 3.4845192|\n",
      "|   226|   1884|   3.5| 3.7920203|\n",
      "|   469|   1884|   5.0| 3.8767445|\n",
      "|   414|   1884|   4.0|   3.70885|\n",
      "|   369|   1884|   5.0| 3.6328177|\n",
      "|    68|   1884|   2.5| 2.8318577|\n",
      "|   294|   1884|   5.0| 3.2372558|\n",
      "|   405|   1884|   4.5|  3.972524|\n",
      "|   187|   1884|   3.0| 3.8365264|\n",
      "|   474|   1975|   2.0| 2.1603074|\n",
      "|   514|   1975|   2.0|  2.273848|\n",
      "|   160|   1975|   1.0|0.77695644|\n",
      "|   414|   2025|   4.0| 4.0047455|\n",
      "|   606|   2231|   4.5| 3.6358302|\n",
      "|   325|   2231|   4.0| 3.6555052|\n",
      "|   448|   2231|   4.0| 3.3425183|\n",
      "|    68|   2231|   2.0| 3.5680609|\n",
      "|   562|   2231|   4.5|  4.127579|\n",
      "|   597|   2259|   5.0| 3.1715722|\n",
      "|   384|   2259|   3.0| 2.6225455|\n",
      "|   387|   2259|   2.5| 2.0987065|\n",
      "|   414|   2259|   2.0| 3.0550184|\n",
      "|   597|   2443|   3.0| 3.4173303|\n",
      "|    33|   2443|   3.0| 3.6263971|\n",
      "|   483|   2443|   4.0| 4.0401545|\n",
      "|   387|   2488|   3.5| 2.9556115|\n",
      "|   217|   2525|   3.0|  1.352929|\n",
      "|   606|   3089|   4.5| 4.4142447|\n",
      "|   484|   3089|   3.0| 3.8354669|\n",
      "|   610|   3089|   3.0| 4.2637353|\n",
      "|   391|   3089|   5.0| 4.5584993|\n",
      "|   275|   3089|   4.0|  4.401596|\n",
      "|   384|   3098|   3.0| 3.7663836|\n",
      "|   292|   3098|   3.0|  3.406415|\n",
      "|   226|   3098|   4.0| 3.6848145|\n",
      "|   552|   3986|   2.0| 1.9489088|\n",
      "|   438|   3986|   3.0| 2.8923726|\n",
      "|   555|   4042|   3.0|  3.377089|\n",
      "|   288|   4042|   3.0| 2.8021996|\n",
      "|   599|   4239|   3.0| 3.0386953|\n",
      "|   132|   4239|   2.5|  2.863307|\n",
      "|   280|   4239|   5.0| 3.6002088|\n",
      "|   390|   4239|   4.0| 3.9362686|\n",
      "|   200|   4239|   3.5| 3.9403672|\n",
      "|   354|   4239|   4.5| 3.6698692|\n",
      "|   282|   4239|   5.0|  3.936798|\n",
      "|   356|   5074|   3.5| 1.2856269|\n",
      "|   414|   5074|   4.0| 1.3927164|\n",
      "|   599|   5308|   3.5|  2.245725|\n",
      "|   274|   5308|   2.0| 2.5332956|\n",
      "|   474|   5308|   2.0| 2.9131973|\n",
      "|   608|   5308|   1.5|  2.254807|\n",
      "|   517|   5308|   1.0| 2.4811187|\n",
      "|   448|   8743|   2.5|  2.413834|\n",
      "|   599|  32291|   2.5| 2.6003282|\n",
      "|   599|  32554|   3.0|  2.883386|\n",
      "|   483|  32554|   4.5| 3.7513404|\n",
      "|   599|  33437|   2.5| 2.6839514|\n",
      "|    68|  33437|   3.0| 2.9312847|\n",
      "|   388|  33615|   5.0|  3.534434|\n",
      "|   274|  33615|   4.0| 3.1870613|\n",
      "|   489|  33615|   4.0| 2.6268103|\n",
      "|   380|  33615|   3.0| 3.5977545|\n",
      "|   525|  33615|   3.0| 3.1339831|\n",
      "|   119|  33615|   4.0| 3.8943834|\n",
      "|    18|  33615|   3.5| 3.3081114|\n",
      "|   104|  33615|   3.0| 3.3209243|\n",
      "|   111|  51086|   0.5| 2.4934669|\n",
      "|   177|  51086|   2.0|  2.640812|\n",
      "|   166|  51086|   3.0| 3.2218354|\n",
      "|    62|  51086|   3.5| 3.4967508|\n",
      "|    62|  71106|   4.5| 3.6368802|\n",
      "|   339|  83613|   3.0|  2.899992|\n",
      "|   103|  91653|   3.5| 3.4452417|\n",
      "|   448|  91653|   4.0| 2.9998703|\n",
      "|   210| 123553|   1.0|       NaN|\n",
      "|    89| 142444|   5.0|       NaN|\n",
      "|   111| 150548|   4.5| 3.8040862|\n",
      "|   564| 150548|   3.5| 3.4310718|\n",
      "|    89| 157775|   5.0|       NaN|\n",
      "|   539|     65|   4.5| 2.5558984|\n",
      "|   599|     65|   2.0| 1.6031735|\n",
      "|   179|     65|   3.0| 2.5331333|\n",
      "|   307|     65|   2.5| 2.4591637|\n",
      "|   277|     65|   3.0| 2.1443734|\n",
      "|   389|     65|   4.0| 2.4170852|\n",
      "|    45|     65|   3.0| 2.2593367|\n",
      "|   492|     65|   5.0| 2.6834757|\n",
      "|   608|     65|   2.0| 1.7870919|\n",
      "|   228|     65|   2.0| 2.8140771|\n",
      "|   337|     65|   3.0| 3.2293653|\n",
      "|   414|    458|   3.0| 2.6240094|\n",
      "|   599|   1223|   4.5| 3.2615447|\n",
      "|   474|   1223|   4.5| 3.8914146|\n",
      "|   263|   1223|   5.0| 3.8957171|\n",
      "|   576|   1223|   4.0|  3.142099|\n",
      "|   356|   1223|   5.0|  4.015338|\n",
      "|   376|   1223|   5.0| 3.9238958|\n",
      "|   474|   1977|   1.5| 1.3236902|\n",
      "|     1|   2096|   4.0|  4.033137|\n",
      "|    20|   2096|   4.0| 4.0586443|\n",
      "|   579|   2096|   4.0| 3.8887901|\n",
      "|   217|   2096|   2.0| 2.6181202|\n",
      "|    45|   2096|   4.0| 3.7150102|\n",
      "|    68|   2096|   3.0| 3.1590748|\n",
      "|   517|   2096|   4.0|  2.328855|\n",
      "|    68|   2249|   5.0|  2.340662|\n",
      "|   157|   2392|   3.0| 1.4653804|\n",
      "|   380|   2392|   2.5|  2.040776|\n",
      "|   265|   2392|   2.0| 1.7505476|\n",
      "|    19|   2622|   3.0| 2.5321012|\n",
      "|   104|   2622|   3.0| 2.9185896|\n",
      "|   493|   2924|   4.0| 3.8011055|\n",
      "|   182|   2924|   3.5| 3.7797446|\n",
      "|   298|   2924|   3.0| 2.4405484|\n",
      "|   462|   3425|   2.5| 2.6708994|\n",
      "|   610|   3425|   4.5| 3.1636736|\n",
      "|   599|   3566|   2.5| 2.5466342|\n",
      "|   500|   3566|   4.0| 2.7451053|\n",
      "|   244|   3566|   1.0|  5.084916|\n",
      "|   546|   3566|   3.0| 0.9034951|\n",
      "|   182|   4307|   4.5|       NaN|\n",
      "|   182|   4383|   2.5| 3.8625402|\n",
      "|   560|   4383|   4.0| 3.3759367|\n",
      "|   599|   4957|   2.0| 2.0145078|\n",
      "|   514|   5433|   2.0| 2.6081753|\n",
      "|   312|   5433|   3.0| 2.7161603|\n",
      "|   553|   5513|   5.0|       NaN|\n",
      "|   387|   6301|   4.0|  3.684972|\n",
      "|   230|   6934|   4.5| 3.8709729|\n",
      "|   233|   6934|   2.5| 2.4763029|\n",
      "|   246|   6934|   5.0| 3.1680253|\n",
      "|   177|   6934|   1.5|  3.058323|\n",
      "|   139|   6934|   2.0| 1.7124286|\n",
      "|   560|   6934|   3.5|   3.19932|\n",
      "|   489|   6934|   0.5| 1.9095638|\n",
      "|   220|   6934|   4.0|  3.011458|\n",
      "|   380|   6934|   3.0| 3.6593454|\n",
      "|   434|   6934|   2.5| 2.5519035|\n",
      "|   438|   6934|   3.5| 2.8459353|\n",
      "|   129|   6934|   3.5| 3.5977259|\n",
      "|   239|   6934|   5.0|  3.623623|\n",
      "|   200|   6934|   4.0|  3.440621|\n",
      "|    68|   6934|   3.5| 3.2650342|\n",
      "|   525|   6934|   2.5|  2.812772|\n",
      "|   475|   6934|   4.5| 3.8034282|\n",
      "|   288|   7324|   3.0|  2.920031|\n",
      "|   408|   7324|   4.0| 3.5772731|\n",
      "|   608|   7324|   4.0|  3.059592|\n",
      "|    91|   8501|   4.0| 3.1745913|\n",
      "|   387|   8501|   3.0| 3.3300838|\n",
      "|    28|   8665|   3.5| 2.8831809|\n",
      "|   599|   8665|   3.0| 2.8344097|\n",
      "|   553|   8665|   4.5| 4.1170073|\n",
      "|   326|   8665|   5.0|  3.667673|\n",
      "|   434|   8665|   4.0| 3.5405345|\n",
      "|   438|   8665|   3.5| 3.8360803|\n",
      "|    10|   8665|   3.5| 3.0345116|\n",
      "|   249|   8665|   4.0| 4.0078697|\n",
      "|   356|   8665|   4.0|  3.732761|\n",
      "|   237|   8665|   3.5| 3.1596599|\n",
      "|   200|   8665|   4.0| 3.9490833|\n",
      "|   376|   8665|   5.0| 3.9478471|\n",
      "|    68|   8665|   3.5| 3.5385952|\n",
      "|   561|   8665|   4.0| 3.3742402|\n",
      "|   600|   8665|   0.5|  3.051849|\n",
      "|   199|   8665|   3.0| 3.2079482|\n",
      "|   466|   8665|   4.0| 3.9477844|\n",
      "|    66|   8665|   5.0|   3.97419|\n",
      "|   474|  26965|   3.0|  3.066623|\n",
      "|   432|  27708|   4.0|       NaN|\n",
      "|   233|  27803|   3.0|  3.473692|\n",
      "|   346|  27803|   3.5| 3.5214326|\n",
      "|   326|  27803|   4.5|  3.368612|\n",
      "|   382|  32296|   1.0| 2.8390083|\n",
      "|   232|  36533|   1.5| 2.2926106|\n",
      "|   474|  46974|   3.5| 2.5308814|\n",
      "|   249|  46974|   3.0| 2.5063605|\n",
      "|   232|  52712|   3.0| 1.5988063|\n",
      "|   534| 101142|   4.0| 3.6193933|\n",
      "|    21| 103883|   3.5| 3.1499224|\n",
      "|   596| 108932|   3.5| 3.8103697|\n",
      "|   122| 108932|   4.5| 4.5296965|\n",
      "|   560| 108932|   4.0| 3.3129253|\n",
      "|   610| 108932|   4.0|  4.199469|\n",
      "|   509| 108932|   4.0| 3.2911463|\n",
      "|   534| 108932|   4.0| 3.9078753|\n",
      "|   567| 108932|   4.5|  3.558545|\n",
      "|    30| 108932|   4.0|  4.752062|\n",
      "|   462| 152711|   5.0|       NaN|\n",
      "|   111| 168326|   4.0| 2.2904592|\n",
      "|   559|    255|   2.0| 0.9955911|\n",
      "|   602|    481|   3.0| 3.0285954|\n",
      "|   330|    481|   3.5| 2.4775686|\n",
      "|   603|    481|   4.0| 2.4382303|\n",
      "|   297|    481|   3.0| 1.9888157|\n",
      "|   589|    481|   4.0| 2.8781219|\n",
      "|   480|    481|   3.0| 2.8285952|\n",
      "|   414|    481|   3.0| 3.2102885|\n",
      "|   109|    481|   3.0| 2.7897322|\n",
      "|   597|    588|   4.0|  4.177375|\n",
      "|   436|    588|   3.0| 3.5651975|\n",
      "|   330|    588|   3.0| 3.6488838|\n",
      "|    40|    588|   4.0| 4.0665092|\n",
      "|   429|    588|   5.0| 4.5219736|\n",
      "|    54|    588|   3.0| 3.2112637|\n",
      "|     5|    588|   4.0| 3.7592857|\n",
      "|    64|    588|   4.0|  3.970142|\n",
      "|   117|    588|   4.0| 3.6667457|\n",
      "|   554|    588|   5.0|  4.351372|\n",
      "|   484|    588|   4.5| 4.3095326|\n",
      "|   590|    588|   4.0|  3.685565|\n",
      "|   583|    588|   3.5| 3.5311832|\n",
      "|   220|    588|   5.0| 4.2391915|\n",
      "|    39|    588|   4.0| 3.3038473|\n",
      "|   130|    588|   2.0| 3.4826765|\n",
      "|   446|    588|   3.0| 3.4953785|\n",
      "|   453|    588|   5.0| 4.3331213|\n",
      "|   314|    588|   3.0| 3.3867965|\n",
      "|   428|    588|   2.0| 2.4324918|\n",
      "|   234|    588|   5.0| 4.5123253|\n",
      "|   239|    588|   4.0|  3.936004|\n",
      "|   395|    588|   2.0| 3.2034333|\n",
      "|    10|    588|   4.0| 3.1196418|\n",
      "|   477|    588|   3.0| 3.7622166|\n",
      "|   414|    588|   4.0| 3.8065548|\n",
      "|   534|    588|   4.5| 3.9638684|\n",
      "|   170|    588|   3.0| 3.4783225|\n",
      "|   354|    588|   3.5| 3.7973928|\n",
      "|   541|    588|   3.0| 3.5437722|\n",
      "|   186|    588|   5.0| 4.4699225|\n",
      "|   282|    588|   4.5| 3.9062254|\n",
      "|   475|    588|   5.0|  4.431715|\n",
      "|   468|    588|   3.0|  4.063632|\n",
      "|   483|    588|   4.0| 3.6436062|\n",
      "|   584|    588|   4.0| 4.3816247|\n",
      "|    91|    799|   4.0| 3.8299506|\n",
      "|   372|    799|   4.0| 3.3809156|\n",
      "|   325|    799|   4.0| 3.4543145|\n",
      "|   182|    799|   3.5| 3.2917006|\n",
      "|   117|    799|   4.0|  3.121272|\n",
      "|   594|    799|   0.5| 3.6930661|\n",
      "|   508|    799|   2.0| 2.3549714|\n",
      "|   128|    898|   5.0| 4.7491736|\n",
      "|   177|    898|   5.0| 4.1683745|\n",
      "|   268|    898|   5.0| 4.0005937|\n",
      "|   290|    898|   5.0|  4.695403|\n",
      "|     4|    898|   5.0|  4.260678|\n",
      "|   357|    898|   4.0|  4.421028|\n",
      "|   186|    898|   4.0| 4.8288264|\n",
      "|   517|    898|   3.0| 2.7264175|\n",
      "|   603|   2247|   4.0| 2.9147377|\n",
      "|   555|   2247|   3.0| 2.7840126|\n",
      "|   448|   2247|   3.0| 2.7928185|\n",
      "|    66|   2802|   3.5| 3.1413126|\n",
      "|   474|   3028|   2.0|  2.374959|\n",
      "|   225|   3042|   3.0| 1.4320536|\n",
      "|   182|   3105|   4.5|  3.807694|\n",
      "|   278|   3105|   4.5| 4.0687866|\n",
      "|   555|   3105|   4.0| 3.8276768|\n",
      "|   288|   3105|   3.0| 3.2485447|\n",
      "|   414|   3105|   3.0| 3.7301698|\n",
      "|   561|   3105|   4.0| 3.4682505|\n",
      "|   517|   3105|   2.0| 2.0704498|\n",
      "|   234|   4477|   1.0| 1.9366286|\n",
      "|   232|   5110|   3.0| 3.7360332|\n",
      "|   182|   5110|   4.0| 3.2376585|\n",
      "|   610|   5110|   4.0|  4.254134|\n",
      "|    68|   5110|   1.0| 3.2877972|\n",
      "|    28|   5995|   3.0|  3.290699|\n",
      "|   330|   5995|   3.5|  4.262748|\n",
      "|   581|   5995|   5.0| 4.1027822|\n",
      "|   169|   5995|   4.5|  4.388907|\n",
      "|   489|   5995|   3.5| 3.8359463|\n",
      "|   326|   5995|   5.0| 4.4015303|\n",
      "|   464|   5995|   4.0| 4.0061626|\n",
      "|   488|   5995|   4.5| 3.9044132|\n",
      "|   204|   5995|   4.0| 4.1899223|\n",
      "|   387|   6552|   3.5| 3.5425239|\n",
      "|   480|   6552|   3.5| 3.7988877|\n",
      "|   414|   6552|   3.5| 3.9824884|\n",
      "|   199|   6552|   3.0| 3.6852672|\n",
      "|   606|   6832|   3.5| 3.5777926|\n",
      "|   599|   6832|   3.0| 2.9114003|\n",
      "|   182|   6890|   4.5|  3.513556|\n",
      "|   390|   6890|   3.5| 3.1947384|\n",
      "|   606|   7584|   4.0| 3.5393887|\n",
      "|   600|  25923|   3.5|       NaN|\n",
      "|   414|  27822|   3.0| 2.6918762|\n",
      "|   564|  67734|   5.0| 2.4478528|\n",
      "|   249|  67734|   2.5|  3.621026|\n",
      "|   177|  70293|   4.5| 2.5226336|\n",
      "|    41|  70293|   3.0| 1.8728689|\n",
      "|   381|  70293|   4.0| 2.8698087|\n",
      "|   256|  70293|   3.0|  2.234792|\n",
      "|    68|  70293|   4.0|  2.264029|\n",
      "|   448| 110127|   2.0| 2.9280596|\n",
      "|   371| 110127|   5.0| 3.3814394|\n",
      "|   567| 110127|   0.5| 1.8125329|\n",
      "|   599| 112183|   3.5| 3.0334709|\n",
      "|   448| 134158|   1.5|       NaN|\n",
      "|   540|    296|   5.0|  4.544135|\n",
      "|   251|    296|   5.0| 4.8235755|\n",
      "|   513|    296|   4.5| 3.9231844|\n",
      "|   211|    296|   4.5| 3.9709516|\n",
      "|   126|    296|   1.0|   2.89544|\n",
      "|    81|    296|   3.0|  2.876712|\n",
      "|   210|    296|   0.5| 4.1766186|\n",
      "|   587|    296|   5.0|  4.063305|\n",
      "|   159|    296|   0.5| 2.8511481|\n",
      "|   223|    296|   3.0|  3.214201|\n",
      "|   602|    296|   5.0| 3.5866876|\n",
      "|   409|    296|   5.0|  4.201625|\n",
      "|   372|    296|   4.0| 3.7240252|\n",
      "|   416|    296|   4.0| 3.9064765|\n",
      "|   132|    296|   4.0| 3.3501825|\n",
      "|   142|    296|   5.0| 4.1080093|\n",
      "|   178|    296|   4.5|  4.577405|\n",
      "|   402|    296|   5.0|  3.873777|\n",
      "|   559|    296|   3.0| 4.2310085|\n",
      "|    96|    296|   5.0| 4.0389223|\n",
      "|   542|    296|   3.5|  3.628635|\n",
      "|   553|    296|   5.0| 4.7456293|\n",
      "|   425|    296|   4.0| 4.0552406|\n",
      "|   197|    296|   5.0| 3.5707364|\n",
      "|   552|    296|   4.0| 4.2008753|\n",
      "|   286|    296|   5.0| 4.3726172|\n",
      "|   387|    296|   5.0| 4.2153387|\n",
      "|   229|    296|   5.0|  3.885889|\n",
      "|   220|    296|   5.0| 4.4258533|\n",
      "|   301|    296|   4.5|  3.817162|\n",
      "|   241|    296|   4.5|  4.004965|\n",
      "|    39|    296|   5.0|   4.86931|\n",
      "|   380|    296|   5.0|  4.735825|\n",
      "|   162|    296|   3.0|  4.625452|\n",
      "|   514|    296|   4.0| 3.9501555|\n",
      "|   130|    296|   4.0| 3.9695833|\n",
      "|   446|    296|   4.0| 3.6965237|\n",
      "|   565|    296|   5.0| 4.3389726|\n",
      "|   585|    296|   5.0| 4.5578027|\n",
      "|   400|    296|   5.0|  4.776746|\n",
      "|   403|    296|   5.0| 4.3912086|\n",
      "|   249|    296|   4.0|  4.481526|\n",
      "|   351|    296|   4.5| 4.1990986|\n",
      "|   219|    296|   4.0|   4.07838|\n",
      "|   411|    296|   5.0|  3.377693|\n",
      "|   526|    296|   4.0| 4.4107103|\n",
      "|   528|    296|   4.0| 3.5733213|\n",
      "|    32|    296|   5.0|  4.219916|\n",
      "|   203|    296|   5.0|   4.50246|\n",
      "|   141|    296|   4.0|  3.726899|\n",
      "|   334|    296|   4.0| 3.5550776|\n",
      "|   426|    296|   3.5| 2.8120782|\n",
      "|   354|    296|   4.5| 4.1926336|\n",
      "|   575|    296|   5.0| 4.2948437|\n",
      "|   561|    296|   4.5|  3.992865|\n",
      "|   349|    296|   4.0| 3.7568805|\n",
      "|   424|    296|   4.5|  4.122587|\n",
      "|   135|    296|   4.0|  4.681716|\n",
      "|    42|    296|   5.0| 4.4546666|\n",
      "|   566|    296|   4.0| 3.4570956|\n",
      "|   357|    296|   4.5| 4.1974325|\n",
      "|   405|    296|   4.5|  4.523809|\n",
      "|   605|    296|   2.0|  3.419582|\n",
      "|    18|    296|   4.0| 4.3285856|\n",
      "|   187|    296|   4.5| 4.5597577|\n",
      "|   541|    472|   3.0|  2.806415|\n",
      "|   474|   1466|   4.0| 3.6074214|\n",
      "|   166|   1466|   4.0| 4.0501885|\n",
      "|   414|   1466|   3.0|  4.015574|\n",
      "|    19|   1888|   2.0|  2.400688|\n",
      "|   186|   2035|   5.0|  3.191391|\n",
      "|   255|   2542|   3.0| 2.8544056|\n",
      "|   211|   2542|   4.5| 3.9090922|\n",
      "|   332|   2542|   4.0| 3.7720597|\n",
      "|   140|   2542|   4.0| 3.8434153|\n",
      "|   274|   2542|   3.5|  3.926637|\n",
      "|   182|   2542|   4.0| 3.8907392|\n",
      "|   553|   2542|   5.0|  4.319152|\n",
      "|   380|   2542|   3.0| 4.5005436|\n",
      "|   453|   2542|   5.0|  4.058329|\n",
      "|   585|   2542|   5.0|  4.291124|\n",
      "|   352|   2542|   5.0| 4.2397804|\n",
      "|    18|   2542|   4.5| 4.0846252|\n",
      "|   483|   2542|   5.0|  3.990418|\n",
      "|   187|   2542|   1.0| 3.8943539|\n",
      "|   217|   2874|   3.0| 2.5741525|\n",
      "|     4|   2874|   4.0| 2.1900694|\n",
      "|   202|   3062|   4.0|  4.356698|\n",
      "|   516|   4291|   3.0| 1.9914505|\n",
      "|   474|   4291|   3.0| 2.0965612|\n",
      "|   414|   4291|   3.0|  1.874442|\n",
      "|   104|   4291|   3.5| 2.1198452|\n",
      "|   384|   4396|   1.0| 1.6632437|\n",
      "|   448|   4396|   5.0|  2.606665|\n",
      "|   135|   4396|   3.0| 2.6578472|\n",
      "|    42|   4396|   4.0| 2.0931997|\n",
      "|   599|   6557|   0.5|       NaN|\n",
      "|   387|   7206|   4.0|  3.802112|\n",
      "|   274|   7222|   4.0| 1.6513246|\n",
      "|   305|   8640|   4.0| 3.2331688|\n",
      "|   139|   8640|   1.0| 1.6957716|\n",
      "|   438|   8640|   3.0| 3.2286716|\n",
      "|   480|   8640|   2.0| 2.4644558|\n",
      "|    28|   8950|   4.0|  3.287314|\n",
      "|   300|   8950|   3.0|  3.687377|\n",
      "|   274|   8950|   3.5|  3.818224|\n",
      "|    64|   8950|   4.5|  4.031894|\n",
      "|   387|   8950|   4.0|  3.675537|\n",
      "|    62|   8950|   4.5|  4.303139|\n",
      "|   405|   8950|   4.0|  4.039448|\n",
      "|   204|  54372|   4.0| 3.9669383|\n",
      "|   184|  57183|   4.0|  4.398829|\n",
      "|   448|  97742|   1.5|       NaN|\n",
      "|   372|    322|   4.0| 3.6568274|\n",
      "|   414|    322|   5.0|  3.735115|\n",
      "|   177|    918|   4.0| 4.1731143|\n",
      "|   474|    918|   3.5| 3.9897175|\n",
      "|   219|   1005|   1.5| 1.9443895|\n",
      "|   226|   1005|   3.0|  2.589525|\n",
      "|   294|   1005|   1.0|  2.895243|\n",
      "|   288|   1016|   3.5| 2.8331747|\n",
      "|   593|   2396|   5.0| 3.2626119|\n",
      "|   101|   2396|   4.0| 3.6071396|\n",
      "|   412|   2396|   5.0| 3.7678542|\n",
      "|   332|   2396|   4.0| 3.5490322|\n",
      "|   222|   2396|   3.0| 3.2299628|\n",
      "|   225|   2396|   5.0|  3.852219|\n",
      "|   599|   2396|   4.0| 3.1915069|\n",
      "|   363|   2396|   3.0| 3.3627632|\n",
      "|   572|   2396|   4.0|   3.81182|\n",
      "|   266|   2396|   1.0| 3.5284948|\n",
      "|    64|   2396|   4.0| 3.8063955|\n",
      "|   227|   2396|   4.0|  3.747469|\n",
      "|   554|   2396|   5.0|  4.341525|\n",
      "|   489|   2396|   2.5| 3.5869339|\n",
      "|   590|   2396|   4.0| 3.6119528|\n",
      "|   263|   2396|   4.0| 3.8916745|\n",
      "|   594|   2396|   4.0|  4.155575|\n",
      "|   290|   2396|   4.0| 3.7623606|\n",
      "|   555|   2396|   2.0| 3.8696547|\n",
      "|   514|   2396|   3.5| 3.8647652|\n",
      "|   453|   2396|   5.0| 4.0956917|\n",
      "|   267|   2396|   5.0|  4.287237|\n",
      "|   288|   2396|   4.0|  3.249058|\n",
      "|   595|   2396|   5.0| 3.9914565|\n",
      "|   144|   2396|   3.5| 3.4582157|\n",
      "|   153|   2396|   2.5| 2.1707954|\n",
      "|   603|   3703|   5.0|  3.770834|\n",
      "|     1|   3703|   5.0| 4.5922737|\n",
      "|   274|   3703|   4.0| 4.2222977|\n",
      "|   290|   3703|   4.0| 3.8044026|\n",
      "|   465|   3703|   4.0| 4.0711017|\n",
      "|   312|   3703|   5.0| 3.9167004|\n",
      "|   160|   3703|   4.0| 2.7897794|\n",
      "|    68|   3703|   3.0| 3.1298528|\n",
      "|   561|   3703|   4.5| 3.7109127|\n",
      "|   274|   4167|   3.5| 3.2369199|\n",
      "|   182|   4167|   2.0| 2.5674443|\n",
      "|   448|   4167|   2.0| 3.3687935|\n",
      "|   603|   4697|   3.0| 3.2405047|\n",
      "|   140|   5867|   5.0| 2.7282064|\n",
      "|    91|   6378|   3.0|  3.537931|\n",
      "|   599|   6378|   2.5| 2.7113662|\n",
      "|   519|   6378|   4.0| 4.2119117|\n",
      "|   140|   6378|   5.0| 3.4546218|\n",
      "|   328|   6378|   3.0| 2.6676793|\n",
      "|   139|   6378|   2.0| 2.3202674|\n",
      "|   542|   6378|   3.5| 3.3153381|\n",
      "|   553|   6378|   4.5|  4.083959|\n",
      "|   590|   6378|   3.0|  3.227676|\n",
      "|   307|   6378|   2.5|  2.774085|\n",
      "|   438|   6378|   4.0| 3.7806535|\n",
      "|   129|   6378|   4.0| 3.9042168|\n",
      "|   288|   6378|   3.5| 3.4375515|\n",
      "|   426|   6378|   2.5| 3.3675919|\n",
      "|   522|   6378|   4.0|  3.601995|\n",
      "|   119|   6378|   4.5|  4.068158|\n",
      "|   551|   6378|   4.0|  3.541218|\n",
      "|    18|   6378|   3.0|  3.601315|\n",
      "|   474|   6911|   3.5|       NaN|\n",
      "|   318|  32906|   3.5|       NaN|\n",
      "|   274|  33132|   1.5|       NaN|\n",
      "|   610|  37720|   3.0| 3.0187995|\n",
      "|   414|  37720|   3.0| 3.2620206|\n",
      "|   560|  41285|   4.0|  3.609953|\n",
      "|    41|  41285|   4.0|  3.608965|\n",
      "|    68|  41285|   3.0| 3.2395253|\n",
      "|   506|  41285|   3.0| 4.3196735|\n",
      "|   356|  48342|   5.0|   2.51527|\n",
      "|   111|  62434|   3.5| 3.5507565|\n",
      "|    73|  62434|   4.0| 3.7011971|\n",
      "|   125|  62434|   4.5| 3.8745422|\n",
      "|    68|  62434|   4.0|  3.159566|\n",
      "|   525|  62434|   3.5| 3.2490828|\n",
      "|    22|  68954|   2.0|  1.710344|\n",
      "|   111|  68954|   4.0|  3.706687|\n",
      "|   291|  68954|   4.0| 4.6309867|\n",
      "|    52|  68954|   4.0| 4.7928476|\n",
      "|   308|  68954|   3.5| 2.7613826|\n",
      "|   292|  68954|   4.0| 3.7314334|\n",
      "|   112|  68954|   4.0|  4.047693|\n",
      "|   489|  68954|   4.5| 3.2775047|\n",
      "|   538|  68954|   5.0|   4.63332|\n",
      "|   448|  68954|   3.0|  3.667592|\n",
      "|    63|  68954|   4.0| 3.5835526|\n",
      "|   459|  68954|   5.0| 4.3615756|\n",
      "|    73|  68954|   4.0| 4.0465183|\n",
      "|   378|  68954|   4.0|  3.701027|\n",
      "|   534|  68954|   3.0| 4.4278803|\n",
      "|   426|  68954|   2.5| 4.0133224|\n",
      "|   561|  68954|   4.5| 3.3952565|\n",
      "|   573|  68954|   4.5|  4.528735|\n",
      "|   483|  68954|   5.0| 4.0871572|\n",
      "|   401|  68954|   4.0| 3.8128443|\n",
      "|   578|  72407|   3.5| 3.3574824|\n",
      "|   122|  86377|   5.0| 4.3651323|\n",
      "|    68|  86377|   4.5| 3.1009243|\n",
      "|    63|  89753|   5.0|  3.204901|\n",
      "|   222|  95720|   2.5|   2.48673|\n",
      "|   111|  95720|   4.0| 3.3454444|\n",
      "|   534|  95720|   4.0| 3.3856535|\n",
      "|   292| 106487|   4.5| 3.2513785|\n",
      "|    21| 106487|   4.0| 3.1920376|\n",
      "|   105| 106487|   3.5| 3.5982718|\n",
      "|   567| 106487|   2.5| 1.7645735|\n",
      "|   184| 178111|   2.0|       NaN|\n",
      "|   606|    362|   2.5|   3.33778|\n",
      "|   274|    362|   2.5| 3.4939673|\n",
      "|    20|    362|   4.0| 3.5319877|\n",
      "|   559|    362|   3.0| 3.5364127|\n",
      "|   541|    362|   5.0| 2.7180285|\n",
      "|   281|    362|   2.0| 3.1772141|\n",
      "|   483|    362|   2.5| 3.6402483|\n",
      "|   517|    362|   3.5| 3.0794005|\n",
      "|   470|    613|   3.0| 3.2158918|\n",
      "|    76|    673|   0.5| 2.1577346|\n",
      "|    44|    673|   1.0| 3.0689864|\n",
      "|     1|    673|   3.0| 3.5501332|\n",
      "|   274|    673|   3.5| 3.2563367|\n",
      "|   474|    673|   1.5| 2.2333548|\n",
      "|   191|    673|   5.0| 1.6339743|\n",
      "|   484|    673|   4.0| 3.5543232|\n",
      "|   381|    673|   3.0|  2.360435|\n",
      "|    55|    673|   0.5| 2.9685209|\n",
      "|   277|    673|   3.0| 3.6581926|\n",
      "|   249|    673|   3.0|  3.147179|\n",
      "|   477|    673|   0.5| 3.0717416|\n",
      "|   414|    673|   2.0| 2.8627357|\n",
      "|   567|    673|   2.0| 1.1767442|\n",
      "|   561|    673|   2.0|  2.834023|\n",
      "|   517|    673|   2.0| 2.3785112|\n",
      "|   345|   2971|   5.0| 3.5850039|\n",
      "|   474|   3087|   1.5| 2.6207023|\n",
      "|   555|   3087|   3.0|  3.747241|\n",
      "|   288|   3087|   3.0|  2.706678|\n",
      "|   140|   4259|   4.0| 2.9669871|\n",
      "|   477|   4725|   4.0| 3.6030009|\n",
      "|   608|   4725|   2.5| 3.1089618|\n",
      "|   169|   5222|   4.0|   2.56542|\n",
      "|   182|   5427|   1.5|       NaN|\n",
      "|   307|   5427|   4.0|       NaN|\n",
      "|   414|   5427|   2.0|       NaN|\n",
      "|   514|   5543|   2.5|       NaN|\n",
      "|   288|   5543|   2.0|       NaN|\n",
      "|   606|   7131|   3.0|       NaN|\n",
      "|   175|   7169|   5.0| 3.0899396|\n",
      "|    10|   7169|   4.5|  3.956101|\n",
      "|   182|   8042|   4.0| 4.0086226|\n",
      "|   462|   8042|   5.0| 3.3392563|\n",
      "|   357|  26528|   5.0| 3.3133447|\n",
      "|   605|  26528|   4.5|  2.644174|\n",
      "|   414|  56921|   3.5|  4.122839|\n",
      "|   534|  56921|   4.0|  3.739149|\n",
      "|   210|  58559|   4.0|  4.670246|\n",
      "|   222|  58559|   3.5| 3.5223389|\n",
      "|    22|  58559|   3.0| 2.6191285|\n",
      "|   330|  58559|   5.0|  4.113139|\n",
      "|   232|  58559|   5.0| 4.0478773|\n",
      "|   233|  58559|   4.5|  3.460902|\n",
      "|    16|  58559|   4.5| 3.6871758|\n",
      "|   292|  58559|   4.0| 3.8456533|\n",
      "|   339|  58559|   3.0| 4.1957293|\n",
      "|   484|  58559|   3.5|  4.363658|\n",
      "|   189|  58559|   5.0| 4.0391035|\n",
      "|   434|  58559|   5.0|  4.021027|\n",
      "|    63|  58559|   5.0| 3.6425438|\n",
      "|   382|  58559|   5.0| 4.6884727|\n",
      "|   200|  58559|   5.0| 4.4789305|\n",
      "|   298|  58559|   3.5| 2.7626371|\n",
      "|   567|  58559|   4.0|  2.774098|\n",
      "|   424|  58559|   3.5| 3.8398254|\n",
      "|   119|  58559|   4.5|  4.540122|\n",
      "|   466|  58559|   3.0| 4.2747374|\n",
      "|     2|  58559|   4.5|  3.980719|\n",
      "|   573|  58559|   5.0|  4.552311|\n",
      "|    30|  58559|   5.0|  5.031333|\n",
      "|   282|  58559|   5.0|  4.346485|\n",
      "|   483|  58559|   4.0|   4.04701|\n",
      "|   200|  62299|   3.5|       NaN|\n",
      "|   318|  84273|   5.0|       NaN|\n",
      "|   249|  89047|   4.0|       NaN|\n",
      "|   525|  98122|   3.0|  2.990562|\n",
      "|   596| 188301|   4.0| 3.1782093|\n",
      "|   593|    593|   4.0| 3.5871358|\n",
      "|   193|    593|   3.5| 3.8932855|\n",
      "|   385|    593|   3.0| 3.9054966|\n",
      "|   329|    593|   2.0|  2.102689|\n",
      "|   409|    593|   4.0|  4.382777|\n",
      "|   209|    593|   4.5|  4.437509|\n",
      "|   122|    593|   5.0|  5.101698|\n",
      "|   230|    593|   3.0| 2.9382496|\n",
      "|   233|    593|   4.5| 3.5326471|\n",
      "|   111|    593|   0.5| 4.0048857|\n",
      "|   224|    593|   4.0| 4.4359045|\n",
      "|   178|    593|   4.5|  4.524279|\n",
      "|   283|    593|   4.0| 3.6063726|\n",
      "|   359|    593|   4.5| 3.9975266|\n",
      "|   235|    593|   5.0|  4.102419|\n",
      "|   455|    593|   5.0| 3.6810527|\n",
      "|   112|    593|   4.0| 4.2077465|\n",
      "|   590|    593|   3.5|   4.09344|\n",
      "|    61|    593|   4.0|  4.324227|\n",
      "|   462|    593|   3.5| 3.6294456|\n",
      "|   263|    593|   5.0|  4.231148|\n",
      "|    17|    593|   4.5| 4.4298277|\n",
      "|   583|    593|   2.5| 3.7064757|\n",
      "|   594|    593|   5.0| 4.5380974|\n",
      "|   307|    593|   4.5|   3.42308|\n",
      "|   114|    593|   3.0| 3.7316988|\n",
      "|   176|    593|   5.0| 4.1092663|\n",
      "|     7|    593|   5.0| 4.0118704|\n",
      "|   247|    593|   4.0|  3.983354|\n",
      "|   434|    593|   4.0|  4.450113|\n",
      "|   418|    593|   4.0| 3.7816434|\n",
      "|    80|    593|   5.0| 4.6525164|\n",
      "|   160|    593|   2.0|  3.716773|\n",
      "|    62|    593|   5.0|  4.447654|\n",
      "|   156|    593|   4.0| 4.2539444|\n",
      "|   351|    593|   4.5| 4.1318126|\n",
      "|   338|    593|   4.0| 3.5456548|\n",
      "|   534|    593|   4.0|  4.270205|\n",
      "|   525|    593|   3.5| 4.0840273|\n",
      "|   600|    593|   4.0| 3.6454568|\n",
      "|   349|    593|   5.0| 4.0616555|\n",
      "|   373|    593|   5.0| 3.8272178|\n",
      "|   135|    593|   5.0|  4.214918|\n",
      "|   365|    593|   0.5| 2.9227757|\n",
      "|    46|    593|   5.0| 4.5595794|\n",
      "|   215|    593|   3.0|  3.935956|\n",
      "|   321|    597|   3.0| 3.5235107|\n",
      "|   375|    597|   3.0|  4.002785|\n",
      "|   436|    597|   3.0| 3.1153133|\n",
      "|   602|    597|   2.0| 3.6093228|\n",
      "|   232|    597|   3.5| 3.3732781|\n",
      "|   603|    597|   3.0| 2.5843754|\n",
      "|   280|    597|   4.0|  4.198203|\n",
      "|   402|    597|   4.0|  3.836856|\n",
      "|   491|    597|   4.5|   4.32666|\n",
      "|    19|    597|   3.0| 3.0481923|\n",
      "|   425|    597|   3.5| 3.4659443|\n",
      "|   462|    597|   1.5| 2.1144035|\n",
      "|   514|    597|   2.5| 3.5258856|\n",
      "|   129|    597|   4.0| 3.7898862|\n",
      "|   113|    597|   4.0| 2.8248992|\n",
      "|   608|    597|   2.5| 3.0289028|\n",
      "|   334|    597|   3.5|  3.195184|\n",
      "|   592|    597|   3.0| 3.9508908|\n",
      "|   426|    597|   4.5| 4.1076145|\n",
      "|   304|    597|   4.0|  3.722197|\n",
      "|   541|    597|   3.0| 3.4160252|\n",
      "|   174|    597|   4.0|  4.052986|\n",
      "|   187|    597|   1.5|  2.218676|\n",
      "|   474|    976|   3.0|       NaN|\n",
      "|    28|   1199|   2.0|  3.331549|\n",
      "|    91|   1199|   4.0| 4.2195024|\n",
      "|   274|   1199|   3.0| 3.9055912|\n",
      "|   474|   1199|   3.0| 3.8032823|\n",
      "|   266|   1199|   5.0| 4.9546623|\n",
      "|   318|   1199|   3.5|   4.26533|\n",
      "|   249|   1199|   3.5| 4.2951784|\n",
      "|   105|   1199|   4.0| 4.3441124|\n",
      "|   600|   1199|   5.0|  3.614643|\n",
      "|   275|   1199|   4.0|  4.121794|\n",
      "|   483|   1199|   5.0| 4.3579125|\n",
      "|   187|   1199|   5.0| 4.6434946|\n",
      "|   362|   1212|   4.5|  4.401488|\n",
      "|   177|   1212|   3.0| 3.7977595|\n",
      "|   387|   1212|   5.0| 4.0350657|\n",
      "|    23|   1212|   5.0| 3.7323117|\n",
      "|   600|   1212|   4.0| 3.5872087|\n",
      "|   606|   1653|   3.5|  4.137772|\n",
      "|    91|   1653|   4.5| 3.7441237|\n",
      "|    19|   1653|   4.0|  2.956548|\n",
      "|   542|   1653|   4.5| 4.1480904|\n",
      "|   553|   1653|   4.0|   4.46647|\n",
      "|   425|   1653|   4.0| 3.8405924|\n",
      "|   318|   1653|   4.0|  4.007747|\n",
      "|   423|   1653|   5.0| 3.3375776|\n",
      "|   380|   1653|   4.0| 3.9994092|\n",
      "|   391|   1653|   5.0|  3.884242|\n",
      "|    45|   1653|   4.0| 4.4167175|\n",
      "|   288|   1653|   4.0| 3.7470183|\n",
      "|   356|   1653|   4.5| 4.1313553|\n",
      "|   141|   1653|   4.0| 3.5024443|\n",
      "|    19|   2513|   1.0|  2.459266|\n",
      "|   571|   2513|   5.0|  3.189827|\n",
      "|   330|   2797|   4.0| 3.6618156|\n",
      "|   225|   2797|   5.0|  3.907476|\n",
      "|    47|   2797|   2.0|  3.093505|\n",
      "|   132|   2797|   2.0| 3.1449976|\n",
      "|   474|   2797|   4.0|  3.552518|\n",
      "|   292|   2797|   3.5| 3.4146595|\n",
      "|   266|   2797|   4.0|  3.102752|\n",
      "|   504|   2797|   3.5| 3.8165588|\n",
      "|   489|   2797|   4.0| 3.7157037|\n",
      "|   381|   2797|   4.0|  3.798194|\n",
      "|   310|   2797|   3.5| 3.7703488|\n",
      "|   307|   2797|   3.0| 3.0035968|\n",
      "|   380|   2797|   3.0| 3.6602464|\n",
      "|   514|   2797|   4.0| 3.8324976|\n",
      "|   448|   2797|   4.0| 3.6340578|\n",
      "|    45|   2797|   4.0| 3.8273883|\n",
      "|   510|   2797|   3.5| 2.5758686|\n",
      "|   356|   2797|   4.0| 4.0874357|\n",
      "|   156|   2797|   3.0| 3.0979204|\n",
      "|   480|   2797|   5.0|  3.713394|\n",
      "|   195|   2797|   4.0| 3.4689426|\n",
      "|   287|   2797|   3.0|  2.617068|\n",
      "|   469|   2797|   3.0| 3.6155436|\n",
      "|   213|   2797|   4.0|  3.841591|\n",
      "|   561|   2797|   4.0|   3.57732|\n",
      "|   198|   2797|   4.0| 3.5507321|\n",
      "|   313|   2797|   1.0| 3.4120579|\n",
      "|   186|   2797|   4.0|   4.25436|\n",
      "|   275|   2797|   5.0| 3.7757018|\n",
      "|   562|   2797|   4.5|  4.241433|\n",
      "|   368|   3441|   3.0| 2.4806075|\n",
      "|   555|   3441|   3.0| 3.9500372|\n",
      "|   414|   3441|   4.0| 3.1189888|\n",
      "|   561|   3441|   4.5| 2.8454256|\n",
      "|   135|   3441|   4.0| 2.9029365|\n",
      "|   599|   4474|   1.5| 2.1362016|\n",
      "|   603|   4713|   4.0|  2.720242|\n",
      "|   479|   4713|   3.0| 2.9538522|\n",
      "|   377|   4713|   4.5| 3.5237486|\n",
      "|   606|   4796|   3.0| 3.0969648|\n",
      "|   474|   4798|   3.5|       NaN|\n",
      "|   307|   5298|   3.5| 3.0142593|\n",
      "|   596|   6157|   1.5| 2.4239361|\n",
      "|   599|   6157|   2.5|  1.776894|\n",
      "|   474|   6157|   3.0| 2.4471068|\n",
      "|   139|   6157|   2.0| 1.5747131|\n",
      "|   608|   6157|   4.0| 2.8940098|\n",
      "|   525|   6157|   2.0| 2.3623607|\n",
      "|   599|   6188|   3.0|   2.89219|\n",
      "|   583|   6188|   3.0| 3.3784215|\n",
      "|   438|   6188|   3.5| 3.4134822|\n",
      "|   226|   6188|   5.0| 3.9322844|\n",
      "|   608|   6188|   3.5|    3.5038|\n",
      "|   354|   6188|   2.5|  3.409494|\n",
      "|    68|   6188|   4.5| 3.1219342|\n",
      "|   424|   6188|   4.5| 3.1201684|\n",
      "|   448|   7132|   5.0| 3.8903315|\n",
      "|    63|   7132|   4.0| 3.9911113|\n",
      "|   599|  26778|   2.0| 2.7887118|\n",
      "|    68|  26778|   3.0| 2.9925942|\n",
      "|   230|  34330|   3.0|       NaN|\n",
      "|    68|  50685|   4.5|  3.423874|\n",
      "|   307|  53974|   3.0| 0.6941221|\n",
      "|    28|  64983|   2.5| 2.6519008|\n",
      "|   432|  64983|   3.5| 3.3090866|\n",
      "|   249|  64983|   3.5|  3.665596|\n",
      "|   219|  66297|   4.0| 3.4760284|\n",
      "|   380| 105593|   4.0|    4.7954|\n",
      "|   599| 106873|   2.0| 2.0656176|\n",
      "|   599| 120827|   3.0|       NaN|\n",
      "|   599| 121035|   2.0|       NaN|\n",
      "|   599| 148626|   3.0| 3.2538319|\n",
      "|    47| 148626|   3.0| 3.2102108|\n",
      "|   564| 148626|   3.5|  3.563243|\n",
      "|   414| 148626|   5.0| 4.0434527|\n",
      "|   365| 148626|   2.5| 3.4670234|\n",
      "|    89| 164707|   4.0|       NaN|\n",
      "|   268|    155|   1.0| 3.2457657|\n",
      "|   412|    950|   5.0|  3.173367|\n",
      "|    45|   1863|   2.0| 2.5455332|\n",
      "|   195|   1863|   2.0|  2.192081|\n",
      "|   596|   2294|   3.0| 3.2625322|\n",
      "|   325|   2294|   3.0|   3.11438|\n",
      "|   274|   2294|   3.0| 3.2564917|\n",
      "|    20|   2294|   3.5| 3.2777786|\n",
      "|    64|   2294|   3.0| 3.3314478|\n",
      "|   555|   2294|   4.0|  3.560629|\n",
      "|   234|   2294|   3.0| 3.3922853|\n",
      "|   288|   2294|   3.5| 3.2857132|\n",
      "|    42|   2294|   3.0| 3.3893442|\n",
      "|   236|   2606|   2.0| 3.2574396|\n",
      "|   307|   2606|   0.5| 2.2450256|\n",
      "|   312|   2606|   2.0| 3.5050478|\n",
      "|   555|   3661|   3.0|       NaN|\n",
      "|   414|   3844|   2.0| 3.6582904|\n",
      "|    68|   3844|   3.0|  3.142555|\n",
      "|   182|   4773|   3.0|  2.658456|\n",
      "|    64|   4773|   3.0| 2.7368603|\n",
      "|   414|   4773|   2.0| 2.7871213|\n",
      "|     9|   5962|   1.0|       NaN|\n",
      "|   232|   6754|   3.5| 3.6021013|\n",
      "|   111|   6754|   3.0| 3.2493165|\n",
      "|   594|   6754|   5.0| 4.2774153|\n",
      "|   380|   6754|   4.0| 3.6473668|\n",
      "|   428|   6754|   4.0| 2.6045375|\n",
      "|   438|   6754|   3.0| 3.2132401|\n",
      "|   167|   6754|   3.5|  2.757852|\n",
      "|   414|   6754|   3.0| 3.0348544|\n",
      "|   298|   6754|   2.5| 2.1241417|\n",
      "|   464|   7481|   4.5| 4.0911574|\n",
      "|   274|  51091|   4.0| 3.0804791|\n",
      "|   414|  51091|   4.0| 3.3060923|\n",
      "|   318|  54272|   4.0| 3.5363655|\n",
      "|   610|  54272|   3.5| 3.4619765|\n",
      "|   307|  54272|   4.5| 3.1420412|\n",
      "|   278|  54272|   5.0|  3.772082|\n",
      "|   331|  54272|   3.0| 3.4694438|\n",
      "|   249|  54272|   4.0|  3.912094|\n",
      "|   226|  54272|   4.0|  3.521698|\n",
      "|   490|  54272|   3.0| 2.8916051|\n",
      "|   141|  54272|   2.5| 3.1265483|\n",
      "|   414|  54272|   4.0|  3.680653|\n",
      "|   426|  54272|   3.0| 2.2423806|\n",
      "|    68|  54272|   3.0| 3.1173944|\n",
      "|    68|  54734|   3.5| 1.1583009|\n",
      "|   199|  56274|   3.0|       NaN|\n",
      "|   490|  64622|   3.5| 3.2633626|\n",
      "|    68|  64622|   3.5| 2.9009566|\n",
      "|   599|  78105|   2.0| 2.1289704|\n",
      "|   556|  78105|   4.0| 3.6193385|\n",
      "|   380|  78105|   4.0|  2.975034|\n",
      "|    62|  78105|   3.5|  2.833522|\n",
      "|   464|  78105|   2.5| 3.1228354|\n",
      "|   599|  87960|   3.0|       NaN|\n",
      "|   249|  90430|   4.5| 4.1035204|\n",
      "|   448| 112497|   1.0| 1.6440351|\n",
      "|   318| 114847|   3.0|       NaN|\n",
      "|   448| 122490|   1.5|       NaN|\n",
      "|    73| 126548|   2.5| 3.3121715|\n",
      "|   256| 126548|   4.5| 3.5325527|\n",
      "|   298| 126548|   2.0| 2.0062068|\n",
      "|   305| 143385|   4.0|  3.597005|\n",
      "|   339| 143385|   4.0|  3.522239|\n",
      "|    21| 143385|   4.0| 3.0583057|\n",
      "|   255|     34|   1.0| 2.6302247|\n",
      "|   436|     34|   5.0| 3.5724711|\n",
      "|   412|     34|   5.0|  4.140398|\n",
      "|   111|     34|   2.5| 2.6295075|\n",
      "|   140|     34|   4.0| 3.7558742|\n",
      "|   132|     34|   1.5| 2.4763098|\n",
      "|     6|     34|   4.0| 3.3434696|\n",
      "|   474|     34|   4.5| 3.1653435|\n",
      "|   470|     34|   4.0| 3.7064178|\n",
      "|   359|     34|   2.5|  3.317113|\n",
      "|   377|     34|   4.0|  4.371535|\n",
      "|    19|     34|   4.0| 3.1075988|\n",
      "|   425|     34|   3.5| 3.0712538|\n",
      "|   563|     34|   2.0| 2.9405026|\n",
      "|   380|     34|   4.0|   4.08147|\n",
      "|   240|     34|   5.0| 3.6673055|\n",
      "|   480|     34|   4.0| 3.2541823|\n",
      "|   323|     34|   2.5| 3.6226172|\n",
      "|   170|     34|   5.0| 2.8389194|\n",
      "|   379|     34|   5.0| 3.1444135|\n",
      "|   357|     34|   4.0|  3.596356|\n",
      "|   275|     34|   5.0| 3.8971558|\n",
      "|   517|     34|   5.0|  2.841638|\n",
      "|   140|    193|   2.0| 2.1077383|\n",
      "|   603|    193|   4.0| 1.9297361|\n",
      "|    43|    193|   4.0|  2.007412|\n",
      "|   158|    193|   3.0| 2.7397537|\n",
      "|   337|    193|   4.0| 3.0677001|\n",
      "|   405|    193|   3.5| 2.7776377|\n",
      "|   476|    368|   3.0| 3.5546935|\n",
      "|   140|    368|   3.0| 3.4737568|\n",
      "|     6|    368|   5.0| 3.9745388|\n",
      "|   489|    368|   3.0| 2.7259064|\n",
      "|   176|    368|   4.0| 4.0807514|\n",
      "|   520|    368|   3.0| 3.8270817|\n",
      "|   244|    368|   5.0| 3.5325508|\n",
      "|   446|    368|   3.0| 3.0786028|\n",
      "|   181|    368|   3.0|  3.403449|\n",
      "|   592|    368|   3.0|  3.772225|\n",
      "|   170|    368|   3.0| 3.2275655|\n",
      "|   369|    368|   3.0|  3.080574|\n",
      "|    68|    368|   4.0| 3.2860317|\n",
      "|   517|    368|   3.0| 2.8108397|\n",
      "|   474|   1068|   3.5|       NaN|\n",
      "|   516|   1198|   4.0| 4.2978983|\n",
      "|   137|   1198|   4.5|  4.121132|\n",
      "|   193|   1198|   2.0| 3.6848454|\n",
      "|    28|   1198|   2.5| 3.4239118|\n",
      "|   497|   1198|   4.0| 3.0528584|\n",
      "|    27|   1198|   5.0| 3.7986293|\n",
      "|   223|   1198|   3.5| 3.4063957|\n",
      "|   140|   1198|   4.0| 3.9750307|\n",
      "|   152|   1198|   3.5| 3.7940211|\n",
      "|     1|   1198|   5.0| 4.8627076|\n",
      "|   274|   1198|   4.0| 4.1442194|\n",
      "|   479|   1198|   4.0| 4.2379475|\n",
      "|   570|   1198|   4.0| 3.8841662|\n",
      "|   560|   1198|   4.0|  4.010221|\n",
      "|   165|   1198|   5.0|  4.267011|\n",
      "|   590|   1198|   5.0|  4.073418|\n",
      "|   586|   1198|   5.0|  4.603913|\n",
      "|   398|   1198|   4.5| 4.1935334|\n",
      "|   310|   1198|   4.0| 4.0988493|\n",
      "|   307|   1198|   4.0| 3.0592003|\n",
      "|   494|   1198|   5.0| 4.4600716|\n",
      "|   555|   1198|   4.0|  4.267835|\n",
      "|   247|   1198|   4.0| 3.9205308|\n",
      "|   171|   1198|   5.0|  4.773175|\n",
      "|   166|   1198|   4.5| 4.3990293|\n",
      "|    77|   1198|   5.0| 4.3558764|\n",
      "|    24|   1198|   4.5| 4.1067424|\n",
      "|   160|   1198|   3.0| 3.2227995|\n",
      "|   156|   1198|   4.0| 3.9317741|\n",
      "|   480|   1198|   5.0| 3.9537835|\n",
      "|    29|   1198|   4.5| 4.3552165|\n",
      "|   226|   1198|   4.0| 4.3378315|\n",
      "|    21|   1198|   4.0| 3.6849995|\n",
      "|   256|   1198|   5.0| 4.2429414|\n",
      "|   221|   1198|   3.5|  4.139743|\n",
      "|   200|   1198|   4.0|  4.447291|\n",
      "|   105|   1198|   4.0| 4.2588286|\n",
      "|   413|   1198|   1.0|  4.894384|\n",
      "|   201|   1198|   5.0| 5.0079803|\n",
      "|   357|   1198|   4.0| 4.2214627|\n",
      "|    30|   1198|   5.0|  4.778021|\n",
      "|   557|   1198|   3.5| 4.2246947|\n",
      "|   597|   1344|   4.0| 4.2189074|\n",
      "|   140|   1344|   3.0| 3.6945083|\n",
      "|   474|   1344|   4.5| 3.6113455|\n",
      "|   462|   1344|   3.5| 3.5886755|\n",
      "|   414|   1344|   3.5|  4.141815|\n",
      "|   563|   1537|   3.5| 3.2625468|\n",
      "|    83|   1537|   2.0| 3.4497747|\n",
      "|   260|   1537|   4.0| 3.5918171|\n",
      "|    19|   1924|   2.0| 2.7485042|\n",
      "|   489|   1924|   4.0| 2.8560839|\n",
      "|   288|   1924|   2.0| 2.3579628|\n",
      "|   469|   1924|   4.0| 2.7696838|\n",
      "|   499|   1924|   3.0|  2.753069|\n",
      "|    18|   1924|   2.5| 2.5888817|\n",
      "|    70|   3152|   4.0|  4.797567|\n",
      "|   221|   3152|   5.0|  4.679086|\n",
      "|   474|   4132|   3.0|  2.016321|\n",
      "|    42|   4132|   3.0|  2.508101|\n",
      "|   325|   4263|   4.0| 3.4521604|\n",
      "|   367|   4321|   4.0|  3.317074|\n",
      "|   140|   4321|   4.0|  3.404827|\n",
      "|   448|   4321|   5.0|  3.258854|\n",
      "|   480|   4321|   3.0|  3.527739|\n",
      "|   275|   4321|   3.0|  3.945219|\n",
      "|   594|   4517|   0.5| 2.7403448|\n",
      "|   274|   6005|   3.5| 2.4221516|\n",
      "|    66|   6124|   3.5| 1.8529265|\n",
      "|   590|   6639|   4.0| 3.5523875|\n",
      "|   260|   6639|   4.0| 3.9993372|\n",
      "|    23|   7587|   5.0|  3.324788|\n",
      "|   232|   8464|   3.0|  3.598188|\n",
      "|    47|   8464|   3.0| 3.1103172|\n",
      "|   274|   8464|   3.5| 3.4890862|\n",
      "|   438|   8464|   4.0| 3.6654506|\n",
      "|   166|   8464|   3.5| 3.9507258|\n",
      "|   448|   8464|   3.5| 3.3978128|\n",
      "|   249|   8464|   4.0| 3.8610647|\n",
      "|   414|   8464|   4.0|  3.764865|\n",
      "|   608|   8464|   3.5|  3.588777|\n",
      "|   105|   8464|   4.0| 3.8862214|\n",
      "|    68|   8464|   4.5| 3.1654475|\n",
      "|   187|   8464|   4.0| 3.3525007|\n",
      "|   580|   8961|   4.5|  3.455107|\n",
      "|    28|   8961|   3.5| 2.8341877|\n",
      "|   332|   8961|   3.5|  3.937336|\n",
      "|    91|   8961|   4.5| 3.6117692|\n",
      "|   222|   8961|   3.0|  3.361384|\n",
      "|    22|   8961|   4.0| 2.1051688|\n",
      "|   230|   8961|   3.0|  3.088403|\n",
      "|   539|   8961|   4.5| 3.9759123|\n",
      "|   305|   8961|   3.0| 3.9004526|\n",
      "|    52|   8961|   4.0|  4.453878|\n",
      "|   280|   8961|   3.5| 4.0555468|\n",
      "|   474|   8961|   4.0| 4.0251446|\n",
      "|   306|   8961|   3.5|  3.138801|\n",
      "|    15|   8961|   2.5| 3.4020128|\n",
      "|   263|   8961|   3.5| 4.0562754|\n",
      "|   247|   8961|   4.0| 3.8529017|\n",
      "|    50|   8961|   3.0| 2.7135143|\n",
      "|    62|   8961|   4.5| 4.2640066|\n",
      "|    21|   8961|   3.5| 3.2650158|\n",
      "|   414|   8961|   4.0|  4.121977|\n",
      "|   334|   8961|   3.5| 3.6918983|\n",
      "|   376|   8961|   3.5|  4.174907|\n",
      "|   487|   8961|   4.0| 3.4362717|\n",
      "|   354|   8961|   4.0| 3.7406063|\n",
      "|   567|   8961|   3.5| 2.9081562|\n",
      "|   317|   8961|   2.0| 3.6720195|\n",
      "|   357|   8961|   4.0| 4.1397266|\n",
      "|   573|   8961|   4.5|  4.415964|\n",
      "|    66|   8961|   4.0| 4.0923696|\n",
      "|   252|   8961|   4.5|   4.25044|\n",
      "|   387|  26258|   3.5| 3.8733726|\n",
      "|   600|  26258|   5.0| 3.3616986|\n",
      "|   600|  52767|   4.0| 2.9536924|\n",
      "|   305|  62376|   2.5|   3.20973|\n",
      "|   111|  72167|   5.0| 2.1211605|\n",
      "|   358|  89386|   0.5|       NaN|\n",
      "|   599|  94864|   3.5| 2.7962332|\n",
      "|   582|  94864|   4.0| 3.0762267|\n",
      "|    50|  94864|   1.5| 2.0771115|\n",
      "|   249|  94864|   4.5| 3.4998226|\n",
      "|   317|  94864|   4.0| 3.2920837|\n",
      "|   599| 117895|   2.5| 1.7433364|\n",
      "|   567| 117895|   0.5| 0.4168576|\n",
      "|   111| 136511|   2.0|       NaN|\n",
      "|   448|    101|   3.5| 3.2028098|\n",
      "|   480|    101|   5.0| 3.0627785|\n",
      "|   221|    101|   4.5| 4.4220753|\n",
      "|    27|    126|   2.0| 1.8390054|\n",
      "|     6|    126|   3.0| 1.8007389|\n",
      "|     4|    126|   1.0| 1.5089984|\n",
      "|   234|    126|   2.0| 1.9034032|\n",
      "|   395|    126|   2.0| 1.6011858|\n",
      "|   160|    126|   1.0|  2.416048|\n",
      "|   580|   1183|   4.0| 3.2104585|\n",
      "|   481|   1183|   4.0| 3.9405012|\n",
      "|   140|   1183|   3.0|  3.770781|\n",
      "|   572|   1183|   5.0|  4.166989|\n",
      "|   391|   1183|   3.0|  4.180995|\n",
      "|   524|   1183|   3.0| 3.2373447|\n",
      "|   160|   1183|   4.0| 2.8993201|\n",
      "|   265|   1183|   3.0| 2.9815166|\n",
      "|   517|   1183|   4.0| 1.6575097|\n",
      "|   368|   1378|   3.0| 2.9482074|\n",
      "|   202|   1378|   3.0| 3.3210642|\n",
      "|   234|   1378|   4.0| 2.7488725|\n",
      "|   480|   1378|   0.5|  3.607264|\n",
      "|   201|   1378|   4.0|   3.49784|\n",
      "|   330|   1500|   2.5|  3.525516|\n",
      "|   603|   1500|   4.0| 3.2280717|\n",
      "|   182|   1500|   2.0| 3.7535443|\n",
      "|   283|   1500|   2.0| 3.3861177|\n",
      "|    19|   1500|   2.0| 3.2112114|\n",
      "|   263|   1500|   3.0| 3.9713976|\n",
      "|   381|   1500|   4.0| 3.6554723|\n",
      "|   469|   1500|   4.0| 3.7984471|\n",
      "|    33|   1500|   4.0| 3.7564301|\n",
      "|   522|   1500|   4.5| 3.7549376|\n",
      "|    66|   1500|   4.5|  4.125502|\n",
      "|   410|   1500|   2.0|  3.388565|\n",
      "|   562|   1500|   4.0| 4.2696447|\n",
      "|   122|   2003|   4.0| 4.2853723|\n",
      "|   305|   2003|   3.0|  3.884149|\n",
      "|   217|   2003|   2.0|  2.936482|\n",
      "|   555|   2003|   3.0| 3.3682427|\n",
      "|   160|   2003|   4.0| 2.7381501|\n",
      "|   414|   2003|   4.0| 3.4847636|\n",
      "|   534|   2003|   4.0| 3.6195815|\n",
      "|   354|   2003|   4.0| 3.5108318|\n",
      "|   199|   2003|   1.0| 3.3162227|\n",
      "|   599|   2261|   1.5| 3.0427237|\n",
      "|    42|   2771|   4.0|  3.422643|\n",
      "|   274|   2907|   3.0| 3.3671718|\n",
      "|   607|   2907|   3.0| 3.0604925|\n",
      "|   555|   2907|   5.0| 3.5326333|\n",
      "|   137|   3198|   3.5| 4.1844635|\n",
      "|    28|   3198|   3.0|  2.869207|\n",
      "|   414|   3198|   4.0| 4.2469397|\n",
      "|   367|   4153|   3.0| 2.1962934|\n",
      "|   274|   4153|   3.5| 2.3562477|\n",
      "|   182|   4153|   2.0| 1.8798943|\n",
      "|   298|   4153|   0.5| 1.8545182|\n",
      "|   432|   4865|   4.0| 3.3061566|\n",
      "|    64|   4865|   4.0|  3.617445|\n",
      "|    51|   4865|   5.0| 3.6801853|\n",
      "|   249|   4865|   3.5| 3.7918077|\n",
      "|   414|   4865|   5.0|  3.575987|\n",
      "|   608|   4865|   4.0| 3.6237516|\n",
      "|   105|   4865|   4.0| 3.8863735|\n",
      "|   108|   4992|   4.0| 3.0629244|\n",
      "|   169|   4992|   4.0| 4.2274647|\n",
      "|   520|   4992|   3.5| 3.4752514|\n",
      "|   525|   4992|   2.0| 3.1249218|\n",
      "|   438|   7173|   2.5| 2.5733566|\n",
      "|    45|   7173|   5.0| 3.7231283|\n",
      "|   110|   7173|   3.0| 2.9264128|\n",
      "|   605|   7173|   2.0| 2.5545292|\n",
      "|   387|  25963|   4.0|       NaN|\n",
      "|   351|  39400|   3.5| 1.8575346|\n",
      "|   414|  39427|   4.0| 3.4291022|\n",
      "|   219|  47044|   2.0| 2.3215647|\n",
      "|    76|  55577|   4.5| 2.7646222|\n",
      "|   232|  55577|   3.0|    2.6987|\n",
      "|   599|  75416|   1.5|       NaN|\n",
      "|   586| 110130|   4.0|  4.179596|\n",
      "|    89| 110130|   5.0|  2.604115|\n",
      "|   462| 160644|   5.0|       NaN|\n",
      "|   599|     81|   2.5|  2.476139|\n",
      "|   304|     81|   4.0| 2.5899234|\n",
      "|   521|     81|   3.0| 3.2360296|\n",
      "|   606|    830|   3.5| 2.6979508|\n",
      "|   484|    830|   4.5| 2.6925762|\n",
      "|   217|    830|   3.0| 1.9756012|\n",
      "|   492|    830|   3.0| 2.8395169|\n",
      "|   188|    830|   4.0| 2.7598896|\n",
      "|   251|   1259|   5.0|  4.594077|\n",
      "|   577|   1259|   3.0| 3.7814436|\n",
      "|   159|   1259|   2.0| 3.4810357|\n",
      "|   409|   1259|   4.0| 4.3469105|\n",
      "|   367|   1259|   4.0| 3.9855616|\n",
      "|   305|   1259|   4.5|  4.360936|\n",
      "|   274|   1259|   3.5|  3.821743|\n",
      "|   339|   1259|   5.0|  4.229293|\n",
      "|   452|   1259|   5.0|  4.853361|\n",
      "|    19|   1259|   3.0| 3.3641174|\n",
      "|   607|   1259|   5.0|  3.800975|\n",
      "|   462|   1259|   4.0| 3.0673795|\n",
      "|   552|   1259|   3.5| 3.7638116|\n",
      "|   514|   1259|   4.5|  4.017647|\n",
      "|    45|   1259|   3.0| 4.3026123|\n",
      "|   418|   1259|   3.5|   4.13898|\n",
      "|   288|   1259|   3.5| 3.7299874|\n",
      "|   226|   1259|   4.0| 3.9953504|\n",
      "|   200|   1259|   4.0| 4.1647534|\n",
      "|   600|   1259|   3.0| 3.7054057|\n",
      "|   201|   1259|   4.0|  4.530467|\n",
      "|   294|   1259|   3.0| 3.2018745|\n",
      "|   275|   1259|   4.0|  4.058555|\n",
      "|   215|   1259|   4.5| 4.0565457|\n",
      "|   562|   1259|   5.0|  4.286248|\n",
      "|   183|   2662|   3.0| 3.0730069|\n",
      "|   555|   2662|   4.0| 2.9468079|\n",
      "|   288|   2662|   3.0|  2.928762|\n",
      "|   414|   3008|   4.0|       NaN|\n",
      "|   606|   3538|   4.0| 2.6380904|\n",
      "|     4|   3538|   2.0| 2.7377465|\n",
      "|    42|   4293|   4.0| 2.4178157|\n",
      "|   606|   4896|   4.0|  3.763382|\n",
      "|   599|   4896|   3.0| 2.6398985|\n",
      "|   140|   4896|   3.0| 3.5316465|\n",
      "|   291|   4896|   5.0|  4.607515|\n",
      "|   280|   4896|   4.0| 4.2003183|\n",
      "|   205|   4896|   4.5|  3.729773|\n",
      "|   560|   4896|   3.0| 3.2126236|\n",
      "|   381|   4896|   4.0| 4.1175065|\n",
      "|   610|   4896|   4.0| 3.8864927|\n",
      "|   301|   4896|   4.0| 3.8927264|\n",
      "|     4|   4896|   4.0| 3.5210729|\n",
      "|   527|   4896|   5.0| 4.0906253|\n",
      "|   480|   4896|   3.5|   3.52957|\n",
      "|    21|   4896|   4.0| 3.3412638|\n",
      "|   414|   4896|   2.0| 3.6042452|\n",
      "|   106|   4896|   5.0|  4.683155|\n",
      "|   135|   4896|   4.0| 3.6099446|\n",
      "|   466|   4896|   5.0| 3.8240237|\n",
      "|   357|   4896|   3.5|  4.058522|\n",
      "|   184|   4896|   3.5|  3.855577|\n",
      "|   517|   4896|   4.0| 2.7012575|\n",
      "|   599|   5055|   3.0|  2.580354|\n",
      "|   380|   5055|   3.0|  3.731872|\n",
      "|   480|   5055|   0.5| 2.9111376|\n",
      "|   169|   5151|   4.0| 3.8580966|\n",
      "|   448|   5151|   3.0| 2.7532425|\n",
      "|   427|   5151|   2.5| 2.4541104|\n",
      "|    95|   5151|   4.0| 2.9004838|\n",
      "|   298|   5151|   2.0| 1.5178595|\n",
      "|    68|   5151|   3.5|  3.105226|\n",
      "|   420|   5151|   2.5| 2.7746966|\n",
      "|   599|   5254|   3.5| 2.4269345|\n",
      "|   182|   5254|   2.0|  2.546153|\n",
      "|   312|   5254|   3.0| 2.7700956|\n",
      "|    21|   5254|   3.0|  2.961936|\n",
      "|   298|   5254|   2.5| 1.8148478|\n",
      "|     9|   5447|   4.0| 2.7265058|\n",
      "|   414|   5452|   1.0| 1.8650082|\n",
      "|   448|   5490|   5.0|       NaN|\n",
      "|   274|   5585|   3.5| 1.6122992|\n",
      "|   473|   5785|   3.5|  3.110523|\n",
      "|    20|   5785|   4.0| 3.2787018|\n",
      "|   339|   5785|   4.0| 3.2580984|\n",
      "|   495|   5785|   3.0|  4.633586|\n",
      "|   427|   5785|   3.5|  2.979339|\n",
      "|   105|   5785|   3.5| 2.9357157|\n",
      "|   298|   5785|   3.0| 2.6223125|\n",
      "|   410|   6460|   5.0|  4.274272|\n",
      "|   274|   6664|   3.5| 3.4058878|\n",
      "|   561|   6664|   3.5|  3.100503|\n",
      "|   146|   6953|   3.0| 3.1448646|\n",
      "|   348|   6953|   4.5| 3.8733048|\n",
      "|   570|   6953|   4.0| 2.9590867|\n",
      "|   241|   6953|   3.0| 3.3710601|\n",
      "|    82|   6953|   2.5| 2.7355232|\n",
      "|   156|   6953|   4.5| 2.9297054|\n",
      "|   199|   6953|   3.0| 2.6863854|\n",
      "|   298|   7048|   2.0| 2.4575367|\n",
      "|    66|   7048|   4.0|  3.954159|\n",
      "|   580|   7649|   3.5| 2.4065702|\n",
      "|   274|   8977|   2.5| 1.7102287|\n",
      "|   562|  27140|   3.0|       NaN|\n",
      "|   448|  45062|   2.0| 3.0751746|\n",
      "|   610|  60766|   4.5| 4.1264453|\n",
      "|   357|  60766|   3.5|  4.417535|\n",
      "|   610|  63768|   3.0|       NaN|\n",
      "|    76|  81535|   4.5|       NaN|\n",
      "|   306|  86833|   4.0| 3.2852015|\n",
      "|   484|  86833|   4.0| 3.5835357|\n",
      "|   563|  86833|   4.0| 3.4333253|\n",
      "|   298|  86833|   3.0| 2.5410447|\n",
      "|   560|  89804|   4.0|  3.106523|\n",
      "|   448| 117107|   2.5|       NaN|\n",
      "|   292| 130576|   2.0| 1.1038599|\n",
      "|   560| 130576|   2.0| 1.5337927|\n",
      "|   448| 130576|   3.0|  1.847678|\n",
      "|    89| 141544|   2.5| 1.9573439|\n",
      "|   525| 142115|   4.5|  3.607458|\n",
      "|   111| 143859|   1.5| 3.2503617|\n",
      "|   610| 159093|   3.0| 3.3783917|\n",
      "|   365| 159093|   4.0| 3.3501616|\n",
      "|    18| 159093|   3.5|  3.469952|\n",
      "|   594|     28|   4.5|  4.249198|\n",
      "|   140|    210|   3.0| 3.0571618|\n",
      "|   414|    210|   3.0| 2.5511363|\n",
      "|     1|   1031|   5.0| 4.7014294|\n",
      "|    19|   1031|   2.0| 2.6244698|\n",
      "|   307|   1031|   5.0|  3.297861|\n",
      "|    68|   1031|   2.0| 2.9533343|\n",
      "|   177|   1175|   3.0| 3.4410703|\n",
      "|   318|   1175|   3.5| 3.8454328|\n",
      "|   267|   1175|   4.0| 3.8144588|\n",
      "|   260|   1175|   4.0| 3.8313856|\n",
      "|   420|   1175|   4.0|  3.956046|\n",
      "|   580|   1201|   4.0|  3.895848|\n",
      "|   368|   1201|   4.0| 3.5996566|\n",
      "|    76|   1201|   1.5| 3.5568836|\n",
      "|   606|   1201|   4.0|  4.331501|\n",
      "|   329|   1201|   2.0| 2.9036696|\n",
      "|    57|   1201|   5.0|  4.151268|\n",
      "|   415|   1201|   5.0| 4.4066825|\n",
      "|   489|   1201|   4.0| 3.6141496|\n",
      "|   590|   1201|   4.5| 3.9684925|\n",
      "|   610|   1201|   5.0|  4.375676|\n",
      "|   171|   1201|   5.0|   4.95045|\n",
      "|   448|   1201|   5.0| 3.7729957|\n",
      "|   499|   1201|   4.5| 4.2267685|\n",
      "|   282|   1201|   4.5| 4.4282856|\n",
      "|   599|   1426|   1.0|       NaN|\n",
      "|   305|   1892|   2.5| 3.1789217|\n",
      "|    68|   1892|   4.0| 3.2667432|\n",
      "|   280|   2052|   4.0|  3.002503|\n",
      "|   381|   2052|   4.0| 2.6042612|\n",
      "|   234|   2052|   5.0| 2.9866633|\n",
      "|   204|   2313|   4.0| 4.0673018|\n",
      "|    74|   2313|   3.5| 4.3716125|\n",
      "|   202|   2463|   4.0| 3.1931453|\n",
      "|   555|   2463|   4.0| 3.5297587|\n",
      "|    66|   2463|   4.0|  3.491949|\n",
      "|   275|   2463|   4.0| 3.5439577|\n",
      "|   597|   2522|   5.0| 2.8961296|\n",
      "|    91|   2522|   2.0|  2.121647|\n",
      "|   236|   2683|   5.0|  3.537653|\n",
      "|   230|   2683|   0.5| 2.6694674|\n",
      "|   111|   2683|   3.0|  2.608033|\n",
      "|   177|   2683|   1.0| 3.1240819|\n",
      "|   603|   2683|   4.0| 2.3500218|\n",
      "|   432|   2683|   0.5| 2.1305037|\n",
      "|   266|   2683|   5.0| 3.4572713|\n",
      "|   316|   2683|   3.0|  2.589285|\n",
      "|   381|   2683|   3.0|   3.09116|\n",
      "|   495|   2683|   5.0| 2.9793167|\n",
      "|   391|   2683|   5.0| 2.7713947|\n",
      "|   427|   2683|   2.5| 2.5666637|\n",
      "|   591|   2683|   5.0| 2.4711728|\n",
      "|   480|   2683|   4.5|  2.928928|\n",
      "|   482|   2683|   4.0| 3.5618608|\n",
      "|   352|   2683|   1.5| 3.5524597|\n",
      "|   298|   2683|   2.5| 2.4657252|\n",
      "|   600|   2683|   2.5| 3.4648283|\n",
      "|   124|   2683|   4.0| 3.2562969|\n",
      "|    66|   2683|   4.5| 3.0780268|\n",
      "|   282|   2683|   4.0| 3.3481789|\n",
      "|    18|   2683|   2.5|  3.088941|\n",
      "|   606|   3685|   3.0| 3.6682558|\n",
      "|   377|   3841|   1.5|  3.378349|\n",
      "|   140|   4326|   3.5| 3.3745642|\n",
      "|   419|   4326|   3.5|  3.052149|\n",
      "|    68|   4326|   3.5|  2.941173|\n",
      "|   599|   4443|   2.5| 2.2454035|\n",
      "|   169|   4958|   3.5| 3.7694466|\n",
      "|   238|   4958|   4.0| 3.0407143|\n",
      "|   438|   4958|   3.0| 3.1099167|\n",
      "|   427|   4958|   3.0| 2.8341181|\n",
      "|   279|   5152|   3.0| 2.8825035|\n",
      "|    64|   5152|   3.5| 3.2459621|\n",
      "|   599|   5961|   1.5|       NaN|\n",
      "|   222|   7325|   4.0| 3.0065079|\n",
      "|   274|   7325|   2.0|  3.165589|\n",
      "|   590|   7325|   2.5| 3.2491736|\n",
      "|   249|   7325|   4.0| 3.6266909|\n",
      "|   480|   7325|   3.0| 3.1484172|\n",
      "|   226|   7325|   4.0| 3.2276583|\n",
      "|   599|   8827|   3.0| 2.4920077|\n",
      "|   380|  57274|   5.0| 3.6688519|\n",
      "|   533|  57274|   5.0| 4.4293847|\n",
      "|   111|  80166|   3.0| 2.6885293|\n",
      "|   306|  80166|   3.0| 2.3144581|\n",
      "|   298|  80166|   0.5| 1.8299092|\n",
      "|   567| 142507|   2.5|       NaN|\n",
      "|   448| 155820|   1.5| 2.1911001|\n",
      "|   606|    497|   4.5| 3.8701668|\n",
      "|   330|    497|   4.0| 3.3914518|\n",
      "|   372|    497|   4.0| 3.7970958|\n",
      "|    57|    497|   3.0| 3.7150128|\n",
      "|   117|    497|   4.0| 3.7937374|\n",
      "|   594|    497|   4.0| 4.2743607|\n",
      "|   290|    497|   4.0| 4.1970387|\n",
      "|   427|    497|   2.0| 3.6550784|\n",
      "|    58|    497|   5.0|  4.368373|\n",
      "|   436|    596|   4.0| 3.2836394|\n",
      "|   232|    596|   2.5| 2.5673785|\n",
      "|   476|    596|   5.0|  3.529464|\n",
      "|   599|    596|   3.5| 2.7621956|\n",
      "|   177|    596|   3.0| 2.7906175|\n",
      "|   117|    596|   4.0| 3.1219215|\n",
      "|   579|    596|   3.0| 3.0936222|\n",
      "|   318|    596|   3.5| 3.1030178|\n",
      "|   381|    596|   3.5| 2.5194435|\n",
      "|   514|    596|   4.0|  3.416513|\n",
      "|   509|    596|   2.5| 2.4923239|\n",
      "|   288|    596|   3.5| 2.9819305|\n",
      "|   534|    596|   4.0| 3.2175007|\n",
      "|    58|    596|   4.0|  3.522625|\n",
      "|   605|    596|   2.5| 2.3279028|\n",
      "|   517|    596|   3.5| 2.9337864|\n",
      "|   501|    762|   4.0| 3.2002478|\n",
      "|     6|    762|   1.0| 3.1489472|\n",
      "|   470|    762|   3.0| 2.8839347|\n",
      "|    19|    762|   1.0| 2.1983542|\n",
      "|   179|    762|   3.0| 2.8797135|\n",
      "|   489|    762|   0.5| 1.6915033|\n",
      "|   594|    762|   4.0| 4.1083484|\n",
      "|   428|    762|   1.5| 1.2604342|\n",
      "|   156|    762|   2.5| 1.9589295|\n",
      "|   226|    762|   3.5| 2.4159284|\n",
      "|   600|    762|   0.5| 1.7217076|\n",
      "|    66|    762|   2.5| 2.6385956|\n",
      "|   414|   1051|   3.0| 3.7279546|\n",
      "|   606|   1243|   4.0|  4.223157|\n",
      "|    57|   1243|   5.0|  3.851996|\n",
      "|    23|   1243|   3.5| 3.6952531|\n",
      "|   509|   1243|   4.0| 3.1113868|\n",
      "|   105|   1243|   3.0| 3.7952614|\n",
      "|   606|   1274|   4.0| 3.6507692|\n",
      "|   372|   1274|   1.0| 3.5896504|\n",
      "|   500|   1274|   4.0| 2.7911172|\n",
      "|   560|   1274|   3.5| 3.6779666|\n",
      "|   318|   1274|   5.0| 3.7546992|\n",
      "|    50|   1274|   4.0|  2.953154|\n",
      "|   477|   1274|   5.0|  4.244359|\n",
      "|   469|   1274|   4.0|  3.914098|\n",
      "|   105|   1274|   3.5|  3.998918|\n",
      "|   298|   1274|   4.0|  3.985732|\n",
      "|   567|   1274|   0.5| 2.4177864|\n",
      "|   198|   1274|   4.0| 2.8266764|\n",
      "|   313|   1274|   5.0| 4.1734757|\n",
      "|   483|   1274|   3.5| 4.0998673|\n",
      "|   593|   1296|   5.0|  3.900795|\n",
      "|   332|   1296|   3.5| 3.7226052|\n",
      "|   132|   1296|   2.5| 2.9924474|\n",
      "|   474|   1296|   4.0|  3.814167|\n",
      "|   508|   1296|   1.0| 1.9555614|\n",
      "|   600|   1296|   1.5| 3.0839818|\n",
      "|   548|   1621|   4.5| 1.8289739|\n",
      "|   367|   2018|   5.0| 3.4831586|\n",
      "|   599|   2018|   3.0| 2.3750663|\n",
      "|     1|   2018|   5.0|  4.142209|\n",
      "|   328|   2018|   2.5| 3.4162097|\n",
      "|   500|   2018|   3.0|  3.360517|\n",
      "|   555|   2018|   5.0| 3.8355248|\n",
      "|   600|   2018|   3.0| 3.0387564|\n",
      "|   155|   2355|   4.0|  3.512568|\n",
      "|    93|   2355|   4.0|  4.388593|\n",
      "|   599|   2355|   3.0| 2.7933745|\n",
      "|   185|   2355|   3.0| 3.4501386|\n",
      "|   325|   2355|   3.0|   3.20794|\n",
      "|   274|   2355|   3.5| 3.4870467|\n",
      "|    19|   2355|   3.0| 2.9270756|\n",
      "|    64|   2355|   4.0| 3.7630672|\n",
      "|   579|   2355|   4.0| 4.0770073|\n",
      "|   202|   2355|   4.0| 3.6342883|\n",
      "|   514|   2355|   3.5|  3.507228|\n",
      "|   428|   2355|   1.0|  2.656207|\n",
      "|   427|   2355|   2.0|  3.427191|\n",
      "|    21|   2355|   3.0|  3.015193|\n",
      "|   469|   2355|   3.0| 3.4960198|\n",
      "|   141|   2355|   4.0| 3.5174046|\n",
      "|    68|   2355|   3.0| 3.3341517|\n",
      "|   357|   2355|   3.0| 3.8992467|\n",
      "|   311|   2355|   3.0| 1.5490763|\n",
      "|   144|   2355|   3.5| 3.5495138|\n",
      "|   483|   2355|   3.5| 3.4390624|\n",
      "|   474|   2583|   4.0| 3.8038416|\n",
      "|   479|   2583|   5.0| 3.8357518|\n",
      "|   113|   2583|   5.0| 3.0595632|\n",
      "|   332|   2905|   4.5| 4.0316334|\n",
      "|    64|   2905|   3.5|   4.28758|\n",
      "|   387|   2905|   4.5| 3.8637295|\n",
      "|   367|   4155|   4.0| 3.5496273|\n",
      "|    42|   4155|   3.0|  4.318148|\n",
      "|   474|   6667|   3.5|       NaN|\n",
      "|   332|   7147|   4.0| 3.4723694|\n",
      "|   246|   7147|   5.0| 4.2503285|\n",
      "|   473|   7147|   4.0|  3.835103|\n",
      "|   258|   7147|   5.0|  4.772217|\n",
      "|   590|   7147|   3.0|  3.236355|\n",
      "|    88|   7147|   3.5| 4.2252483|\n",
      "|   263|   7147|   4.0| 3.6700535|\n",
      "|   220|   7147|   5.0| 3.8937743|\n",
      "|   380|   7147|   4.0| 3.9779353|\n",
      "|   526|   7147|   4.5| 4.0277386|\n",
      "|   334|   7147|   4.0| 3.4299355|\n",
      "|   525|   7147|   3.5|  3.449627|\n",
      "|   357|   7147|   3.5| 3.8340015|\n",
      "|    66|   7147|   5.0| 4.3197904|\n",
      "|   187|   7147|   2.0| 3.5911403|\n",
      "|   463|   8622|   3.5| 3.5374198|\n",
      "|    34|   8622|   2.0| 3.4906313|\n",
      "|   346|   8622|   4.0| 3.0993867|\n",
      "|   462|   8622|   3.5| 2.6310344|\n",
      "|   226|   8622|   3.5| 3.6930447|\n",
      "|   187|  27741|   4.0| 3.8218603|\n",
      "|   489|  87413|   0.5| 1.7226616|\n",
      "|   448| 100390|   1.5| 2.5659153|\n",
      "|   496| 106920|   4.5| 4.0273733|\n",
      "|   305| 106920|   5.0| 3.7590275|\n",
      "|   318| 106920|   3.0|  4.177273|\n",
      "|   526| 106920|   4.0|  4.000445|\n",
      "|    89| 182731|   4.5|       NaN|\n",
      "|   386|    300|   3.0| 2.7551637|\n",
      "|   603|    300|   2.0| 3.3689256|\n",
      "|   429|    300|   4.0| 3.6926541|\n",
      "|   235|    300|   5.0|  3.533399|\n",
      "|   455|    300|   4.0| 3.0347972|\n",
      "|   387|    300|   3.0|  3.117869|\n",
      "|    35|    300|   4.0| 4.1593666|\n",
      "|   229|    300|   3.0| 3.7182322|\n",
      "|   448|    300|   4.0| 3.3302474|\n",
      "|   480|    300|   4.5| 3.4512348|\n",
      "|   195|    300|   4.0|  3.539289|\n",
      "|   109|    300|   3.0| 3.1239333|\n",
      "|   357|    300|   3.0| 3.4652958|\n",
      "|   584|    300|   3.0| 3.5344458|\n",
      "|   479|    412|   4.0| 3.2307844|\n",
      "|    84|    412|   5.0|  3.599238|\n",
      "|   288|    412|   3.0| 3.0786533|\n",
      "|    31|    784|   5.0| 3.4648538|\n",
      "|    91|    784|   3.5| 2.6453686|\n",
      "|    64|    784|   3.0| 3.0530238|\n",
      "|   167|    784|   0.5| 3.0761232|\n",
      "|   464|    784|   1.5| 2.3465838|\n",
      "|   600|    784|   2.5| 2.7693353|\n",
      "|   270|    784|   1.0| 2.3686912|\n",
      "|    91|    842|   2.5|  1.719482|\n",
      "|   274|    842|   3.5| 2.4793332|\n",
      "|   290|    842|   2.0| 2.0272737|\n",
      "|   234|   1030|   4.0| 2.8394294|\n",
      "|   600|   1030|   3.0| 1.7727461|\n",
      "|   125|   1034|   4.5| 2.1772237|\n",
      "|   552|   1064|   3.5| 2.9909687|\n",
      "|   600|   1064|   1.0| 3.4072182|\n",
      "|    20|   1489|   4.0|       NaN|\n",
      "|    19|   1489|   2.0|       NaN|\n",
      "|   555|   1772|   3.0| 2.4286728|\n",
      "|   361|   1772|   3.0|  3.083025|\n",
      "|    91|   1974|   4.0| 1.8968067|\n",
      "|   387|   1974|   2.0| 1.7704065|\n",
      "|   312|   1974|   2.0|  2.440639|\n",
      "|   288|   1974|   1.0| 2.0269773|\n",
      "|   368|   3706|   3.0| 1.9733633|\n",
      "|   465|   3706|   4.0| 3.2720003|\n",
      "|   140|   4848|   4.0|  2.868127|\n",
      "|   416|   4848|   4.0| 3.5624428|\n",
      "|   182|   4848|   5.0| 3.7507267|\n",
      "|   318|   4848|   4.0| 3.7118464|\n",
      "|   448|   4848|   3.0|   3.13135|\n",
      "|   509|   4848|   3.5| 3.3185415|\n",
      "|   287|   4848|   4.0| 3.3181314|\n",
      "|   317|   4848|   3.0| 3.9977634|\n",
      "|   424|   4848|   3.5| 3.8191154|\n",
      "|   199|   4848|   3.0|  4.064803|\n",
      "|   226|   6695|   1.0| 2.1209326|\n",
      "|   274|   6820|   3.5| 3.8653922|\n",
      "|   169|   8008|   5.0| 3.9311514|\n",
      "|    28|   8132|   4.0|  3.540294|\n",
      "|   414|   8915|   3.5|       NaN|\n",
      "|   599|  32584|   3.0| 2.6853414|\n",
      "|   480|  32584|   2.5| 3.1844606|\n",
      "|   221|  32584|   3.0| 3.5618744|\n",
      "|   599|  41716|   2.5| 2.5704257|\n",
      "|   480|  41716|   4.0| 2.9273784|\n",
      "|   219|  41716|   4.0| 2.9669304|\n",
      "|   414|  41716|   2.0|  3.252407|\n",
      "|   288|  45440|   4.0| 3.6176567|\n",
      "|   274|  54785|   3.5| 2.9277456|\n",
      "|   610|  54785|   3.0| 3.2566843|\n",
      "|   448| 103655|   1.5| 2.2200675|\n",
      "|   596| 136864|   3.0| 2.3105016|\n",
      "|   610| 136864|   3.5| 2.7209294|\n",
      "|   380| 136864|   2.0| 2.8109124|\n",
      "|    50| 136864|   1.5| 1.4855855|\n",
      "|   534| 136864|   1.5| 2.5440974|\n",
      "|    25| 180095|   5.0| 3.0609267|\n",
      "|   321|    587|   3.0|  3.631093|\n",
      "|   368|    587|   3.0| 2.8353271|\n",
      "|   159|    587|   4.0|  3.472558|\n",
      "|   602|    587|   4.0| 3.5066972|\n",
      "|   225|    587|   3.0| 3.4412827|\n",
      "|   177|    587|   3.5|  3.565652|\n",
      "|   292|    587|   3.5| 3.4482827|\n",
      "|   559|    587|   3.0| 3.3302643|\n",
      "|   461|    587|   4.0| 3.2482874|\n",
      "|   381|    587|   4.0| 3.4796462|\n",
      "|   217|    587|   3.0| 2.9854417|\n",
      "|   307|    587|   2.0| 2.4825368|\n",
      "|   555|    587|   5.0| 3.4858227|\n",
      "|   314|    587|   4.0| 3.2676435|\n",
      "|   156|    587|   3.0| 2.5596728|\n",
      "|   480|    587|   3.5| 3.0773387|\n",
      "|   592|    587|   4.0| 3.9283166|\n",
      "|   376|    587|   4.0|  3.908589|\n",
      "|   426|    587|   2.0| 4.6229615|\n",
      "|   170|    587|   4.0| 3.6667445|\n",
      "|   135|    587|   4.0| 2.9969018|\n",
      "|   603|    988|   3.0| 2.5183353|\n",
      "|    28|   1276|   3.5| 2.8821845|\n",
      "|    91|   1276|   3.0| 3.5300503|\n",
      "|   409|   1276|   5.0|   4.75863|\n",
      "|   122|   1276|   5.0| 5.0071287|\n",
      "|   168|   1276|   4.5|  4.816841|\n",
      "|   572|   1276|   5.0| 4.6580877|\n",
      "|    64|   1276|   4.0| 4.4900904|\n",
      "|    84|   1276|   5.0| 4.2180347|\n",
      "|    51|   1276|   5.0|  4.458126|\n",
      "|   166|   1276|   4.5| 4.2708383|\n",
      "|   226|   1276|   4.5|  4.104976|\n",
      "|   294|   1276|   3.0| 3.0731874|\n",
      "|    18|   1276|   4.0| 4.2412953|\n",
      "|   596|   1307|   3.5|  3.472278|\n",
      "|   159|   1307|   4.5|  3.236158|\n",
      "|   372|   1307|   4.0| 3.4698215|\n",
      "|   224|   1307|   5.0| 4.5632544|\n",
      "|    19|   1307|   3.0| 3.3023062|\n",
      "|   504|   1307|   4.5| 3.9590783|\n",
      "|   489|   1307|   5.0|  3.691924|\n",
      "|   564|   1307|   5.0| 3.0275698|\n",
      "|   167|   1307|   3.0| 3.1529229|\n",
      "|   356|   1307|   4.5| 4.1247535|\n",
      "|   143|   1307|   2.0| 3.1877074|\n",
      "|   414|   1307|   4.0| 3.8031182|\n",
      "|   304|   1307|   4.0| 3.9831367|\n",
      "|   600|   1307|   2.5|  3.194993|\n",
      "|   357|   1307|   4.5| 4.0885625|\n",
      "|    89|   1307|   2.5| 1.9556556|\n",
      "|   315|   2015|   3.0|  2.883207|\n",
      "|   368|   2094|   3.0|  2.809335|\n",
      "|   477|   2094|   3.0| 3.4205363|\n",
      "|   522|   2094|   1.5| 3.1928823|\n",
      "|   573|   2094|   2.5| 3.9292114|\n",
      "|   597|   2240|   5.0| 3.7227924|\n",
      "|   414|   2240|   3.0| 3.3386264|\n",
      "|   275|   2240|   5.0| 3.5856106|\n",
      "|   202|   2752|   2.0| 3.1367512|\n",
      "|   113|   3296|   5.0| 3.6772976|\n",
      "|   182|   3624|   3.0| 2.5414972|\n",
      "|    20|   3624|   2.0| 3.0824766|\n",
      "|   139|   3624|   2.5| 1.8719337|\n",
      "|    51|   3624|   2.5|   2.93189|\n",
      "|   341|   3624|   3.5| 3.4695954|\n",
      "|    83|   3624|   0.5| 2.5163636|\n",
      "|   135|   3624|   4.0| 2.8378239|\n",
      "|   603|   3626|   3.0| 2.4827347|\n",
      "|   108|   3795|   5.0|       NaN|\n",
      "|   414|   5663|   3.5|       NaN|\n",
      "|   387|   7088|   4.0|       NaN|\n",
      "|   474|  42018|   3.5|0.40624672|\n",
      "|   474|  44511|   3.5|       NaN|\n",
      "|   462|  46855|   4.5|       NaN|\n",
      "|   307|  52435|   4.0| 2.3422046|\n",
      "|   105|  60904|   4.0|       NaN|\n",
      "|   432|  64497|   2.5| 2.6344223|\n",
      "|   596|  71535|   3.5| 3.7974746|\n",
      "|   599|  71535|   3.0| 2.9049768|\n",
      "|   306|  71535|   2.5| 3.6346998|\n",
      "|   143|  71535|   1.0| 3.1904776|\n",
      "|    83|  71535|   2.0|  3.716364|\n",
      "|    68|  71535|   5.0| 3.6874514|\n",
      "|   332|  85510|   3.5| 2.8576355|\n",
      "|   599|  85510|   2.0| 2.4517877|\n",
      "|   509|  85510|   3.5| 2.7181473|\n",
      "|   365|  85510|   2.0| 1.6690087|\n",
      "|   111|  96110|   3.0| 3.5867882|\n",
      "|   448| 109416|   2.0|       NaN|\n",
      "|   305| 135861|   4.0| 2.6319008|\n",
      "|   212| 135861|   2.0| 2.6870494|\n",
      "|   524|     76|   2.0| 3.6256747|\n",
      "|   109|     76|   3.0| 3.5065167|\n",
      "|   313|     76|   1.0| 3.4536948|\n",
      "|   402|    667|   3.0| 3.0680573|\n",
      "|     3|    688|   0.5|0.81179523|\n",
      "|   294|    688|   2.0| 1.8080328|\n",
      "|   593|    914|   4.0| 3.0443962|\n",
      "|   140|    914|   4.0| 3.4053926|\n",
      "|   603|    914|   5.0| 3.5420244|\n",
      "|   590|    914|   4.0|  3.780887|\n",
      "|   398|    914|   5.0|  4.587212|\n",
      "|   100|    914|   4.0|  4.021007|\n",
      "|    84|    914|   4.0|  3.903263|\n",
      "|   188|    914|   5.0| 4.7103796|\n",
      "|   474|   1372|   4.5|  3.316671|\n",
      "|   202|   1372|   3.0| 3.5769136|\n",
      "|   217|   1372|   3.0|  3.695721|\n",
      "|   457|   1372|   2.0|  3.375137|\n",
      "|   414|   1372|   3.0| 3.2786465|\n",
      "|   182|   1480|   4.0| 3.2334185|\n",
      "|    59|   1480|   4.0| 3.3654666|\n",
      "|   603|   1816|   2.0|  2.064774|\n",
      "|    74|   1889|   5.0|   3.81011|\n",
      "|   346|   2467|   4.0| 3.2437825|\n",
      "|    19|   2467|   3.0| 2.9012485|\n",
      "|   175|   2526|   0.5| 1.7828331|\n",
      "|   288|   2526|   2.0| 2.2683287|\n",
      "|    91|   2871|   4.0|  3.561014|\n",
      "|   330|   2871|   4.0|  3.986794|\n",
      "|   462|   2871|   4.0| 3.2125363|\n",
      "|   552|   2871|   3.0| 3.5250487|\n",
      "|   387|   2871|   4.0| 3.4680798|\n",
      "|   380|   2871|   4.0|   4.18414|\n",
      "|    51|   2871|   4.5| 4.5143104|\n",
      "|   527|   2871|   4.0|  4.601293|\n",
      "|   414|   2871|   3.0| 3.7831223|\n",
      "|   562|   2871|   4.0| 4.3719316|\n",
      "|   414|   3127|   2.0| 3.2473705|\n",
      "|   159|   3252|   1.0| 3.2799373|\n",
      "|   414|   3252|   5.0| 3.7918463|\n",
      "|   608|   3252|   4.0| 3.4249814|\n",
      "|    42|   3252|   4.0| 4.3788643|\n",
      "|    19|   3264|   3.0| 1.8562427|\n",
      "|   387|   3264|   1.5| 1.8687901|\n",
      "|   448|   3264|   1.5| 2.4500434|\n",
      "|   325|   3435|   5.0| 4.5089736|\n",
      "|   603|   3435|   5.0|  4.184823|\n",
      "|   552|   3435|   2.5|  4.202195|\n",
      "|   290|   3435|   5.0|   4.56624|\n",
      "|   140|   4700|   3.0| 3.1227612|\n",
      "|   305|   4700|   3.0|  3.150506|\n",
      "|    20|   4700|   4.0| 3.7356627|\n",
      "|     7|   4700|   1.5| 2.9508486|\n",
      "|    68|   4700|   2.5| 3.3606012|\n",
      "|    89|   4700|   1.5| 2.8409636|\n",
      "|   606|   6863|   3.0|  3.554533|\n",
      "|   232|   6863|   4.0| 3.3314567|\n",
      "|   212|   6863|   3.5|  3.109551|\n",
      "|   274|   6863|   2.5| 3.2744179|\n",
      "|   182|   6863|   4.0| 3.3656979|\n",
      "|   474|   6863|   3.5| 3.4874868|\n",
      "|   425|   6863|   3.0| 3.3220816|\n",
      "|   590|   6863|   3.0| 3.2188828|\n",
      "|   564|   6863|   3.5|  3.397643|\n",
      "|   307|   6863|   2.5| 2.9223795|\n",
      "|   380|   6863|   3.5|   3.55061|\n",
      "|   331|   6863|   3.5| 3.0535197|\n",
      "|   261|   6863|   1.0| 3.5527215|\n",
      "|    82|   6863|   3.5| 2.9463804|\n",
      "|   408|   6863|   4.0|  3.664236|\n",
      "|   480|   6863|   4.0|  3.115942|\n",
      "|   414|   6863|   3.5|  3.493915|\n",
      "|   200|   6863|   5.0| 3.5394006|\n",
      "|   534|   6863|   4.0| 3.7997918|\n",
      "|   483|   6863|   4.0|  3.673748|\n",
      "|    89|   6863|   1.5| 2.7771387|\n",
      "|   307|   7321|   2.0| 2.6070316|\n",
      "|   307|  30894|   2.0| 1.9749668|\n",
      "|   177|  39183|   3.0| 3.6558433|\n",
      "|    52|  39183|   4.0| 3.8489058|\n",
      "|   560|  39183|   3.0| 3.0702505|\n",
      "|   288|  39183|   4.5| 3.3550744|\n",
      "|   480|  39183|   4.0| 3.3836203|\n",
      "|   421|  39183|   4.5| 3.8645716|\n",
      "|   474|  45635|   3.0|       NaN|\n",
      "|   414|  45635|   3.0|       NaN|\n",
      "|   610|  55269|   4.0| 3.6069732|\n",
      "|   356|  55269|   4.0| 3.7809682|\n",
      "|   414|  55269|   4.0| 3.5249956|\n",
      "|   298|  55269|   2.5|  2.726243|\n",
      "|   199|  55269|   4.0| 2.5671148|\n",
      "|    89|  55269|   2.5| 2.3036427|\n",
      "|   280|  60293|   4.0| 4.6797504|\n",
      "|    21|  73319|   3.0| 2.2020905|\n",
      "|   111|  98083|   5.0| 2.3921208|\n",
      "|   305| 107406|   2.5|  3.344203|\n",
      "|   249| 107406|   4.5| 3.4699051|\n",
      "|    62| 107406|   4.0|   3.65035|\n",
      "|   352| 107406|   4.5|  3.307222|\n",
      "|   414| 107406|   4.0| 3.5347793|\n",
      "|   298| 107406|   3.0| 3.0253968|\n",
      "|   470|     26|   3.0| 3.5835743|\n",
      "|   314|     26|   4.0| 3.5102859|\n",
      "|    68|     26|   3.0|  3.029333|\n",
      "|   483|     26|   4.0| 3.1326041|\n",
      "|   458|     27|   5.0| 3.0245776|\n",
      "|   337|     27|   5.0|  3.622964|\n",
      "|     6|    332|   3.0| 2.5594664|\n",
      "|    19|    332|   2.0| 1.9441507|\n",
      "|   602|    501|   2.0| 3.0168533|\n",
      "|   595|    501|   4.0| 3.9438639|\n",
      "|   587|   1235|   4.0| 3.7475245|\n",
      "|   274|   1235|   4.5| 3.8408027|\n",
      "|   387|   1235|   4.5| 3.6674647|\n",
      "|   357|   1235|   4.0| 4.0998907|\n",
      "|   313|   1235|   5.0| 2.9426599|\n",
      "|   255|   2023|   1.0| 2.3484688|\n",
      "|   597|   2023|   3.0| 3.1439779|\n",
      "|    28|   2023|   3.5| 3.0515323|\n",
      "|   577|   2023|   4.0| 2.8765168|\n",
      "|   177|   2023|   2.0| 3.2387972|\n",
      "|   132|   2023|   3.0| 2.7380905|\n",
      "|   452|   2023|   5.0| 4.3278913|\n",
      "|   425|   2023|   3.5|  3.561491|\n",
      "|     9|   2023|   3.0|  3.267088|\n",
      "|   391|   2023|   3.0| 3.2272222|\n",
      "|   480|   2023|   3.0| 3.1857731|\n",
      "|   198|   2023|   4.0| 3.6707244|\n",
      "|   208|   2023|   4.0| 2.4297318|\n",
      "|   495|   2335|   3.0| 3.8606687|\n",
      "|   477|   2335|   3.0| 3.5469868|\n",
      "|   341|   2335|   3.5| 3.4404416|\n",
      "|   600|   2335|   3.0| 2.9242873|\n",
      "|   603|   2439|   4.0| 2.3870916|\n",
      "|   290|   2439|   3.0|  2.724422|\n",
      "|   327|   2857|   2.0|    3.3986|\n",
      "|   369|   2857|   3.0| 2.8122118|\n",
      "|   474|   3270|   2.5| 2.7847664|\n",
      "|   438|   3270|   3.5| 2.5190926|\n",
      "|   477|   3811|   4.0| 3.4166958|\n",
      "|   182|   4774|   2.5| 2.3643363|\n",
      "|   414|   4777|   2.5|       NaN|\n",
      "|    10|   5066|   3.0| 3.4795847|\n",
      "|   143|   5066|   5.0| 3.4518714|\n",
      "|   287|   5066|   0.5| 1.4615103|\n",
      "|   414|   5066|   4.0| 3.5221481|\n",
      "|   165|   5993|   2.0| 2.9340663|\n",
      "|   111|   6936|   4.0| 3.5232842|\n",
      "|   177|   6936|   3.0| 3.5742972|\n",
      "|   564|   6936|   3.5| 3.2124186|\n",
      "|   448|   6936|   3.5| 3.5514665|\n",
      "|   480|   6936|   3.5| 3.5655384|\n",
      "|    95|   6936|   4.0| 4.0753965|\n",
      "|   608|   6936|   4.0| 3.1019425|\n",
      "|   438|   8643|   3.5|  2.363543|\n",
      "|   143|   8643|   3.0| 2.8344886|\n",
      "|   525|   8643|   3.0| 2.5815358|\n",
      "|   105|   8656|   4.5|  2.901125|\n",
      "|   318|  26048|   4.5|       NaN|\n",
      "|   599|  26676|   2.5|       NaN|\n",
      "|   600|  27020|   3.0| 2.9377208|\n",
      "|   542|  30793|   1.0|  3.600964|\n",
      "|   590|  30793|   3.0|  3.037653|\n",
      "|   301|  30793|   0.5| 2.9990697|\n",
      "|   219|  30793|   3.0| 2.9254136|\n",
      "|   352|  30793|   3.0| 3.2752824|\n",
      "|   200|  30793|   3.5| 3.4436994|\n",
      "|   426|  30793|   3.5| 3.3417249|\n",
      "|   298|  30793|   1.0|  2.193797|\n",
      "|   600|  38886|   4.5| 2.9759934|\n",
      "|   448|  71211|   3.0| 3.5035515|\n",
      "|   205|  81834|   4.0| 3.5714233|\n",
      "|   489|  81834|   3.5| 3.8512588|\n",
      "|   590|  81834|   4.0| 3.5255852|\n",
      "|    62|  81834|   4.5|  4.302599|\n",
      "|   141|  81834|   3.5| 3.7804158|\n",
      "|    68|  81834|   5.0| 3.7351503|\n",
      "|   525|  81834|   4.0|  4.007224|\n",
      "|   365|  81834|   3.0| 3.4301703|\n",
      "|   483|  81834|   4.5|  4.074318|\n",
      "|   497|  86781|   5.0|  3.999815|\n",
      "|   204|  87222|   2.0| 3.2276697|\n",
      "|   567|  87222|   2.5| 2.2288485|\n",
      "|   483|  87222|   3.5| 3.7555752|\n",
      "|   517| 107780|   4.0|       NaN|\n",
      "|   105| 117851|   3.5| 3.6415124|\n",
      "|   599| 135787|   3.5|       NaN|\n",
      "|    50| 170875|   1.0| 1.9278443|\n",
      "|    91|    384|   3.5|  2.365687|\n",
      "|   577|   1019|   4.0|  2.969095|\n",
      "|   140|   1019|   4.0| 2.9909554|\n",
      "|   294|   1019|   2.0|  3.116331|\n",
      "|    59|   1269|   5.0|  4.512191|\n",
      "|    84|   1269|   4.0|  3.789637|\n",
      "|   188|   1269|   3.0|  4.120534|\n",
      "|   571|   1269|   3.0| 3.0611367|\n",
      "|   137|   1927|   4.5| 4.0217056|\n",
      "|     1|   1927|   5.0|  4.598653|\n",
      "|   217|   2331|   2.0| 1.7505095|\n",
      "|   216|   2750|   3.0| 3.3862062|\n",
      "|   600|   2750|   3.5|  3.029704|\n",
      "|   572|   3072|   4.0| 3.8747582|\n",
      "|   197|   3072|   4.0| 2.9308636|\n",
      "|   469|   3072|   4.0| 3.6397746|\n",
      "|   457|   3072|   4.0|  4.030789|\n",
      "|   600|   3072|   2.5|  4.130863|\n",
      "|   294|   3072|   1.0| 2.7410924|\n",
      "|    66|   3072|   4.0| 3.7474015|\n",
      "|   610|   4866|   3.0| 2.4260182|\n",
      "|   608|   4866|   4.0| 1.4553864|\n",
      "|   387|   4876|   2.0|  1.802318|\n",
      "|   427|   4876|   1.0|  2.291513|\n",
      "|   351|   4876|   2.5| 2.3617647|\n",
      "|   608|   4876|   3.5| 2.3563185|\n",
      "|   274|   6040|   3.0| 1.7518258|\n",
      "|   318|  26928|   5.0|       NaN|\n",
      "|   221|  33154|   4.5|  4.224539|\n",
      "|   599|  37857|   2.5| 2.7473106|\n",
      "|   387|  37857|   3.0| 3.3831248|\n",
      "|    28|  42004|   2.5|   2.74927|\n",
      "|   480|  42011|   2.5| 2.3019872|\n",
      "|    89|  60737|   5.0|       NaN|\n",
      "|   305| 103249|   2.0| 3.1897843|\n",
      "|   339| 103249|   2.5| 3.0297685|\n",
      "|   352| 103249|   4.0| 3.0969446|\n",
      "|   298| 103249|   2.0| 1.8239235|\n",
      "|   567| 103249|   1.5| 1.1097149|\n",
      "|    41| 103980|   3.0|   3.33035|\n",
      "|   305| 106918|   5.0|  3.757885|\n",
      "|    41| 106918|   4.0| 3.0888152|\n",
      "|   564| 106918|   3.5| 3.1303473|\n",
      "|   448| 106918|   3.0| 3.9251127|\n",
      "|   249| 106918|   4.5|  4.189584|\n",
      "|   483| 106918|   4.5| 3.7824583|\n",
      "|   448| 135536|   3.0| 2.4974523|\n",
      "|   105| 175435|   4.5|       NaN|\n",
      "|   387|     44|   1.0|  1.889066|\n",
      "|   428|     44|   2.0| 1.6971914|\n",
      "|   396|     44|   2.0| 1.4468081|\n",
      "|    21|     44|   1.0| 2.6280792|\n",
      "|    58|     44|   2.0| 2.9425724|\n",
      "|    11|     44|   2.0| 2.1620767|\n",
      "|    68|     44|   3.0| 2.3493965|\n",
      "|   561|     44|   2.0|  2.525842|\n",
      "|   414|    159|   2.0|  3.050657|\n",
      "|   179|    743|   3.0| 2.7857046|\n",
      "|   448|    743|   3.0| 1.8856951|\n",
      "|   293|    743|   2.0| 2.0387735|\n",
      "|   382|    743|   2.0| 2.6327615|\n",
      "|   109|    743|   3.0| 2.4826112|\n",
      "|   369|    743|   3.0| 2.5061278|\n",
      "|   337|    743|   3.0| 3.6304271|\n",
      "|   137|    908|   4.5|  4.286183|\n",
      "|   577|    908|   5.0| 3.9437726|\n",
      "|   474|    908|   3.5|  4.055154|\n",
      "|   339|    908|   4.5|  4.246695|\n",
      "|   165|    908|   4.0| 3.5655828|\n",
      "|   290|    908|   5.0|  4.741823|\n",
      "|     4|    908|   5.0|  4.581061|\n",
      "|    39|    908|   3.0|  3.993165|\n",
      "|   465|    908|   5.0|  4.822423|\n",
      "|   477|    908|   4.0|  4.037426|\n",
      "|   195|    908|   5.0| 3.4738457|\n",
      "|   334|    908|   3.5| 3.4504976|\n",
      "|   213|    908|   4.0| 3.5606909|\n",
      "|   275|    908|   5.0|  4.486767|\n",
      "|    53|    916|   5.0| 5.3069196|\n",
      "|   132|    916|   3.5| 3.3718152|\n",
      "|   305|    916|   4.5| 4.2997303|\n",
      "|   356|    916|   4.5|  4.505593|\n",
      "|   275|    916|   3.0| 4.1269484|\n",
      "|   474|   1135|   2.0| 3.2737749|\n",
      "|    84|   1135|   3.0| 3.5189319|\n",
      "|   414|   1135|   3.0| 3.1325831|\n",
      "|   597|   1350|   5.0|  3.603291|\n",
      "|   274|   1350|   3.5| 3.6594768|\n",
      "|    51|   1350|   4.5|  4.322714|\n",
      "|   325|   1875|   4.0| 4.0728283|\n",
      "|   217|   1875|   3.0| 3.2871556|\n",
      "|   472|   2134|   3.5| 3.4099894|\n",
      "|   474|   2134|   3.0|  2.795084|\n",
      "|   600|   2134|   3.5| 2.9422874|\n",
      "|   599|   2322|   2.5|  2.503729|\n",
      "|   177|   2644|   2.5| 3.5154557|\n",
      "|   587|   2738|   4.0|       NaN|\n",
      "|   274|   3017|   3.0|  3.322406|\n",
      "|   368|   3370|   3.0| 1.7045453|\n",
      "|   103|   3481|   4.5| 3.8688633|\n",
      "|    91|   3481|   2.5| 3.5111423|\n",
      "|    22|   3481|   0.5| 3.0129938|\n",
      "|   274|   3481|   4.0| 3.3502955|\n",
      "|   425|   3481|   3.0| 3.4792812|\n",
      "|   327|   3481|   5.0|   3.96291|\n",
      "|   286|   3481|   3.0| 3.8175826|\n",
      "|   610|   3481|   4.0|  3.961948|\n",
      "|    51|   3481|   5.0|  4.017233|\n",
      "|   288|   3481|   3.0|  3.323951|\n",
      "|   221|   3481|   4.0| 3.7154455|\n",
      "|   608|   3481|   4.5| 3.6388376|\n",
      "|   487|   3481|   3.5|  2.861537|\n",
      "|   370|   3481|   4.0| 3.5879908|\n",
      "|    68|   3481|   2.0| 3.2588677|\n",
      "|   187|   3481|   3.5| 3.3169875|\n",
      "|   474|   3528|   2.0| 3.4918203|\n",
      "|   265|   3528|   3.0| 3.6837482|\n",
      "|   599|   3669|   2.5|       NaN|\n",
      "|   274|   3744|   2.0| 2.7687664|\n",
      "|   453|   3744|   4.0| 2.3335762|\n",
      "|   438|   3744|   3.5|    2.7297|\n",
      "|    82|   3744|   3.5| 2.5021446|\n",
      "|   182|   3783|   4.5| 4.1485233|\n",
      "|   555|   3783|   5.0| 3.9523199|\n",
      "|    68|   3783|   3.0|  3.199597|\n",
      "|   186|   5214|   4.0|  2.608164|\n",
      "|   599|   5219|   2.5| 2.2331128|\n",
      "|   427|   5219|   2.0| 2.6821291|\n",
      "|   125|   5219|   3.0|  2.797801|\n",
      "|   480|   5219|   2.0| 2.5122235|\n",
      "|   558|   5219|   3.0|     3.696|\n",
      "|    21|   5219|   3.0| 3.4360614|\n",
      "|   414|   7257|   2.5| 2.3061023|\n",
      "|   382|  48598|   3.5| 3.8601494|\n",
      "|   318|  57368|   4.0| 3.5087094|\n",
      "|   220|  57368|   4.0| 3.2075572|\n",
      "|   380|  57368|   4.0| 3.7164917|\n",
      "|   239|  57368|   2.5| 3.6954732|\n",
      "|    24|  57368|   3.5| 3.1804914|\n",
      "|   219|  57368|   2.0| 2.8812563|\n",
      "|   352|  57368|   4.5| 3.5529647|\n",
      "|   168|  71033|   4.5| 3.8948598|\n",
      "|   308|  71033|   1.0| 2.6719103|\n",
      "|   448|  71033|   4.0| 3.2976515|\n",
      "|   222|  78469|   2.5|  2.977647|\n",
      "|   119|  78469|   3.5|   3.81558|\n",
      "|   563|  90524|   3.5|       NaN|\n",
      "|   610| 111743|   3.0| 2.6176343|\n",
      "|   509| 111743|   3.5|   2.67729|\n",
      "|   588|    253|   2.0| 3.4292517|\n",
      "|   604|    253|   5.0| 3.8877268|\n",
      "|   599|    253|   3.0| 3.1096997|\n",
      "|   177|    253|   4.0| 2.7427707|\n",
      "|   603|    253|   3.0| 2.4983354|\n",
      "|   274|    253|   4.5| 3.8364518|\n",
      "|   470|    253|   3.0|  3.198923|\n",
      "|   432|    253|   4.5| 2.6711953|\n",
      "|   559|    253|   3.0|   3.48563|\n",
      "|     5|    253|   3.0| 3.0016818|\n",
      "|   347|    253|   4.0| 2.9409444|\n",
      "|   520|    253|   4.0| 3.7165165|\n",
      "|   273|    253|   3.0|   4.05933|\n",
      "|   102|    253|   3.0| 3.6212556|\n",
      "|    24|    253|   3.5|  3.618985|\n",
      "|   160|    253|   3.0| 3.2956738|\n",
      "|   219|    253|   3.0|  3.510838|\n",
      "|   323|    253|   4.0| 2.7603285|\n",
      "|   536|    253|   1.0| 3.7213433|\n",
      "|   561|    253|   3.0| 3.7976823|\n",
      "|   600|    253|   4.5|  3.844005|\n",
      "|   373|    253|   5.0|  3.769429|\n",
      "|    46|    253|   4.0| 3.5941803|\n",
      "|   584|    253|   3.0| 2.9751008|\n",
      "|   599|    806|   1.5|       NaN|\n",
      "|   599|   1148|   4.5|  3.364512|\n",
      "|   308|   1148|   1.0|  2.591947|\n",
      "|   500|   1148|   4.0| 4.0183735|\n",
      "|    64|   1148|   4.0| 4.5555525|\n",
      "|   590|   1148|   3.5| 4.3444405|\n",
      "|   217|   1148|   4.0| 3.5832279|\n",
      "|   488|   1148|   4.5| 4.0806384|\n",
      "|   186|   1148|   4.0| 4.7822127|\n",
      "|   187|   1148|   4.0| 3.7082753|\n",
      "|   593|   1210|   4.5| 3.1235476|\n",
      "|   211|   1210|   4.0|  4.197321|\n",
      "|   103|   1210|   3.5|  4.230523|\n",
      "|   182|   1210|   2.5|  3.696887|\n",
      "|   328|   1210|   4.0| 3.7513442|\n",
      "|   164|   1210|   4.0|  4.683262|\n",
      "|   479|   1210|   3.0| 4.0034738|\n",
      "|   292|   1210|   4.0| 3.7972481|\n",
      "|    64|   1210|   3.5| 4.2219048|\n",
      "|    15|   1210|   5.0| 3.7632775|\n",
      "|   610|   1210|   5.0|  4.286541|\n",
      "|   380|   1210|   5.0| 4.4843063|\n",
      "|   428|   1210|   3.5| 3.1293793|\n",
      "|   438|   1210|   5.0|   4.26934|\n",
      "|   166|   1210|   5.0|  4.265407|\n",
      "|    97|   1210|   5.0|  4.559426|\n",
      "|   264|   1210|   3.5| 4.0446453|\n",
      "|   267|   1210|   5.0|   4.88334|\n",
      "|   160|   1210|   5.0| 3.2397246|\n",
      "|    70|   1210|   5.0|  4.389743|\n",
      "|    62|   1210|   4.5| 4.4133744|\n",
      "|   464|   1210|   5.0|  4.091789|\n",
      "|   376|   1210|   4.5|  4.267658|\n",
      "|   298|   1210|   4.5| 3.1511483|\n",
      "|    33|   1210|   5.0| 3.7917247|\n",
      "|    68|   1210|   5.0| 3.5822492|\n",
      "|   344|   1210|   5.0| 4.5631685|\n",
      "|    79|   1210|   5.0|  4.449714|\n",
      "|   149|   1210|   4.0| 3.0901356|\n",
      "|   186|   1210|   5.0|   4.50708|\n",
      "|   475|   1210|   5.0|  4.908383|\n",
      "|   208|   1210|   4.0| 3.2843528|\n",
      "|   325|   1280|   4.0| 4.0187173|\n",
      "|   603|   1280|   5.0| 4.4277043|\n",
      "|    83|   1280|   3.5| 3.3413072|\n",
      "|   492|   1363|   4.0| 3.8595629|\n",
      "|   599|   1689|   1.5| 2.0622594|\n",
      "|   294|   1689|   2.0| 1.7253431|\n",
      "|   177|   1955|   5.0| 3.6643739|\n",
      "|   448|   1955|   3.0| 3.8826046|\n",
      "|    70|   1955|   3.5|  4.271429|\n",
      "|   334|   1955|   3.5| 3.4866505|\n",
      "|   346|   2076|   3.5| 4.0062227|\n",
      "|   140|   2076|   3.0| 2.7923226|\n",
      "|   182|   2076|   4.5|   3.59912|\n",
      "|   590|   2076|   3.5| 3.4749994|\n",
      "|     4|   2076|   4.0| 3.5239024|\n",
      "|   414|   2076|   4.0|  4.070228|\n",
      "|   454|   2076|   3.0| 3.5055566|\n",
      "|   313|   2076|   4.0| 3.9439666|\n",
      "|   405|   2076|   4.5|  4.105315|\n",
      "|   597|   2371|   5.0| 3.5852838|\n",
      "|   202|   2371|   3.0| 3.2845783|\n",
      "|   217|   2371|   2.0| 2.6905003|\n",
      "|    91|   2804|   3.5|  3.750867|\n",
      "|   224|   2804|   5.0| 4.4167156|\n",
      "|   305|   2804|   5.0|  4.195284|\n",
      "|   554|   2804|   4.0|  3.759541|\n",
      "|   307|   2804|   3.5| 3.1726403|\n",
      "|   514|   2804|   4.0| 3.9618979|\n",
      "|    45|   2804|   3.0|  4.171694|\n",
      "|   288|   2804|   5.0| 3.8619938|\n",
      "|   480|   2804|   5.0|   3.64551|\n",
      "|   561|   2804|   4.5| 3.7078195|\n",
      "|   424|   2804|   3.5|  3.638297|\n",
      "|   387|   3587|   1.5| 2.9046602|\n",
      "|    91|   3727|   4.5| 3.2189634|\n",
      "|   533|   3727|   5.0| 4.1860857|\n",
      "|   562|   3727|   4.0| 3.6462855|\n",
      "|    22|   4036|   4.5|  2.804615|\n",
      "|   216|   4036|   3.0| 3.0050406|\n",
      "|    89|   5480|   5.0| 0.7802564|\n",
      "|   599|   5768|   3.0|       NaN|\n",
      "|   462|   6528|   2.0|       NaN|\n",
      "|    82|   6949|   3.5|       NaN|\n",
      "|   414|   7258|   3.0| 2.3044772|\n",
      "|   387|   8290|   1.0|0.37192404|\n",
      "|   606|  48214|   3.5|       NaN|\n",
      "|   605|  51024|   3.5| 3.0770645|\n",
      "|   606|  55247|   4.0|   3.92339|\n",
      "|   417|  55247|   5.0| 4.7413692|\n",
      "+------+-------+------+----------+\n",
      "only showing top 2500 rows\n",
      "\n"
     ]
    }
   ],
   "source": [
    "test_predictions.filter(test_predictions.prediction.isNotNull()).show(2500)"
   ]
  },
  {
   "cell_type": "code",
   "execution_count": 144,
   "metadata": {},
   "outputs": [
    {
     "data": {
      "text/plain": [
       "nan"
      ]
     },
     "execution_count": 144,
     "metadata": {},
     "output_type": "execute_result"
    }
   ],
   "source": [
    "evaluator = RegressionEvaluator(predictionCol=\"prediction\", labelCol=\"rating\", metricName=\"r2\")\n",
    "evaluator.evaluate(test_predictions.filter(test_predictions.prediction.isNotNull()))"
   ]
  },
  {
   "cell_type": "code",
   "execution_count": 145,
   "metadata": {
    "slideshow": {
     "slide_type": "notes"
    }
   },
   "outputs": [
    {
     "data": {
      "text/plain": [
       "nan"
      ]
     },
     "execution_count": 145,
     "metadata": {},
     "output_type": "execute_result"
    }
   ],
   "source": [
    "from pyspark.sql.functions import isnan\n",
    "evaluator.evaluate(test_predictions.where(isnan(\"prediction\")))"
   ]
  },
  {
   "cell_type": "code",
   "execution_count": 146,
   "metadata": {
    "slideshow": {
     "slide_type": "notes"
    }
   },
   "outputs": [
    {
     "name": "stdout",
     "output_type": "stream",
     "text": [
      "20099\n",
      "19286\n"
     ]
    },
    {
     "data": {
      "text/plain": [
       "0.2762705955712522"
      ]
     },
     "execution_count": 146,
     "metadata": {},
     "output_type": "execute_result"
    }
   ],
   "source": [
    "print(test_predictions.count())\n",
    "test_predictions = test_predictions.na.drop()\n",
    "print(test_predictions.count())\n",
    "evaluator.evaluate(test_predictions)"
   ]
  },
  {
   "cell_type": "markdown",
   "metadata": {
    "slideshow": {
     "slide_type": "slide"
    }
   },
   "source": [
    "### Important Question\n",
    "\n",
    "Will Billy like movie m?"
   ]
  },
  {
   "cell_type": "code",
   "execution_count": 150,
   "metadata": {},
   "outputs": [
    {
     "name": "stdout",
     "output_type": "stream",
     "text": [
      "+---+--------------------+\n",
      "| id|            features|\n",
      "+---+--------------------+\n",
      "| 10|[-0.58449584, 0.4...|\n",
      "| 20|[0.40475038, -0.0...|\n",
      "| 30|[0.45383483, 0.63...|\n",
      "| 40|[0.5396147, 0.703...|\n",
      "| 50|[0.46378636, 0.49...|\n",
      "+---+--------------------+\n",
      "only showing top 5 rows\n",
      "\n"
     ]
    }
   ],
   "source": [
    "user_factors.show(5)"
   ]
  },
  {
   "cell_type": "code",
   "execution_count": 151,
   "metadata": {
    "slideshow": {
     "slide_type": "slide"
    }
   },
   "outputs": [],
   "source": [
    "billy_row = user_factors[user_factors['id'] == 10].first()\n",
    "billy_factors = np.array(billy_row['features'])"
   ]
  },
  {
   "cell_type": "code",
   "execution_count": 152,
   "metadata": {
    "slideshow": {
     "slide_type": "slide"
    }
   },
   "outputs": [],
   "source": [
    "m_row = item_factors[item_factors['id'] == 296].first()\n",
    "m_factors = np.array(m_row['features'])"
   ]
  },
  {
   "cell_type": "code",
   "execution_count": 153,
   "metadata": {
    "scrolled": true,
    "slideshow": {
     "slide_type": "slide"
    }
   },
   "outputs": [
    {
     "data": {
      "text/plain": [
       "array([-0.58449584,  0.40377736,  0.33526477, -0.72198862,  1.33406484,\n",
       "        0.8181808 ,  0.74131238,  0.07220728,  0.73639691, -0.32399425])"
      ]
     },
     "execution_count": 153,
     "metadata": {},
     "output_type": "execute_result"
    }
   ],
   "source": [
    "billy_factors"
   ]
  },
  {
   "cell_type": "code",
   "execution_count": 154,
   "metadata": {
    "slideshow": {
     "slide_type": "slide"
    }
   },
   "outputs": [
    {
     "data": {
      "text/plain": [
       "array([ 0.96818972,  1.31506991,  0.40134177, -0.19450438,  0.58101368,\n",
       "        0.63951677,  0.28333873, -0.58743709,  0.32548305, -1.46304417])"
      ]
     },
     "execution_count": 154,
     "metadata": {},
     "output_type": "execute_result"
    }
   ],
   "source": [
    "m_factors"
   ]
  },
  {
   "cell_type": "code",
   "execution_count": 155,
   "metadata": {
    "slideshow": {
     "slide_type": "slide"
    }
   },
   "outputs": [
    {
     "data": {
      "text/plain": [
       "2.4197564476681186"
      ]
     },
     "execution_count": 155,
     "metadata": {},
     "output_type": "execute_result"
    }
   ],
   "source": [
    "billy_factors @ m_factors"
   ]
  },
  {
   "cell_type": "code",
   "execution_count": 157,
   "metadata": {
    "slideshow": {
     "slide_type": "slide"
    }
   },
   "outputs": [],
   "source": [
    "billy_preds = test_predictions[test_predictions['userId'] == 10]"
   ]
  },
  {
   "cell_type": "code",
   "execution_count": 158,
   "metadata": {
    "scrolled": true,
    "slideshow": {
     "slide_type": "slide"
    }
   },
   "outputs": [
    {
     "name": "stdout",
     "output_type": "stream",
     "text": [
      "+------+-------+------+----------+\n",
      "|userId|movieId|rating|prediction|\n",
      "+------+-------+------+----------+\n",
      "|    10|    588|   4.0| 3.1196418|\n",
      "|    10|   1088|   3.0| 3.2257187|\n",
      "|    10|   1784|   3.5| 2.6698618|\n",
      "|    10|   2762|   0.5| 2.8844805|\n",
      "|    10|   4306|   4.5| 3.7763126|\n",
      "|    10|   4447|   4.5|  3.769885|\n",
      "|    10|   5066|   3.0| 3.4795847|\n",
      "|    10|   7149|   4.0| 3.3388753|\n",
      "|    10|   7151|   3.0| 2.3986142|\n",
      "|    10|   7154|   4.0| 2.2201903|\n",
      "|    10|   7169|   4.5|  3.956101|\n",
      "|    10|   7375|   4.0| 2.7527938|\n",
      "|    10|   8665|   3.5| 3.0345116|\n",
      "|    10|  33794|   5.0| 2.8041844|\n",
      "|    10|  40819|   4.0| 3.2897947|\n",
      "|    10|  47099|   3.0| 2.7639663|\n",
      "|    10|  54286|   3.5|  2.885035|\n",
      "|    10|  70183|   3.0| 3.0815797|\n",
      "|    10|  71579|   5.0| 3.2250612|\n",
      "|    10|  72737|   3.5| 2.4763935|\n",
      "+------+-------+------+----------+\n",
      "only showing top 20 rows\n",
      "\n"
     ]
    }
   ],
   "source": [
    "billy_preds.sort('movieId').show()"
   ]
  },
  {
   "cell_type": "code",
   "execution_count": 159,
   "metadata": {
    "slideshow": {
     "slide_type": "slide"
    }
   },
   "outputs": [
    {
     "name": "stdout",
     "output_type": "stream",
     "text": [
      "296,Pulp Fiction (1994),Comedy|Crime|Drama|Thriller\r",
      "\r\n",
      "1296,\"Room with a View, A (1986)\",Drama|Romance\r",
      "\r\n",
      "2296,\"Night at the Roxbury, A (1998)\",Comedy\r",
      "\r\n",
      "2961,\"Story of Us, The (1999)\",Comedy|Drama\r",
      "\r\n",
      "2962,Fever Pitch (1997),Comedy|Romance\r",
      "\r\n",
      "2964,Julien Donkey-Boy (1999),Drama\r",
      "\r\n",
      "2965,\"Omega Code, The (1999)\",Action\r",
      "\r\n",
      "2966,\"Straight Story, The (1999)\",Adventure|Drama\r",
      "\r\n",
      "2967,\"Bad Seed, The (1956)\",Drama|Thriller\r",
      "\r\n",
      "2968,Time Bandits (1981),Adventure|Comedy|Fantasy|Sci-Fi\r",
      "\r\n",
      "2969,\"Man and a Woman, A (Un homme et une femme) (1966)\",Drama|Romance\r",
      "\r\n",
      "3296,To Sir with Love (1967),Drama\r",
      "\r\n",
      "4296,Love Story (1970),Drama|Romance\r",
      "\r\n",
      "5296,\"Sweetest Thing, The (2002)\",Comedy|Romance\r",
      "\r\n",
      "6296,\"Mighty Wind, A (2003)\",Comedy|Musical\r",
      "\r\n",
      "32296,Miss Congeniality 2: Armed and Fabulous (2005),Adventure|Comedy|Crime\r",
      "\r\n",
      "52967,Away from Her (2006),Drama\r",
      "\r\n",
      "98296,Deadfall (2012),Crime|Drama|Thriller\r",
      "\r\n",
      "129657,Tracers (2015),Action\r",
      "\r\n",
      "129659,\"McFarland, USA (2015)\",Drama\r",
      "\r\n",
      "142961,Life Eternal (2015),Comedy|Crime|Thriller\r",
      "\r\n",
      "157296,Finding Dory (2016),Adventure|Animation|Comedy\r",
      "\r\n",
      "162968,Kizumonogatari Part 1: Tekketsu (2016),Action|Animation|Mystery\r",
      "\r\n",
      "167296,Iron Man (1931),Drama\r",
      "\r\n"
     ]
    }
   ],
   "source": [
    "!grep 296 < data/movies.csv"
   ]
  },
  {
   "cell_type": "markdown",
   "metadata": {
    "slideshow": {
     "slide_type": "slide"
    }
   },
   "source": [
    "## Okay, what *will* Billy like?"
   ]
  },
  {
   "cell_type": "code",
   "execution_count": 160,
   "metadata": {
    "slideshow": {
     "slide_type": "slide"
    }
   },
   "outputs": [],
   "source": [
    "recs = als_model.recommendForAllUsers(numItems=10)"
   ]
  },
  {
   "cell_type": "code",
   "execution_count": 161,
   "metadata": {
    "slideshow": {
     "slide_type": "slide"
    }
   },
   "outputs": [
    {
     "data": {
      "text/plain": [
       "[Row(movieId=8869, rating=4.707038402557373),\n",
       " Row(movieId=3142, rating=4.589514255523682),\n",
       " Row(movieId=80860, rating=4.58935546875),\n",
       " Row(movieId=86320, rating=4.557553291320801),\n",
       " Row(movieId=2759, rating=4.493473529815674),\n",
       " Row(movieId=5466, rating=4.488365650177002),\n",
       " Row(movieId=3436, rating=4.474485397338867),\n",
       " Row(movieId=74946, rating=4.466464996337891),\n",
       " Row(movieId=140110, rating=4.449597358703613),\n",
       " Row(movieId=4023, rating=4.442381381988525)]"
      ]
     },
     "execution_count": 161,
     "metadata": {},
     "output_type": "execute_result"
    }
   ],
   "source": [
    "recs[recs['userId']==10].first()['recommendations']"
   ]
  },
  {
   "cell_type": "code",
   "execution_count": 162,
   "metadata": {
    "slideshow": {
     "slide_type": "slide"
    }
   },
   "outputs": [
    {
     "name": "stdout",
     "output_type": "stream",
     "text": [
      "3086,Babes in Toyland (1934),Children|Comedy|Fantasy|Musical\r",
      "\r\n",
      "83086,Burlesque (2010),Drama|Musical|Romance\r",
      "\r\n"
     ]
    }
   ],
   "source": [
    "!grep 3086 < data/movies.csv"
   ]
  },
  {
   "cell_type": "markdown",
   "metadata": {
    "slideshow": {
     "slide_type": "slide"
    }
   },
   "source": [
    "## Objective Review\n",
    "\n",
    "* Identify the key components of the ALS \n",
    "* Demonstrate an understanding on how recommendation systems are being used for personalization of online services/products\n",
    "* Parse and filter datasets into Spark DataFrame, performing basic feature selection\n",
    "* Run a brief hyper-parameter selection activity through a scalable grid search\n",
    "* Train and evaluate the predictive performance of recommendation system\n",
    "* Generate predictions from the trained model"
   ]
  },
  {
   "cell_type": "markdown",
   "metadata": {
    "slideshow": {
     "slide_type": "slide"
    }
   },
   "source": [
    "## Some great technical resources:\n",
    "\n",
    "- [Stanford ALS Theory and Implementation](http://stanford.edu/~rezab/classes/cme323/S15/notes/lec14.pdf)\n",
    "- [The Netflix Recommendation Project](https://www.netflixprize.com/assets/GrandPrize2009_BPC_BellKor.pdf)"
   ]
  }
 ],
 "metadata": {
  "celltoolbar": "Slideshow",
  "kernelspec": {
   "display_name": "Python 3",
   "language": "python",
   "name": "python3"
  },
  "language_info": {
   "codemirror_mode": {
    "name": "ipython",
    "version": 3
   },
   "file_extension": ".py",
   "mimetype": "text/x-python",
   "name": "python",
   "nbconvert_exporter": "python",
   "pygments_lexer": "ipython3",
   "version": "3.7.6"
  }
 },
 "nbformat": 4,
 "nbformat_minor": 2
}
