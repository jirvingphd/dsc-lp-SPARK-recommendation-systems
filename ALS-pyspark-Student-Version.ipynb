{
 "cells": [
  {
   "cell_type": "markdown",
   "metadata": {},
   "source": [
    "# Sect 41: Recommendation Systems"
   ]
  },
  {
   "cell_type": "markdown",
   "metadata": {
    "slideshow": {
     "slide_type": "slide"
    }
   },
   "source": [
    "# Building a Movie Recommendation System in PySpark - Lab Code-along\n",
    "![images of vhs tapes on shelf](img/movies.jpg)"
   ]
  },
  {
   "cell_type": "markdown",
   "metadata": {
    "slideshow": {
     "slide_type": "slide"
    }
   },
   "source": [
    "## Introduction\n",
    "\n",
    "In this last lab, we will implement a a movie recommendation system using Alternating Least Squares (ALS) in the Spark programming environment.<br> Spark's machine learning libraray `ml` comes packaged with a very efficient imeplementation of the ALS algorithm. \n",
    "\n",
    "The lab will require you to put into practice your spark programming skills for creating and manipulating pyspark DataFrames. We will go through a step-by-step process into developing a movie recommendation system using ALS and pyspark using the MovieLens Dataset.\n",
    "\n",
    "Note: You are advised to refer to [PySpark Documentation](http://spark.apache.org/docs/2.2.0/api/python/index.html) heavily for completing this lab as it will introduce a few new methods. "
   ]
  },
  {
   "cell_type": "markdown",
   "metadata": {
    "slideshow": {
     "slide_type": "slide"
    }
   },
   "source": [
    "## Objectives\n",
    "\n",
    "You will be able to:\n",
    "\n",
    "* Identify the key components of the ALS \n",
    "* Demonstrate an understanding on how recommendation systems are being used for personalization of online services/products\n",
    "* Parse and filter datasets into Spark DataFrame, performing basic feature selection\n",
    "* Run a brief hyper-parameter selection activity through a scalable grid search\n",
    "* Train and evaluate the predictive performance of recommendation system\n",
    "* Generate predictions from the trained model"
   ]
  },
  {
   "cell_type": "markdown",
   "metadata": {
    "slideshow": {
     "slide_type": "slide"
    }
   },
   "source": [
    "## Building a Recommendation System\n",
    "\n",
    "We have seen how recommender/Recommendation Systems have played an  integral parts in the success of Amazon (Books, Items), Pandora/Spotify (Music), Google (News, Search), YouTube (Videos) etc.  For Amazon these systems bring more than 30% of their total revenues. For Netflix service, 75% of movies that people watch are based on some sort of recommendation.\n",
    "\n",
    "> The goal of Recommendation Systems is to find what is likely to be of interest to the user. This enables organizations to offer a high level of personalization and customer tailored services."
   ]
  },
  {
   "cell_type": "markdown",
   "metadata": {
    "slideshow": {
     "slide_type": "slide"
    }
   },
   "source": [
    "### We sort of get the concept\n",
    "\n",
    "For online video content services like Netflix and Hulu, the need to build robust movie recommendation systems is extremely important. An example of recommendation system is such as this:\n",
    "\n",
    "1.    User A watches Game of Thrones and Breaking Bad.\n",
    "2.    User B performs a search query for Game of Thrones.\n",
    "3.    The system suggests Breaking Bad to user B from data collected about user A.\n",
    "\n",
    "\n",
    "This lab will guide you through a step-by-step process into developing such a movie recommendation system. We will use the MovieLens dataset to build a movie recommendation system using the collaborative filtering technique with Spark's Alternating Least Saqures implementation. After building that recommendation system, we will go through the process of adding a new user to the dataset with some new ratings and obtaining new recommendations for that user."
   ]
  },
  {
   "cell_type": "markdown",
   "metadata": {
    "slideshow": {
     "slide_type": "slide"
    }
   },
   "source": [
    "## Will Nightengale like Toy Story?\n",
    "\n",
    "Collaborative filtering and matrix decomposition allows us to use the history of others ratings, along with the entire community of ratings, to answer that question.\n",
    "\n",
    "![image1](img/collab.png)\n"
   ]
  },
  {
   "cell_type": "markdown",
   "metadata": {
    "slideshow": {
     "slide_type": "slide"
    }
   },
   "source": [
    "## Person vs vegetable\n",
    "\n",
    "It's important to realize that there are two sides to recommendation\n",
    "\n",
    "![image2](img/item_user_based.png)"
   ]
  },
  {
   "cell_type": "markdown",
   "metadata": {
    "slideshow": {
     "slide_type": "slide"
    }
   },
   "source": [
    "## Code for model\n",
    "\n",
    "If we wanted, we could jump to the code right now to make this happen."
   ]
  },
  {
   "cell_type": "markdown",
   "metadata": {
    "slideshow": {
     "slide_type": "slide"
    }
   },
   "source": [
    "But would we understand it?\n",
    "```python\n",
    "from pyspark.ml.evaluation import RegressionEvaluator\n",
    "\n",
    "from pyspark.ml.recommendation import ALS, ALSModel\n",
    "\n",
    "als = ALS(\n",
    "    rank=10,\n",
    "    maxIter=10,\n",
    "    userCol='userId',\n",
    "    itemCol='movieId',\n",
    "    ratingCol='rating',\n",
    ")\n",
    "\n",
    "als_model = als.fit(movie_ratings)\n",
    "```"
   ]
  },
  {
   "cell_type": "markdown",
   "metadata": {
    "slideshow": {
     "slide_type": "slide"
    }
   },
   "source": [
    "## Documentation Station\n",
    "\n",
    "Let's explore the [documentation](http://spark.apache.org/docs/2.4.3/api/python/pyspark.ml.html#module-pyspark.ml.recommendation) together to maybe get a better idea of what is happening. \n",
    "\n",
    "- which parameters make sense?\n",
    "- which are completely foreign?"
   ]
  },
  {
   "cell_type": "markdown",
   "metadata": {},
   "source": [
    "## Q: Whats the quickest way to pull up the full documentation for this new model/class?"
   ]
  },
  {
   "cell_type": "markdown",
   "metadata": {},
   "source": [
    "- "
   ]
  },
  {
   "cell_type": "markdown",
   "metadata": {},
   "source": [
    "## A: `help`"
   ]
  },
  {
   "cell_type": "code",
   "execution_count": 1,
   "metadata": {},
   "outputs": [
    {
     "name": "stdout",
     "output_type": "stream",
     "text": [
      "Help on class ALS in module pyspark.ml.recommendation:\n",
      "\n",
      "class ALS(pyspark.ml.wrapper.JavaEstimator, pyspark.ml.param.shared.HasCheckpointInterval, pyspark.ml.param.shared.HasMaxIter, pyspark.ml.param.shared.HasPredictionCol, pyspark.ml.param.shared.HasRegParam, pyspark.ml.param.shared.HasSeed, pyspark.ml.util.JavaMLWritable, pyspark.ml.util.JavaMLReadable)\n",
      " |  ALS(rank=10, maxIter=10, regParam=0.1, numUserBlocks=10, numItemBlocks=10, implicitPrefs=False, alpha=1.0, userCol='user', itemCol='item', seed=None, ratingCol='rating', nonnegative=False, checkpointInterval=10, intermediateStorageLevel='MEMORY_AND_DISK', finalStorageLevel='MEMORY_AND_DISK', coldStartStrategy='nan')\n",
      " |  \n",
      " |  Alternating Least Squares (ALS) matrix factorization.\n",
      " |  \n",
      " |  ALS attempts to estimate the ratings matrix `R` as the product of\n",
      " |  two lower-rank matrices, `X` and `Y`, i.e. `X * Yt = R`. Typically\n",
      " |  these approximations are called 'factor' matrices. The general\n",
      " |  approach is iterative. During each iteration, one of the factor\n",
      " |  matrices is held constant, while the other is solved for using least\n",
      " |  squares. The newly-solved factor matrix is then held constant while\n",
      " |  solving for the other factor matrix.\n",
      " |  \n",
      " |  This is a blocked implementation of the ALS factorization algorithm\n",
      " |  that groups the two sets of factors (referred to as \"users\" and\n",
      " |  \"products\") into blocks and reduces communication by only sending\n",
      " |  one copy of each user vector to each product block on each\n",
      " |  iteration, and only for the product blocks that need that user's\n",
      " |  feature vector. This is achieved by pre-computing some information\n",
      " |  about the ratings matrix to determine the \"out-links\" of each user\n",
      " |  (which blocks of products it will contribute to) and \"in-link\"\n",
      " |  information for each product (which of the feature vectors it\n",
      " |  receives from each user block it will depend on). This allows us to\n",
      " |  send only an array of feature vectors between each user block and\n",
      " |  product block, and have the product block find the users' ratings\n",
      " |  and update the products based on these messages.\n",
      " |  \n",
      " |  For implicit preference data, the algorithm used is based on\n",
      " |  `\"Collaborative Filtering for Implicit Feedback Datasets\",\n",
      " |  <http://dx.doi.org/10.1109/ICDM.2008.22>`_, adapted for the blocked\n",
      " |  approach used here.\n",
      " |  \n",
      " |  Essentially instead of finding the low-rank approximations to the\n",
      " |  rating matrix `R`, this finds the approximations for a preference\n",
      " |  matrix `P` where the elements of `P` are 1 if r > 0 and 0 if r <= 0.\n",
      " |  The ratings then act as 'confidence' values related to strength of\n",
      " |  indicated user preferences rather than explicit ratings given to\n",
      " |  items.\n",
      " |  \n",
      " |  >>> df = spark.createDataFrame(\n",
      " |  ...     [(0, 0, 4.0), (0, 1, 2.0), (1, 1, 3.0), (1, 2, 4.0), (2, 1, 1.0), (2, 2, 5.0)],\n",
      " |  ...     [\"user\", \"item\", \"rating\"])\n",
      " |  >>> als = ALS(rank=10, maxIter=5, seed=0)\n",
      " |  >>> model = als.fit(df)\n",
      " |  >>> model.rank\n",
      " |  10\n",
      " |  >>> model.userFactors.orderBy(\"id\").collect()\n",
      " |  [Row(id=0, features=[...]), Row(id=1, ...), Row(id=2, ...)]\n",
      " |  >>> test = spark.createDataFrame([(0, 2), (1, 0), (2, 0)], [\"user\", \"item\"])\n",
      " |  >>> predictions = sorted(model.transform(test).collect(), key=lambda r: r[0])\n",
      " |  >>> predictions[0]\n",
      " |  Row(user=0, item=2, prediction=-0.13807615637779236)\n",
      " |  >>> predictions[1]\n",
      " |  Row(user=1, item=0, prediction=2.6258413791656494)\n",
      " |  >>> predictions[2]\n",
      " |  Row(user=2, item=0, prediction=-1.5018409490585327)\n",
      " |  >>> user_recs = model.recommendForAllUsers(3)\n",
      " |  >>> user_recs.where(user_recs.user == 0)        .select(\"recommendations.item\", \"recommendations.rating\").collect()\n",
      " |  [Row(item=[0, 1, 2], rating=[3.910..., 1.992..., -0.138...])]\n",
      " |  >>> item_recs = model.recommendForAllItems(3)\n",
      " |  >>> item_recs.where(item_recs.item == 2)        .select(\"recommendations.user\", \"recommendations.rating\").collect()\n",
      " |  [Row(user=[2, 1, 0], rating=[4.901..., 3.981..., -0.138...])]\n",
      " |  >>> user_subset = df.where(df.user == 2)\n",
      " |  >>> user_subset_recs = model.recommendForUserSubset(user_subset, 3)\n",
      " |  >>> user_subset_recs.select(\"recommendations.item\", \"recommendations.rating\").first()\n",
      " |  Row(item=[2, 1, 0], rating=[4.901..., 1.056..., -1.501...])\n",
      " |  >>> item_subset = df.where(df.item == 0)\n",
      " |  >>> item_subset_recs = model.recommendForItemSubset(item_subset, 3)\n",
      " |  >>> item_subset_recs.select(\"recommendations.user\", \"recommendations.rating\").first()\n",
      " |  Row(user=[0, 1, 2], rating=[3.910..., 2.625..., -1.501...])\n",
      " |  >>> als_path = temp_path + \"/als\"\n",
      " |  >>> als.save(als_path)\n",
      " |  >>> als2 = ALS.load(als_path)\n",
      " |  >>> als.getMaxIter()\n",
      " |  5\n",
      " |  >>> model_path = temp_path + \"/als_model\"\n",
      " |  >>> model.save(model_path)\n",
      " |  >>> model2 = ALSModel.load(model_path)\n",
      " |  >>> model.rank == model2.rank\n",
      " |  True\n",
      " |  >>> sorted(model.userFactors.collect()) == sorted(model2.userFactors.collect())\n",
      " |  True\n",
      " |  >>> sorted(model.itemFactors.collect()) == sorted(model2.itemFactors.collect())\n",
      " |  True\n",
      " |  \n",
      " |  .. versionadded:: 1.4.0\n",
      " |  \n",
      " |  Method resolution order:\n",
      " |      ALS\n",
      " |      pyspark.ml.wrapper.JavaEstimator\n",
      " |      pyspark.ml.wrapper.JavaParams\n",
      " |      pyspark.ml.wrapper.JavaWrapper\n",
      " |      pyspark.ml.base.Estimator\n",
      " |      pyspark.ml.param.shared.HasCheckpointInterval\n",
      " |      pyspark.ml.param.shared.HasMaxIter\n",
      " |      pyspark.ml.param.shared.HasPredictionCol\n",
      " |      pyspark.ml.param.shared.HasRegParam\n",
      " |      pyspark.ml.param.shared.HasSeed\n",
      " |      pyspark.ml.param.Params\n",
      " |      pyspark.ml.util.Identifiable\n",
      " |      pyspark.ml.util.JavaMLWritable\n",
      " |      pyspark.ml.util.MLWritable\n",
      " |      pyspark.ml.util.JavaMLReadable\n",
      " |      pyspark.ml.util.MLReadable\n",
      " |      builtins.object\n",
      " |  \n",
      " |  Methods defined here:\n",
      " |  \n",
      " |  __init__(self, rank=10, maxIter=10, regParam=0.1, numUserBlocks=10, numItemBlocks=10, implicitPrefs=False, alpha=1.0, userCol='user', itemCol='item', seed=None, ratingCol='rating', nonnegative=False, checkpointInterval=10, intermediateStorageLevel='MEMORY_AND_DISK', finalStorageLevel='MEMORY_AND_DISK', coldStartStrategy='nan')\n",
      " |      __init__(self, rank=10, maxIter=10, regParam=0.1, numUserBlocks=10, numItemBlocks=10,                  implicitPrefs=false, alpha=1.0, userCol=\"user\", itemCol=\"item\", seed=None,                  ratingCol=\"rating\", nonnegative=false, checkpointInterval=10,                  intermediateStorageLevel=\"MEMORY_AND_DISK\",                  finalStorageLevel=\"MEMORY_AND_DISK\", coldStartStrategy=\"nan\")\n",
      " |  \n",
      " |  getAlpha(self)\n",
      " |      Gets the value of alpha or its default value.\n",
      " |      \n",
      " |      .. versionadded:: 1.4.0\n",
      " |  \n",
      " |  getColdStartStrategy(self)\n",
      " |      Gets the value of coldStartStrategy or its default value.\n",
      " |      \n",
      " |      .. versionadded:: 2.2.0\n",
      " |  \n",
      " |  getFinalStorageLevel(self)\n",
      " |      Gets the value of finalStorageLevel or its default value.\n",
      " |      \n",
      " |      .. versionadded:: 2.0.0\n",
      " |  \n",
      " |  getImplicitPrefs(self)\n",
      " |      Gets the value of implicitPrefs or its default value.\n",
      " |      \n",
      " |      .. versionadded:: 1.4.0\n",
      " |  \n",
      " |  getIntermediateStorageLevel(self)\n",
      " |      Gets the value of intermediateStorageLevel or its default value.\n",
      " |      \n",
      " |      .. versionadded:: 2.0.0\n",
      " |  \n",
      " |  getItemCol(self)\n",
      " |      Gets the value of itemCol or its default value.\n",
      " |      \n",
      " |      .. versionadded:: 1.4.0\n",
      " |  \n",
      " |  getNonnegative(self)\n",
      " |      Gets the value of nonnegative or its default value.\n",
      " |      \n",
      " |      .. versionadded:: 1.4.0\n",
      " |  \n",
      " |  getNumItemBlocks(self)\n",
      " |      Gets the value of numItemBlocks or its default value.\n",
      " |      \n",
      " |      .. versionadded:: 1.4.0\n",
      " |  \n",
      " |  getNumUserBlocks(self)\n",
      " |      Gets the value of numUserBlocks or its default value.\n",
      " |      \n",
      " |      .. versionadded:: 1.4.0\n",
      " |  \n",
      " |  getRank(self)\n",
      " |      Gets the value of rank or its default value.\n",
      " |      \n",
      " |      .. versionadded:: 1.4.0\n",
      " |  \n",
      " |  getRatingCol(self)\n",
      " |      Gets the value of ratingCol or its default value.\n",
      " |      \n",
      " |      .. versionadded:: 1.4.0\n",
      " |  \n",
      " |  getUserCol(self)\n",
      " |      Gets the value of userCol or its default value.\n",
      " |      \n",
      " |      .. versionadded:: 1.4.0\n",
      " |  \n",
      " |  setAlpha(self, value)\n",
      " |      Sets the value of :py:attr:`alpha`.\n",
      " |      \n",
      " |      .. versionadded:: 1.4.0\n",
      " |  \n",
      " |  setColdStartStrategy(self, value)\n",
      " |      Sets the value of :py:attr:`coldStartStrategy`.\n",
      " |      \n",
      " |      .. versionadded:: 2.2.0\n",
      " |  \n",
      " |  setFinalStorageLevel(self, value)\n",
      " |      Sets the value of :py:attr:`finalStorageLevel`.\n",
      " |      \n",
      " |      .. versionadded:: 2.0.0\n",
      " |  \n",
      " |  setImplicitPrefs(self, value)\n",
      " |      Sets the value of :py:attr:`implicitPrefs`.\n",
      " |      \n",
      " |      .. versionadded:: 1.4.0\n",
      " |  \n",
      " |  setIntermediateStorageLevel(self, value)\n",
      " |      Sets the value of :py:attr:`intermediateStorageLevel`.\n",
      " |      \n",
      " |      .. versionadded:: 2.0.0\n",
      " |  \n",
      " |  setItemCol(self, value)\n",
      " |      Sets the value of :py:attr:`itemCol`.\n",
      " |      \n",
      " |      .. versionadded:: 1.4.0\n",
      " |  \n",
      " |  setNonnegative(self, value)\n",
      " |      Sets the value of :py:attr:`nonnegative`.\n",
      " |      \n",
      " |      .. versionadded:: 1.4.0\n",
      " |  \n",
      " |  setNumBlocks(self, value)\n",
      " |      Sets both :py:attr:`numUserBlocks` and :py:attr:`numItemBlocks` to the specific value.\n",
      " |      \n",
      " |      .. versionadded:: 1.4.0\n",
      " |  \n",
      " |  setNumItemBlocks(self, value)\n",
      " |      Sets the value of :py:attr:`numItemBlocks`.\n",
      " |      \n",
      " |      .. versionadded:: 1.4.0\n",
      " |  \n",
      " |  setNumUserBlocks(self, value)\n",
      " |      Sets the value of :py:attr:`numUserBlocks`.\n",
      " |      \n",
      " |      .. versionadded:: 1.4.0\n",
      " |  \n",
      " |  setParams(self, rank=10, maxIter=10, regParam=0.1, numUserBlocks=10, numItemBlocks=10, implicitPrefs=False, alpha=1.0, userCol='user', itemCol='item', seed=None, ratingCol='rating', nonnegative=False, checkpointInterval=10, intermediateStorageLevel='MEMORY_AND_DISK', finalStorageLevel='MEMORY_AND_DISK', coldStartStrategy='nan')\n",
      " |      setParams(self, rank=10, maxIter=10, regParam=0.1, numUserBlocks=10, numItemBlocks=10,                  implicitPrefs=False, alpha=1.0, userCol=\"user\", itemCol=\"item\", seed=None,                  ratingCol=\"rating\", nonnegative=False, checkpointInterval=10,                  intermediateStorageLevel=\"MEMORY_AND_DISK\",                  finalStorageLevel=\"MEMORY_AND_DISK\", coldStartStrategy=\"nan\")\n",
      " |      Sets params for ALS.\n",
      " |      \n",
      " |      .. versionadded:: 1.4.0\n",
      " |  \n",
      " |  setRank(self, value)\n",
      " |      Sets the value of :py:attr:`rank`.\n",
      " |      \n",
      " |      .. versionadded:: 1.4.0\n",
      " |  \n",
      " |  setRatingCol(self, value)\n",
      " |      Sets the value of :py:attr:`ratingCol`.\n",
      " |      \n",
      " |      .. versionadded:: 1.4.0\n",
      " |  \n",
      " |  setUserCol(self, value)\n",
      " |      Sets the value of :py:attr:`userCol`.\n",
      " |      \n",
      " |      .. versionadded:: 1.4.0\n",
      " |  \n",
      " |  ----------------------------------------------------------------------\n",
      " |  Data and other attributes defined here:\n",
      " |  \n",
      " |  alpha = Param(parent='undefined', name='alpha', doc='alpha for implici...\n",
      " |  \n",
      " |  coldStartStrategy = Param(parent='undefined', name='coldStartStrateg.....\n",
      " |  \n",
      " |  finalStorageLevel = Param(parent='undefined', name='finalStorageLevel'...\n",
      " |  \n",
      " |  implicitPrefs = Param(parent='undefined', name='implicitPrefs', doc='w...\n",
      " |  \n",
      " |  intermediateStorageLevel = Param(parent='undefined', name='intermediat...\n",
      " |  \n",
      " |  itemCol = Param(parent='undefined', name='itemCol', doc='c...ds. Ids m...\n",
      " |  \n",
      " |  nonnegative = Param(parent='undefined', name='nonnegative', do...to us...\n",
      " |  \n",
      " |  numItemBlocks = Param(parent='undefined', name='numItemBlocks', doc='n...\n",
      " |  \n",
      " |  numUserBlocks = Param(parent='undefined', name='numUserBlocks', doc='n...\n",
      " |  \n",
      " |  rank = Param(parent='undefined', name='rank', doc='rank of the factori...\n",
      " |  \n",
      " |  ratingCol = Param(parent='undefined', name='ratingCol', doc='column na...\n",
      " |  \n",
      " |  userCol = Param(parent='undefined', name='userCol', doc='c...ds. Ids m...\n",
      " |  \n",
      " |  ----------------------------------------------------------------------\n",
      " |  Data and other attributes inherited from pyspark.ml.wrapper.JavaEstimator:\n",
      " |  \n",
      " |  __metaclass__ = <class 'abc.ABCMeta'>\n",
      " |      Metaclass for defining Abstract Base Classes (ABCs).\n",
      " |      \n",
      " |      Use this metaclass to create an ABC.  An ABC can be subclassed\n",
      " |      directly, and then acts as a mix-in class.  You can also register\n",
      " |      unrelated concrete classes (even built-in classes) and unrelated\n",
      " |      ABCs as 'virtual subclasses' -- these and their descendants will\n",
      " |      be considered subclasses of the registering ABC by the built-in\n",
      " |      issubclass() function, but the registering ABC won't show up in\n",
      " |      their MRO (Method Resolution Order) nor will method\n",
      " |      implementations defined by the registering ABC be callable (not\n",
      " |      even via super()).\n",
      " |  \n",
      " |  ----------------------------------------------------------------------\n",
      " |  Methods inherited from pyspark.ml.wrapper.JavaParams:\n",
      " |  \n",
      " |  copy(self, extra=None)\n",
      " |      Creates a copy of this instance with the same uid and some\n",
      " |      extra params. This implementation first calls Params.copy and\n",
      " |      then make a copy of the companion Java pipeline component with\n",
      " |      extra params. So both the Python wrapper and the Java pipeline\n",
      " |      component get copied.\n",
      " |      \n",
      " |      :param extra: Extra parameters to copy to the new instance\n",
      " |      :return: Copy of this instance\n",
      " |  \n",
      " |  ----------------------------------------------------------------------\n",
      " |  Methods inherited from pyspark.ml.wrapper.JavaWrapper:\n",
      " |  \n",
      " |  __del__(self)\n",
      " |  \n",
      " |  ----------------------------------------------------------------------\n",
      " |  Data descriptors inherited from pyspark.ml.wrapper.JavaWrapper:\n",
      " |  \n",
      " |  __dict__\n",
      " |      dictionary for instance variables (if defined)\n",
      " |  \n",
      " |  __weakref__\n",
      " |      list of weak references to the object (if defined)\n",
      " |  \n",
      " |  ----------------------------------------------------------------------\n",
      " |  Methods inherited from pyspark.ml.base.Estimator:\n",
      " |  \n",
      " |  fit(self, dataset, params=None)\n",
      " |      Fits a model to the input dataset with optional parameters.\n",
      " |      \n",
      " |      :param dataset: input dataset, which is an instance of :py:class:`pyspark.sql.DataFrame`\n",
      " |      :param params: an optional param map that overrides embedded params. If a list/tuple of\n",
      " |                     param maps is given, this calls fit on each param map and returns a list of\n",
      " |                     models.\n",
      " |      :returns: fitted model(s)\n",
      " |      \n",
      " |      .. versionadded:: 1.3.0\n",
      " |  \n",
      " |  fitMultiple(self, dataset, paramMaps)\n",
      " |      Fits a model to the input dataset for each param map in `paramMaps`.\n",
      " |      \n",
      " |      :param dataset: input dataset, which is an instance of :py:class:`pyspark.sql.DataFrame`.\n",
      " |      :param paramMaps: A Sequence of param maps.\n",
      " |      :return: A thread safe iterable which contains one model for each param map. Each\n",
      " |               call to `next(modelIterator)` will return `(index, model)` where model was fit\n",
      " |               using `paramMaps[index]`. `index` values may not be sequential.\n",
      " |      \n",
      " |      .. note:: DeveloperApi\n",
      " |      .. note:: Experimental\n",
      " |      \n",
      " |      .. versionadded:: 2.3.0\n",
      " |  \n",
      " |  ----------------------------------------------------------------------\n",
      " |  Methods inherited from pyspark.ml.param.shared.HasCheckpointInterval:\n",
      " |  \n",
      " |  getCheckpointInterval(self)\n",
      " |      Gets the value of checkpointInterval or its default value.\n",
      " |  \n",
      " |  setCheckpointInterval(self, value)\n",
      " |      Sets the value of :py:attr:`checkpointInterval`.\n",
      " |  \n",
      " |  ----------------------------------------------------------------------\n",
      " |  Data and other attributes inherited from pyspark.ml.param.shared.HasCheckpointInterval:\n",
      " |  \n",
      " |  checkpointInterval = Param(parent='undefined', name='checkpointInterv....\n",
      " |  \n",
      " |  ----------------------------------------------------------------------\n",
      " |  Methods inherited from pyspark.ml.param.shared.HasMaxIter:\n",
      " |  \n",
      " |  getMaxIter(self)\n",
      " |      Gets the value of maxIter or its default value.\n",
      " |  \n",
      " |  setMaxIter(self, value)\n",
      " |      Sets the value of :py:attr:`maxIter`.\n",
      " |  \n",
      " |  ----------------------------------------------------------------------\n",
      " |  Data and other attributes inherited from pyspark.ml.param.shared.HasMaxIter:\n",
      " |  \n",
      " |  maxIter = Param(parent='undefined', name='maxIter', doc='max number of...\n",
      " |  \n",
      " |  ----------------------------------------------------------------------\n",
      " |  Methods inherited from pyspark.ml.param.shared.HasPredictionCol:\n",
      " |  \n",
      " |  getPredictionCol(self)\n",
      " |      Gets the value of predictionCol or its default value.\n",
      " |  \n",
      " |  setPredictionCol(self, value)\n",
      " |      Sets the value of :py:attr:`predictionCol`.\n",
      " |  \n",
      " |  ----------------------------------------------------------------------\n",
      " |  Data and other attributes inherited from pyspark.ml.param.shared.HasPredictionCol:\n",
      " |  \n",
      " |  predictionCol = Param(parent='undefined', name='predictionCol', doc='p...\n",
      " |  \n",
      " |  ----------------------------------------------------------------------\n",
      " |  Methods inherited from pyspark.ml.param.shared.HasRegParam:\n",
      " |  \n",
      " |  getRegParam(self)\n",
      " |      Gets the value of regParam or its default value.\n",
      " |  \n",
      " |  setRegParam(self, value)\n",
      " |      Sets the value of :py:attr:`regParam`.\n",
      " |  \n",
      " |  ----------------------------------------------------------------------\n",
      " |  Data and other attributes inherited from pyspark.ml.param.shared.HasRegParam:\n",
      " |  \n",
      " |  regParam = Param(parent='undefined', name='regParam', doc='regularizat...\n",
      " |  \n",
      " |  ----------------------------------------------------------------------\n",
      " |  Methods inherited from pyspark.ml.param.shared.HasSeed:\n",
      " |  \n",
      " |  getSeed(self)\n",
      " |      Gets the value of seed or its default value.\n",
      " |  \n",
      " |  setSeed(self, value)\n",
      " |      Sets the value of :py:attr:`seed`.\n",
      " |  \n",
      " |  ----------------------------------------------------------------------\n",
      " |  Data and other attributes inherited from pyspark.ml.param.shared.HasSeed:\n",
      " |  \n",
      " |  seed = Param(parent='undefined', name='seed', doc='random seed.')\n",
      " |  \n",
      " |  ----------------------------------------------------------------------\n",
      " |  Methods inherited from pyspark.ml.param.Params:\n",
      " |  \n",
      " |  explainParam(self, param)\n",
      " |      Explains a single param and returns its name, doc, and optional\n",
      " |      default value and user-supplied value in a string.\n",
      " |  \n",
      " |  explainParams(self)\n",
      " |      Returns the documentation of all params with their optionally\n",
      " |      default values and user-supplied values.\n",
      " |  \n",
      " |  extractParamMap(self, extra=None)\n",
      " |      Extracts the embedded default param values and user-supplied\n",
      " |      values, and then merges them with extra values from input into\n",
      " |      a flat param map, where the latter value is used if there exist\n",
      " |      conflicts, i.e., with ordering: default param values <\n",
      " |      user-supplied values < extra.\n",
      " |      \n",
      " |      :param extra: extra param values\n",
      " |      :return: merged param map\n",
      " |  \n",
      " |  getOrDefault(self, param)\n",
      " |      Gets the value of a param in the user-supplied param map or its\n",
      " |      default value. Raises an error if neither is set.\n",
      " |  \n",
      " |  getParam(self, paramName)\n",
      " |      Gets a param by its name.\n",
      " |  \n",
      " |  hasDefault(self, param)\n",
      " |      Checks whether a param has a default value.\n",
      " |  \n",
      " |  hasParam(self, paramName)\n",
      " |      Tests whether this instance contains a param with a given\n",
      " |      (string) name.\n",
      " |  \n",
      " |  isDefined(self, param)\n",
      " |      Checks whether a param is explicitly set by user or has\n",
      " |      a default value.\n",
      " |  \n",
      " |  isSet(self, param)\n",
      " |      Checks whether a param is explicitly set by user.\n",
      " |  \n",
      " |  set(self, param, value)\n",
      " |      Sets a parameter in the embedded param map.\n",
      " |  \n",
      " |  ----------------------------------------------------------------------\n",
      " |  Data descriptors inherited from pyspark.ml.param.Params:\n",
      " |  \n",
      " |  params\n",
      " |      Returns all params ordered by name. The default implementation\n",
      " |      uses :py:func:`dir` to get all attributes of type\n",
      " |      :py:class:`Param`.\n",
      " |  \n",
      " |  ----------------------------------------------------------------------\n",
      " |  Methods inherited from pyspark.ml.util.Identifiable:\n",
      " |  \n",
      " |  __repr__(self)\n",
      " |      Return repr(self).\n",
      " |  \n",
      " |  ----------------------------------------------------------------------\n",
      " |  Methods inherited from pyspark.ml.util.JavaMLWritable:\n",
      " |  \n",
      " |  write(self)\n",
      " |      Returns an MLWriter instance for this ML instance.\n",
      " |  \n",
      " |  ----------------------------------------------------------------------\n",
      " |  Methods inherited from pyspark.ml.util.MLWritable:\n",
      " |  \n",
      " |  save(self, path)\n",
      " |      Save this ML instance to the given path, a shortcut of 'write().save(path)'.\n",
      " |  \n",
      " |  ----------------------------------------------------------------------\n",
      " |  Class methods inherited from pyspark.ml.util.JavaMLReadable:\n",
      " |  \n",
      " |  read() from builtins.type\n",
      " |      Returns an MLReader instance for this class.\n",
      " |  \n",
      " |  ----------------------------------------------------------------------\n",
      " |  Class methods inherited from pyspark.ml.util.MLReadable:\n",
      " |  \n",
      " |  load(path) from builtins.type\n",
      " |      Reads an ML instance from the input path, a shortcut of `read().load(path)`.\n",
      "\n"
     ]
    }
   ],
   "source": [
    "## Whats a quick \n",
    "from pyspark.ml.recommendation import ALS, ALSModel\n",
    "help(ALS)"
   ]
  },
  {
   "cell_type": "markdown",
   "metadata": {
    "slideshow": {
     "slide_type": "slide"
    }
   },
   "source": [
    "## Rank\n",
    "\n",
    "What's all this rank of the factorization business?<br>\n",
    "[the source code documentation](https://github.com/apache/spark/blob/master/mllib/src/main/scala/org/apache/spark/mllib/recommendation/ALS.scala) describes that variable as the \"Rank of the feature matrices\""
   ]
  },
  {
   "cell_type": "markdown",
   "metadata": {
    "slideshow": {
     "slide_type": "slide"
    }
   },
   "source": [
    "## Assumptions\n",
    "\n",
    "Matrix decomposition is built on the theory that every individual (user, movie) score is actually the **dot product** of two separate vectors:\n",
    "- user characteristics \n",
    "- movie characteristics"
   ]
  },
  {
   "cell_type": "markdown",
   "metadata": {
    "slideshow": {
     "slide_type": "slide"
    }
   },
   "source": [
    "Wait, do you mean like gender, whether the movie is sci-fi or action? Do we have that data?"
   ]
  },
  {
   "cell_type": "markdown",
   "metadata": {
    "slideshow": {
     "slide_type": "slide"
    }
   },
   "source": [
    "![beyonce-gif](img/beyonce.gif)"
   ]
  },
  {
   "cell_type": "markdown",
   "metadata": {
    "slideshow": {
     "slide_type": "slide"
    }
   },
   "source": [
    "## Huh?\n",
    "![what](img/what.gif)"
   ]
  },
  {
   "cell_type": "markdown",
   "metadata": {
    "slideshow": {
     "slide_type": "slide"
    }
   },
   "source": [
    "## The hidden matricies \n",
    "![image4](img/matrix_decomp.png)"
   ]
  },
  {
   "cell_type": "markdown",
   "metadata": {
    "slideshow": {
     "slide_type": "slide"
    }
   },
   "source": [
    "## Embeddings\n",
    "\n",
    "Embeddings are low dimensional hidden factors for items and users.\n",
    "\n",
    "For e.g. say we have 5 dimensional (i.e., **rank** = 5) embeddings for both items and users (5 chosen randomly, this could be any number - as we saw with PCA and dim. reduction).\n",
    "\n",
    "For user-X & movie-A, we can say those 5 numbers might represent 5 different characteristics about the movie e.g.:\n",
    "\n",
    "- How much movie-A is political\n",
    "- How recent is the movie\n",
    "- How much special effects are in movie A\n",
    "- How dialogue driven is the movie\n",
    "- How linear is the narrative in the movie\n",
    "\n",
    "In a similar way, 5 numbers in the user embedding matrix might represent:\n",
    "\n",
    "- How much does user-X like sci-fi movies\n",
    "- How much does user-X like recent movies … and so on.\n",
    "\n",
    "But we have *no actual idea* what those factors actually represent."
   ]
  },
  {
   "cell_type": "markdown",
   "metadata": {
    "slideshow": {
     "slide_type": "slide"
    }
   },
   "source": [
    "### If we knew the feature embeddings in advance, it would look something like this:"
   ]
  },
  {
   "cell_type": "code",
   "execution_count": 1,
   "metadata": {
    "slideshow": {
     "slide_type": "slide"
    }
   },
   "outputs": [],
   "source": [
    "import numpy as np\n",
    "\n",
    "# the original matrix of rankings\n",
    "R = np.array([[2, np.nan, np.nan, 1, 4],\n",
    "       [5, 1, 2, np.nan, 2],\n",
    "       [3, np.nan, np.nan, 3, np.nan],\n",
    "       [1, np.nan, 4, 2, 1]])\n",
    "\n",
    "# users X factors\n",
    "P =np.array([[-0.63274434,  1.33686735, -1.55128517],\n",
    "       [-2.23813661,  0.5123861 ,  0.14087293],\n",
    "       [-1.0289794 ,  1.62052691,  0.21027516],\n",
    "       [-0.06422255,  1.62892864,  0.33350709]])\n",
    "\n",
    "# factors X items\n",
    "Q = np.array([[-2.09507374,  0.52351075,  0.01826269],\n",
    "       [-0.45078775, -0.07334991,  0.18731052],\n",
    "       [-0.34161766,  2.46215058, -0.18942263],\n",
    "       [-1.0925736 ,  1.04664756,  0.69963111],\n",
    "       [-0.78152923,  0.89189076, -1.47144019]])"
   ]
  },
  {
   "cell_type": "markdown",
   "metadata": {
    "slideshow": {
     "slide_type": "slide"
    }
   },
   "source": [
    "What about that `np.nan` in the third row, last column? How will that item be reviewed by that user?"
   ]
  },
  {
   "cell_type": "code",
   "execution_count": 2,
   "metadata": {
    "slideshow": {
     "slide_type": "slide"
    }
   },
   "outputs": [
    {
     "name": "stdout",
     "output_type": "stream",
     "text": [
      "[-1.0289794   1.62052691  0.21027516]\n",
      "[-0.78152923  0.89189076 -1.47144019]\n"
     ]
    },
    {
     "data": {
      "text/plain": [
       "1.9401031341455333"
      ]
     },
     "execution_count": 2,
     "metadata": {},
     "output_type": "execute_result"
    }
   ],
   "source": [
    "print(P[2])\n",
    "print(Q.T[:,4])\n",
    "P[2].dot(Q.T[:,4])"
   ]
  },
  {
   "cell_type": "markdown",
   "metadata": {
    "slideshow": {
     "slide_type": "slide"
    }
   },
   "source": [
    "## Wait, I saw a transpose in there - what's the actual formula?\n",
    "\n",
    "Terms:<br>\n",
    "$R$ is the full user-item rating matrix\n",
    "\n",
    "$P$ is a matrix that contains the users and the k factors represented as (user,factor)\n",
    "\n",
    "$Q^T$ is a matrix that contains the items and the k factors represented as\n",
    "\n",
    "$r̂_{u,i}$ represents our prediction for the true rating $r_{ui}$ In order to get an individual rating, you must take the dot product of a row of P and a column of Q\n",
    "\n",
    "for the entire matrix:\n",
    "$$ R = PQ^T $$ \n",
    "\n",
    "or for individual ratings\n",
    "\n",
    "$$r̂_{u,i}=q_i^⊤p_u $$ \n",
    "\n",
    "\n",
    "\n"
   ]
  },
  {
   "cell_type": "markdown",
   "metadata": {
    "slideshow": {
     "slide_type": "slide"
    }
   },
   "source": [
    "### Let's get the whole matrix!"
   ]
  },
  {
   "cell_type": "code",
   "execution_count": 3,
   "metadata": {
    "slideshow": {
     "slide_type": "slide"
    }
   },
   "outputs": [
    {
     "data": {
      "text/plain": [
       "array([[ 1.99717984, -0.10339773,  3.80157388,  1.00522135,  3.96947118],\n",
       "       [ 4.95987359,  0.99772807,  1.9994742 ,  3.08017572,  1.99887552],\n",
       "       [ 3.00799117,  0.38437256,  4.30166793,  2.96747131,  1.94010313],\n",
       "       [ 0.99340337, -0.02806164,  3.96943336,  2.00841398,  1.01228247]])"
      ]
     },
     "execution_count": 3,
     "metadata": {},
     "output_type": "execute_result"
    }
   ],
   "source": [
    "P.dot(Q.T)"
   ]
  },
  {
   "cell_type": "markdown",
   "metadata": {
    "slideshow": {
     "slide_type": "slide"
    }
   },
   "source": [
    "### Look at those results\n",
    "\n",
    "Are they _exactly_ correct?\n",
    "![check](img/check.gif)"
   ]
  },
  {
   "cell_type": "markdown",
   "metadata": {
    "slideshow": {
     "slide_type": "slide"
    }
   },
   "source": [
    "## ALS benefit: Loss Function\n",
    "\n",
    "The Loss function $L$ can be calculated as:\n",
    "\n",
    "$$ L = \\sum_{u,i ∈ \\kappa}(r_{u,i}− q_i^T p_u)^2 + λ( ||q_i||^2 + |p_u||^2)$$\n",
    "\n",
    "Where $\\kappa$ is the set of (u,i) pairs for which $r_{u,i}$ is known.\n",
    "\n",
    "To avoid overfitting, the loss function also includes a regularization parameter $\\lambda$. We will choose a $\\lambda$ to minimize the square of the difference between all ratings in our dataset $R$ and our predictions.\n",
    "\n",
    "There's the **least squares** part of ALS, got it!"
   ]
  },
  {
   "cell_type": "markdown",
   "metadata": {
    "slideshow": {
     "slide_type": "slide"
    }
   },
   "source": [
    "## So now we use gradient decent, right?"
   ]
  },
  {
   "cell_type": "markdown",
   "metadata": {
    "slideshow": {
     "slide_type": "slide"
    }
   },
   "source": [
    "![incorrect](img/incorrect.gif)"
   ]
  },
  {
   "cell_type": "markdown",
   "metadata": {
    "slideshow": {
     "slide_type": "slide"
    }
   },
   "source": [
    "### Here comes the alternating part\n",
    "\n",
    "ALS alternates between holding the $q_i$'s constant and the $p_u$'s constant. \n",
    "\n",
    "While all $q_i$'s are held constant, each $p_u$ is computed by solving the least squared problem.<br>\n",
    "After that process has taken place, all the $p_u$'s are held constant while the $q_i$'s are altered to solve the least squares problem, again, each independently.<br> \n",
    "This process repeats many times until you've reached convergence (ideally)."
   ]
  },
  {
   "cell_type": "markdown",
   "metadata": {
    "slideshow": {
     "slide_type": "slide"
    }
   },
   "source": [
    "### Changing Loss function:\n",
    "\n",
    "First let's assume first the item vectors are fixed, we first solve for the user vectors:\n",
    "\n",
    "$$p_u=(\\sum{r{u,i}\\in r_{u*}}{q_iq_i^T + \\lambda I_k})^{-1}\\sum_{r_{u,i}\\in r_{u*}}{r_{ui}{q_{i}}}$$__\n",
    "Then we hold the user vectors constant and solve for the item vectors\n",
    "\n",
    "$$q_i=(\\sum{r{u,i}\\in r_{i*}}{p_up_u^T + \\lambda I_k})^{-1}\\sum_{r_{u,i}\\in r_{u*}}{r_{ui}{p_{u}}}$$__\n",
    "This process repeats until convergence"
   ]
  },
  {
   "cell_type": "markdown",
   "metadata": {
    "slideshow": {
     "slide_type": "slide"
    }
   },
   "source": [
    "# Review\n",
    "What levers do we have available to adjust?\n",
    "![lever-choice](img/levers.jpeg)\n",
    "\n",
    "- Pros and cons of large rank?\n",
    "- Pros and cons of lambda size?\n",
    "- Iterations?"
   ]
  },
  {
   "cell_type": "markdown",
   "metadata": {
    "slideshow": {
     "slide_type": "slide"
    }
   },
   "source": [
    "# Enough - let's get to the data"
   ]
  },
  {
   "cell_type": "markdown",
   "metadata": {
    "slideshow": {
     "slide_type": "slide"
    }
   },
   "source": [
    "### Importing the Data\n",
    "To begin with:\n",
    "* initialize a SparkSession object\n",
    "* import the dataset found at './data/ratings.csv' into a pyspark DataFrame"
   ]
  },
  {
   "cell_type": "code",
   "execution_count": 4,
   "metadata": {
    "slideshow": {
     "slide_type": "slide"
    }
   },
   "outputs": [],
   "source": [
    "# import necessary libraries\n",
    "!env | grep PYTHONPATH"
   ]
  },
  {
   "cell_type": "code",
   "execution_count": 5,
   "metadata": {
    "slideshow": {
     "slide_type": "slide"
    }
   },
   "outputs": [],
   "source": [
    "import pyspark\n",
    "\n",
    "spark = (pyspark.sql.SparkSession.builder \n",
    "  .master(\"local[*]\")\n",
    "  .getOrCreate())"
   ]
  },
  {
   "cell_type": "code",
   "execution_count": 6,
   "metadata": {
    "slideshow": {
     "slide_type": "slide"
    }
   },
   "outputs": [
    {
     "name": "stdout",
     "output_type": "stream",
     "text": [
      "movies.csv  ratings.csv\r\n"
     ]
    }
   ],
   "source": [
    "!ls data/"
   ]
  },
  {
   "cell_type": "code",
   "execution_count": 7,
   "metadata": {
    "slideshow": {
     "slide_type": "slide"
    }
   },
   "outputs": [
    {
     "name": "stdout",
     "output_type": "stream",
     "text": [
      "data/ratings.csv: ASCII text, with CRLF line terminators\r\n"
     ]
    }
   ],
   "source": [
    "!file data/ratings.csv"
   ]
  },
  {
   "cell_type": "code",
   "execution_count": 8,
   "metadata": {
    "slideshow": {
     "slide_type": "slide"
    }
   },
   "outputs": [
    {
     "name": "stdout",
     "output_type": "stream",
     "text": [
      "userId,movieId,rating,timestamp\r",
      "\r\n",
      "1,1,4.0,964982703\r",
      "\r\n",
      "1,3,4.0,964981247\r",
      "\r\n",
      "1,6,4.0,964982224\r",
      "\r\n",
      "1,47,5.0,964983815\r",
      "\r\n",
      "1,50,5.0,964982931\r",
      "\r\n",
      "1,70,3.0,964982400\r",
      "\r\n",
      "1,101,5.0,964980868\r",
      "\r\n",
      "1,110,4.0,964982176\r",
      "\r\n",
      "1,151,5.0,964984041\r",
      "\r\n"
     ]
    }
   ],
   "source": [
    "!head data/ratings.csv"
   ]
  },
  {
   "cell_type": "code",
   "execution_count": 9,
   "metadata": {
    "slideshow": {
     "slide_type": "slide"
    }
   },
   "outputs": [],
   "source": [
    "# read in the dataset into pyspark DataFrame\n",
    "movie_ratings = spark.read.csv('data/ratings.csv',\n",
    "                               inferSchema=True,\n",
    "                               header=True)"
   ]
  },
  {
   "cell_type": "markdown",
   "metadata": {
    "slideshow": {
     "slide_type": "slide"
    }
   },
   "source": [
    "Check the data types of each of the values to ensure that they are a type that makes sense given the column."
   ]
  },
  {
   "cell_type": "code",
   "execution_count": 10,
   "metadata": {
    "slideshow": {
     "slide_type": "slide"
    }
   },
   "outputs": [
    {
     "name": "stdout",
     "output_type": "stream",
     "text": [
      "root\n",
      " |-- userId: integer (nullable = true)\n",
      " |-- movieId: integer (nullable = true)\n",
      " |-- rating: double (nullable = true)\n",
      " |-- timestamp: integer (nullable = true)\n",
      "\n"
     ]
    }
   ],
   "source": [
    "movie_ratings.printSchema()"
   ]
  },
  {
   "cell_type": "markdown",
   "metadata": {
    "slideshow": {
     "slide_type": "slide"
    }
   },
   "source": [
    "But if they were ever incorrectly assigned, here's how we fix it:"
   ]
  },
  {
   "cell_type": "code",
   "execution_count": 11,
   "metadata": {
    "slideshow": {
     "slide_type": "slide"
    }
   },
   "outputs": [],
   "source": [
    "from pyspark.sql.types import (\n",
    "    ArrayType,\n",
    "    AtomicType,\n",
    "    BinaryType,\n",
    "    BooleanType,\n",
    "    ByteType,\n",
    "    CloudPickleSerializer,\n",
    "    DataType,\n",
    "    DataTypeSingleton,\n",
    "    DateConverter,\n",
    "    DateType,\n",
    "    DatetimeConverter,\n",
    "    DecimalType,\n",
    "    DoubleType,\n",
    "    FloatType,\n",
    "    FractionalType,\n",
    "    IntegerType,\n",
    "    IntegralType,\n",
    "    JavaClass,\n",
    "    LongType,\n",
    "    MapType,\n",
    "    NullType,\n",
    "    NumericType,\n",
    "    Row,\n",
    "    ShortType,\n",
    "    SparkContext,\n",
    "    StringType,\n",
    "    StructField,\n",
    "    StructType,\n",
    "    TimestampType,\n",
    "    UserDefinedType,\n",
    ")"
   ]
  },
  {
   "cell_type": "code",
   "execution_count": 12,
   "metadata": {
    "slideshow": {
     "slide_type": "slide"
    }
   },
   "outputs": [],
   "source": [
    "schema = StructType(\n",
    "    [\n",
    "        StructField('userId', IntegerType()),\n",
    "        StructField('movieId', IntegerType()),\n",
    "        StructField('rating', FloatType()),\n",
    "        StructField('timestamp', LongType()),\n",
    "    ]\n",
    ")"
   ]
  },
  {
   "cell_type": "code",
   "execution_count": 13,
   "metadata": {
    "slideshow": {
     "slide_type": "slide"
    }
   },
   "outputs": [],
   "source": [
    "# read in the dataset into pyspark DataFrame\n",
    "movie_ratings = spark.read.csv('data/ratings.csv',\n",
    "                               inferSchema=False,\n",
    "                               schema=schema,\n",
    "                               header=True)"
   ]
  },
  {
   "cell_type": "code",
   "execution_count": 14,
   "metadata": {
    "slideshow": {
     "slide_type": "slide"
    }
   },
   "outputs": [
    {
     "data": {
      "text/plain": [
       "DataFrame[userId: int, movieId: int, rating: float, timestamp: bigint]"
      ]
     },
     "execution_count": 14,
     "metadata": {},
     "output_type": "execute_result"
    }
   ],
   "source": [
    "movie_ratings.persist()"
   ]
  },
  {
   "cell_type": "code",
   "execution_count": 15,
   "metadata": {
    "slideshow": {
     "slide_type": "slide"
    }
   },
   "outputs": [
    {
     "name": "stdout",
     "output_type": "stream",
     "text": [
      "root\n",
      " |-- userId: integer (nullable = true)\n",
      " |-- movieId: integer (nullable = true)\n",
      " |-- rating: float (nullable = true)\n",
      " |-- timestamp: long (nullable = true)\n",
      "\n"
     ]
    }
   ],
   "source": [
    "movie_ratings.printSchema()"
   ]
  },
  {
   "cell_type": "code",
   "execution_count": 16,
   "metadata": {
    "slideshow": {
     "slide_type": "slide"
    }
   },
   "outputs": [
    {
     "data": {
      "text/plain": [
       "pyspark.sql.dataframe.DataFrame"
      ]
     },
     "execution_count": 16,
     "metadata": {},
     "output_type": "execute_result"
    }
   ],
   "source": [
    "type(movie_ratings)"
   ]
  },
  {
   "cell_type": "code",
   "execution_count": 17,
   "metadata": {
    "slideshow": {
     "slide_type": "slide"
    }
   },
   "outputs": [
    {
     "name": "stdout",
     "output_type": "stream",
     "text": [
      "+------+-------+------+---------+\n",
      "|userId|movieId|rating|timestamp|\n",
      "+------+-------+------+---------+\n",
      "|     1|      1|   4.0|964982703|\n",
      "|     1|      3|   4.0|964981247|\n",
      "|     1|      6|   4.0|964982224|\n",
      "|     1|     47|   5.0|964983815|\n",
      "|     1|     50|   5.0|964982931|\n",
      "|     1|     70|   3.0|964982400|\n",
      "|     1|    101|   5.0|964980868|\n",
      "|     1|    110|   4.0|964982176|\n",
      "|     1|    151|   5.0|964984041|\n",
      "|     1|    157|   5.0|964984100|\n",
      "|     1|    163|   5.0|964983650|\n",
      "|     1|    216|   5.0|964981208|\n",
      "|     1|    223|   3.0|964980985|\n",
      "|     1|    231|   5.0|964981179|\n",
      "|     1|    235|   4.0|964980908|\n",
      "|     1|    260|   5.0|964981680|\n",
      "|     1|    296|   3.0|964982967|\n",
      "|     1|    316|   3.0|964982310|\n",
      "|     1|    333|   5.0|964981179|\n",
      "|     1|    349|   4.0|964982563|\n",
      "+------+-------+------+---------+\n",
      "only showing top 20 rows\n",
      "\n"
     ]
    }
   ],
   "source": [
    "movie_ratings.show()"
   ]
  },
  {
   "cell_type": "markdown",
   "metadata": {
    "slideshow": {
     "slide_type": "slide"
    }
   },
   "source": [
    "We aren't going to need the time stamp, so we can go ahead and remove that column."
   ]
  },
  {
   "cell_type": "code",
   "execution_count": null,
   "metadata": {
    "slideshow": {
     "slide_type": "slide"
    }
   },
   "outputs": [],
   "source": [
    "movie_ratings = #what do we put here?"
   ]
  },
  {
   "cell_type": "markdown",
   "metadata": {
    "slideshow": {
     "slide_type": "slide"
    }
   },
   "source": [
    "### Fitting the Alternating Least Squares Model"
   ]
  },
  {
   "cell_type": "markdown",
   "metadata": {
    "slideshow": {
     "slide_type": "slide"
    }
   },
   "source": [
    "Because this dataset is already preprocessed for us, we can go ahead and fit the Alternating Least Squares model.\n",
    "\n",
    "* Use the randomSplit method on the pyspark DataFrame to separate the dataset into a training and test set\n",
    "* Import the ALS module from pyspark.ml.recommendation.\n",
    "* Fit the Alternating Least Squares Model to the training dataset. Make sure to set the userCol, itemCol, and ratingCol to the appropriate names given this dataset. Then fit the data to the training set and assign it to a variable model. "
   ]
  },
  {
   "cell_type": "markdown",
   "metadata": {
    "slideshow": {
     "slide_type": "slide"
    }
   },
   "source": [
    "### Train-Test Split\n",
    "\n",
    "Split the data into training and testing sets."
   ]
  },
  {
   "cell_type": "code",
   "execution_count": 29,
   "metadata": {
    "slideshow": {
     "slide_type": "slide"
    }
   },
   "outputs": [],
   "source": [
    "from pyspark.ml.evaluation import RegressionEvaluator\n",
    "from pyspark.ml.recommendation import ALS, ALSModel\n",
    "\n",
    "als = ALS(\n",
    "    rank=10,\n",
    "    maxIter=10,\n",
    "    userCol='userId',\n",
    "    itemCol='movieId',\n",
    "    ratingCol='rating',\n",
    ")"
   ]
  },
  {
   "cell_type": "code",
   "execution_count": 30,
   "metadata": {
    "slideshow": {
     "slide_type": "slide"
    }
   },
   "outputs": [],
   "source": [
    "# Build the recommendation model using ALS on the training data\n",
    "# fit the ALS model to the training set\n",
    "\n",
    "als_model = als.fit(train_data)"
   ]
  },
  {
   "cell_type": "markdown",
   "metadata": {
    "slideshow": {
     "slide_type": "slide"
    }
   },
   "source": [
    "Now you've fit the model, and it's time to evaluate it to determine just how well it performed.\n",
    "\n",
    "* Import `RegressionEvalutor` from pyspark.ml.evaluation [documentation](http://spark.apache.org/docs/2.4.3/api/python/pyspark.ml.html#pyspark.ml.evaluation.RegressionEvaluator)\n",
    "* Generate predictions with your model for the train and test set by using the `transform` method on your ALS model\n",
    "* Evaluate your model and print out the RMSE from your test set [options for evaluating regressors](http://spark.apache.org/docs/2.4.3/api/python/pyspark.ml.html#pyspark.ml.evaluation.RegressionEvaluator.metricName)"
   ]
  },
  {
   "cell_type": "markdown",
   "metadata": {
    "slideshow": {
     "slide_type": "slide"
    }
   },
   "source": [
    "### Important Question\n",
    "\n",
    "Will Billy like movie m?"
   ]
  },
  {
   "cell_type": "code",
   "execution_count": 49,
   "metadata": {
    "slideshow": {
     "slide_type": "slide"
    }
   },
   "outputs": [],
   "source": [
    "billy_row = user_factors[user_factors['id'] == 10].first()\n",
    "billy_factors = np.array(billy_row['features'])"
   ]
  },
  {
   "cell_type": "code",
   "execution_count": 50,
   "metadata": {
    "slideshow": {
     "slide_type": "slide"
    }
   },
   "outputs": [],
   "source": [
    "m_row = item_factors[item_factors['id'] == 296].first()\n",
    "m_factors = np.array(m_row['features'])"
   ]
  },
  {
   "cell_type": "code",
   "execution_count": 51,
   "metadata": {
    "scrolled": true,
    "slideshow": {
     "slide_type": "slide"
    }
   },
   "outputs": [
    {
     "data": {
      "text/plain": [
       "array([ 0.63686609,  0.45804632,  0.28430074,  1.02743554, -0.80457139,\n",
       "        0.28032553,  0.20997393,  1.38921404,  0.33457235, -0.17821293])"
      ]
     },
     "execution_count": 51,
     "metadata": {},
     "output_type": "execute_result"
    }
   ],
   "source": [
    "billy_factors"
   ]
  },
  {
   "cell_type": "code",
   "execution_count": 52,
   "metadata": {
    "slideshow": {
     "slide_type": "slide"
    }
   },
   "outputs": [
    {
     "data": {
      "text/plain": [
       "array([ 0.58915579,  1.13703477, -1.38429129,  1.181077  ,  0.18176536,\n",
       "        1.1247915 ,  0.45762929, -0.02493427,  0.33827844,  0.20756954])"
      ]
     },
     "execution_count": 52,
     "metadata": {},
     "output_type": "execute_result"
    }
   ],
   "source": [
    "m_factors"
   ]
  },
  {
   "cell_type": "code",
   "execution_count": 53,
   "metadata": {
    "slideshow": {
     "slide_type": "slide"
    }
   },
   "outputs": [
    {
     "data": {
      "text/plain": [
       "2.022656176543938"
      ]
     },
     "execution_count": 53,
     "metadata": {},
     "output_type": "execute_result"
    }
   ],
   "source": [
    "billy_factors @ m_factors"
   ]
  },
  {
   "cell_type": "code",
   "execution_count": 54,
   "metadata": {
    "slideshow": {
     "slide_type": "slide"
    }
   },
   "outputs": [],
   "source": [
    "billy_preds = predictions[predictions['userId'] == 10]"
   ]
  },
  {
   "cell_type": "code",
   "execution_count": 55,
   "metadata": {
    "scrolled": true,
    "slideshow": {
     "slide_type": "slide"
    }
   },
   "outputs": [
    {
     "name": "stdout",
     "output_type": "stream",
     "text": [
      "+------+-------+------+----------+\n",
      "|userId|movieId|rating|prediction|\n",
      "+------+-------+------+----------+\n",
      "|    10|    296|   1.0|  2.022656|\n",
      "|    10|    356|   3.5| 3.7200947|\n",
      "|    10|    588|   4.0| 3.3394587|\n",
      "|    10|    912|   4.0| 3.4187894|\n",
      "|    10|   2671|   3.5| 3.3281434|\n",
      "|    10|   4306|   4.5|  3.319521|\n",
      "|    10|   5957|   3.0| 3.2033124|\n",
      "|    10|   6535|   4.0| 2.3917892|\n",
      "|    10|   7293|   3.5|   4.02743|\n",
      "|    10|  31433|   2.5| 3.8346786|\n",
      "|    10|  40819|   4.0|  3.014394|\n",
      "|    10|  49286|   5.0| 3.8277862|\n",
      "|    10|  51662|   3.0|  3.049507|\n",
      "|    10|  51705|   4.5| 3.0408254|\n",
      "|    10|  56367|   3.5| 3.4707341|\n",
      "|    10|  56949|   3.0| 3.4603763|\n",
      "|    10|  64969|   0.5| 3.5690844|\n",
      "|    10|  68954|   4.0| 3.4042344|\n",
      "|    10|  70293|   0.5|  2.857835|\n",
      "|    10|  72011|   2.5| 2.6984928|\n",
      "+------+-------+------+----------+\n",
      "only showing top 20 rows\n",
      "\n"
     ]
    }
   ],
   "source": [
    "billy_preds.sort('movieId').show()"
   ]
  },
  {
   "cell_type": "code",
   "execution_count": 57,
   "metadata": {
    "slideshow": {
     "slide_type": "slide"
    }
   },
   "outputs": [
    {
     "name": "stdout",
     "output_type": "stream",
     "text": [
      "296,Pulp Fiction (1994),Comedy|Crime|Drama|Thriller\r",
      "\r\n",
      "1296,\"Room with a View, A (1986)\",Drama|Romance\r",
      "\r\n",
      "2296,\"Night at the Roxbury, A (1998)\",Comedy\r",
      "\r\n",
      "2961,\"Story of Us, The (1999)\",Comedy|Drama\r",
      "\r\n",
      "2962,Fever Pitch (1997),Comedy|Romance\r",
      "\r\n",
      "2964,Julien Donkey-Boy (1999),Drama\r",
      "\r\n",
      "2965,\"Omega Code, The (1999)\",Action\r",
      "\r\n",
      "2966,\"Straight Story, The (1999)\",Adventure|Drama\r",
      "\r\n",
      "2967,\"Bad Seed, The (1956)\",Drama|Thriller\r",
      "\r\n",
      "2968,Time Bandits (1981),Adventure|Comedy|Fantasy|Sci-Fi\r",
      "\r\n",
      "2969,\"Man and a Woman, A (Un homme et une femme) (1966)\",Drama|Romance\r",
      "\r\n",
      "3296,To Sir with Love (1967),Drama\r",
      "\r\n",
      "4296,Love Story (1970),Drama|Romance\r",
      "\r\n",
      "5296,\"Sweetest Thing, The (2002)\",Comedy|Romance\r",
      "\r\n",
      "6296,\"Mighty Wind, A (2003)\",Comedy|Musical\r",
      "\r\n",
      "32296,Miss Congeniality 2: Armed and Fabulous (2005),Adventure|Comedy|Crime\r",
      "\r\n",
      "52967,Away from Her (2006),Drama\r",
      "\r\n",
      "98296,Deadfall (2012),Crime|Drama|Thriller\r",
      "\r\n",
      "129657,Tracers (2015),Action\r",
      "\r\n",
      "129659,\"McFarland, USA (2015)\",Drama\r",
      "\r\n",
      "142961,Life Eternal (2015),Comedy|Crime|Thriller\r",
      "\r\n",
      "157296,Finding Dory (2016),Adventure|Animation|Comedy\r",
      "\r\n",
      "162968,Kizumonogatari Part 1: Tekketsu (2016),Action|Animation|Mystery\r",
      "\r\n",
      "167296,Iron Man (1931),Drama\r",
      "\r\n"
     ]
    }
   ],
   "source": [
    "!grep 296 < data/movies.csv"
   ]
  },
  {
   "cell_type": "markdown",
   "metadata": {
    "slideshow": {
     "slide_type": "slide"
    }
   },
   "source": [
    "## Okay, what *will* Billy like?"
   ]
  },
  {
   "cell_type": "code",
   "execution_count": 58,
   "metadata": {
    "slideshow": {
     "slide_type": "slide"
    }
   },
   "outputs": [],
   "source": [
    "recs = als_model.recommendForAllUsers(numItems=10)"
   ]
  },
  {
   "cell_type": "code",
   "execution_count": 59,
   "metadata": {
    "slideshow": {
     "slide_type": "slide"
    }
   },
   "outputs": [
    {
     "data": {
      "text/plain": [
       "[Row(movieId=7018, rating=5.385290145874023),\n",
       " Row(movieId=32892, rating=5.0265421867370605),\n",
       " Row(movieId=6732, rating=4.86475133895874),\n",
       " Row(movieId=67618, rating=4.6341376304626465),\n",
       " Row(movieId=8869, rating=4.600409984588623),\n",
       " Row(movieId=74946, rating=4.589346885681152),\n",
       " Row(movieId=71579, rating=4.523812294006348),\n",
       " Row(movieId=3086, rating=4.487799644470215),\n",
       " Row(movieId=6944, rating=4.477414131164551),\n",
       " Row(movieId=140110, rating=4.477058410644531)]"
      ]
     },
     "execution_count": 59,
     "metadata": {},
     "output_type": "execute_result"
    }
   ],
   "source": [
    "recs[recs['userId']==10].first()['recommendations']"
   ]
  },
  {
   "cell_type": "code",
   "execution_count": 60,
   "metadata": {
    "slideshow": {
     "slide_type": "slide"
    }
   },
   "outputs": [
    {
     "name": "stdout",
     "output_type": "stream",
     "text": [
      "3086,Babes in Toyland (1934),Children|Comedy|Fantasy|Musical\r",
      "\r\n",
      "83086,Burlesque (2010),Drama|Musical|Romance\r",
      "\r\n"
     ]
    }
   ],
   "source": [
    "!grep 3086 < data/movies.csv"
   ]
  },
  {
   "cell_type": "markdown",
   "metadata": {
    "slideshow": {
     "slide_type": "slide"
    }
   },
   "source": [
    "## Objective Review\n",
    "\n",
    "* Identify the key components of the ALS \n",
    "* Demonstrate an understanding on how recommendation systems are being used for personalization of online services/products\n",
    "* Parse and filter datasets into Spark DataFrame, performing basic feature selection\n",
    "* Run a brief hyper-parameter selection activity through a scalable grid search\n",
    "* Train and evaluate the predictive performance of recommendation system\n",
    "* Generate predictions from the trained model"
   ]
  },
  {
   "cell_type": "markdown",
   "metadata": {
    "slideshow": {
     "slide_type": "slide"
    }
   },
   "source": [
    "## Some great technical resources:\n",
    "\n",
    "- [Stanford ALS Theory and Implementation](http://stanford.edu/~rezab/classes/cme323/S15/notes/lec14.pdf)\n",
    "- [The Netflix Recommendation Project](https://www.netflixprize.com/assets/GrandPrize2009_BPC_BellKor.pdf)"
   ]
  }
 ],
 "metadata": {
  "celltoolbar": "Slideshow",
  "kernelspec": {
   "display_name": "Python 3",
   "language": "python",
   "name": "python3"
  },
  "language_info": {
   "codemirror_mode": {
    "name": "ipython",
    "version": 3
   },
   "file_extension": ".py",
   "mimetype": "text/x-python",
   "name": "python",
   "nbconvert_exporter": "python",
   "pygments_lexer": "ipython3",
   "version": "3.7.6"
  }
 },
 "nbformat": 4,
 "nbformat_minor": 2
}
